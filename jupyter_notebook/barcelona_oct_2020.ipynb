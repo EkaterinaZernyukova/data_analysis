{
 "cells": [
  {
   "cell_type": "raw",
   "metadata": {},
   "source": [
    "Исследование взаимосвязи между несколькими переменными.\n",
    "Выявление факторов наиболее и наименее влияющих на стоимость аренды недвижимости в Барселоне."
   ]
  },
  {
   "cell_type": "code",
   "execution_count": 1,
   "metadata": {},
   "outputs": [],
   "source": [
    "import numpy as np\n",
    "import pandas as pd\n",
    "\n",
    "from scipy import polyval, stats\n",
    "import math\n",
    "from statsmodels.graphics.mosaicplot import mosaic\n",
    "import statsmodels.formula.api as sf\n",
    "import statsmodels.api as sm\n",
    "\n",
    "import seaborn as sns\n",
    "sns.set()\n",
    "import matplotlib.pyplot as plt\n",
    "\n",
    "from collections import Counter"
   ]
  },
  {
   "cell_type": "code",
   "execution_count": 2,
   "metadata": {},
   "outputs": [],
   "source": [
    "%matplotlib inline\n",
    "plt.style.use('ggplot')\n",
    "plt.rcParams['figure.figsize'] = (15, 5)\n",
    "plt.rcParams[\"font.family\"] = \"sans-serif\""
   ]
  },
  {
   "cell_type": "code",
   "execution_count": 3,
   "metadata": {},
   "outputs": [],
   "source": [
    "df = pd.read_csv(\"../Tasks/Barcelona airbnb 10.2020.csv\")"
   ]
  },
  {
   "cell_type": "code",
   "execution_count": 4,
   "metadata": {},
   "outputs": [
    {
     "data": {
      "text/html": [
       "<div>\n",
       "<style scoped>\n",
       "    .dataframe tbody tr th:only-of-type {\n",
       "        vertical-align: middle;\n",
       "    }\n",
       "\n",
       "    .dataframe tbody tr th {\n",
       "        vertical-align: top;\n",
       "    }\n",
       "\n",
       "    .dataframe thead th {\n",
       "        text-align: right;\n",
       "    }\n",
       "</style>\n",
       "<table border=\"1\" class=\"dataframe\">\n",
       "  <thead>\n",
       "    <tr style=\"text-align: right;\">\n",
       "      <th></th>\n",
       "      <th>id</th>\n",
       "      <th>name</th>\n",
       "      <th>host_id</th>\n",
       "      <th>host_name</th>\n",
       "      <th>neighbourhood_group</th>\n",
       "      <th>neighbourhood</th>\n",
       "      <th>latitude</th>\n",
       "      <th>longitude</th>\n",
       "      <th>room_type</th>\n",
       "      <th>price</th>\n",
       "      <th>minimum_nights</th>\n",
       "      <th>number_of_reviews</th>\n",
       "      <th>last_review</th>\n",
       "      <th>reviews_per_month</th>\n",
       "      <th>calculated_host_listings_count</th>\n",
       "      <th>availability_365</th>\n",
       "    </tr>\n",
       "  </thead>\n",
       "  <tbody>\n",
       "    <tr>\n",
       "      <th>0</th>\n",
       "      <td>21974</td>\n",
       "      <td>Comf. double room/private bathroom</td>\n",
       "      <td>73163</td>\n",
       "      <td>Andres</td>\n",
       "      <td>Ciutat Vella</td>\n",
       "      <td>el Barri Gòtic</td>\n",
       "      <td>41.37973</td>\n",
       "      <td>2.17631</td>\n",
       "      <td>Private room</td>\n",
       "      <td>55</td>\n",
       "      <td>3</td>\n",
       "      <td>2</td>\n",
       "      <td>2017-11-06</td>\n",
       "      <td>0.05</td>\n",
       "      <td>3</td>\n",
       "      <td>139</td>\n",
       "    </tr>\n",
       "    <tr>\n",
       "      <th>1</th>\n",
       "      <td>23197</td>\n",
       "      <td>Forum DeLuxe 5 mins Walk  To CCIB Center &amp; Sea★</td>\n",
       "      <td>90417</td>\n",
       "      <td>Etain (Marnie)</td>\n",
       "      <td>Sant Martí</td>\n",
       "      <td>el Besòs i el Maresme</td>\n",
       "      <td>41.41291</td>\n",
       "      <td>2.22063</td>\n",
       "      <td>Entire home/apt</td>\n",
       "      <td>180</td>\n",
       "      <td>3</td>\n",
       "      <td>52</td>\n",
       "      <td>2019-12-15</td>\n",
       "      <td>0.45</td>\n",
       "      <td>2</td>\n",
       "      <td>358</td>\n",
       "    </tr>\n",
       "    <tr>\n",
       "      <th>2</th>\n",
       "      <td>32711</td>\n",
       "      <td>Sagrada Familia area - Còrsega 1</td>\n",
       "      <td>135703</td>\n",
       "      <td>Nick</td>\n",
       "      <td>Gràcia</td>\n",
       "      <td>el Camp d'en Grassot i Gràcia Nova</td>\n",
       "      <td>41.40566</td>\n",
       "      <td>2.17015</td>\n",
       "      <td>Entire home/apt</td>\n",
       "      <td>109</td>\n",
       "      <td>2</td>\n",
       "      <td>63</td>\n",
       "      <td>2020-02-22</td>\n",
       "      <td>0.56</td>\n",
       "      <td>5</td>\n",
       "      <td>0</td>\n",
       "    </tr>\n",
       "    <tr>\n",
       "      <th>3</th>\n",
       "      <td>34241</td>\n",
       "      <td>Private Double room - Plaza Real</td>\n",
       "      <td>73163</td>\n",
       "      <td>Andres</td>\n",
       "      <td>Ciutat Vella</td>\n",
       "      <td>el Barri Gòtic</td>\n",
       "      <td>41.37916</td>\n",
       "      <td>2.17535</td>\n",
       "      <td>Private room</td>\n",
       "      <td>40</td>\n",
       "      <td>30</td>\n",
       "      <td>8</td>\n",
       "      <td>2013-07-15</td>\n",
       "      <td>0.06</td>\n",
       "      <td>3</td>\n",
       "      <td>0</td>\n",
       "    </tr>\n",
       "    <tr>\n",
       "      <th>4</th>\n",
       "      <td>34981</td>\n",
       "      <td>VIDRE HOME PLAZA REAL on LAS RAMBLAS</td>\n",
       "      <td>73163</td>\n",
       "      <td>Andres</td>\n",
       "      <td>Ciutat Vella</td>\n",
       "      <td>el Barri Gòtic</td>\n",
       "      <td>41.37978</td>\n",
       "      <td>2.17623</td>\n",
       "      <td>Entire home/apt</td>\n",
       "      <td>131</td>\n",
       "      <td>4</td>\n",
       "      <td>149</td>\n",
       "      <td>2020-03-11</td>\n",
       "      <td>1.22</td>\n",
       "      <td>3</td>\n",
       "      <td>92</td>\n",
       "    </tr>\n",
       "  </tbody>\n",
       "</table>\n",
       "</div>"
      ],
      "text/plain": [
       "      id                                             name  host_id  \\\n",
       "0  21974               Comf. double room/private bathroom    73163   \n",
       "1  23197  Forum DeLuxe 5 mins Walk  To CCIB Center & Sea★    90417   \n",
       "2  32711                 Sagrada Familia area - Còrsega 1   135703   \n",
       "3  34241                 Private Double room - Plaza Real    73163   \n",
       "4  34981             VIDRE HOME PLAZA REAL on LAS RAMBLAS    73163   \n",
       "\n",
       "        host_name neighbourhood_group                       neighbourhood  \\\n",
       "0          Andres        Ciutat Vella                      el Barri Gòtic   \n",
       "1  Etain (Marnie)          Sant Martí               el Besòs i el Maresme   \n",
       "2            Nick              Gràcia  el Camp d'en Grassot i Gràcia Nova   \n",
       "3          Andres        Ciutat Vella                      el Barri Gòtic   \n",
       "4          Andres        Ciutat Vella                      el Barri Gòtic   \n",
       "\n",
       "   latitude  longitude        room_type  price  minimum_nights  \\\n",
       "0  41.37973    2.17631     Private room     55               3   \n",
       "1  41.41291    2.22063  Entire home/apt    180               3   \n",
       "2  41.40566    2.17015  Entire home/apt    109               2   \n",
       "3  41.37916    2.17535     Private room     40              30   \n",
       "4  41.37978    2.17623  Entire home/apt    131               4   \n",
       "\n",
       "   number_of_reviews last_review  reviews_per_month  \\\n",
       "0                  2  2017-11-06               0.05   \n",
       "1                 52  2019-12-15               0.45   \n",
       "2                 63  2020-02-22               0.56   \n",
       "3                  8  2013-07-15               0.06   \n",
       "4                149  2020-03-11               1.22   \n",
       "\n",
       "   calculated_host_listings_count  availability_365  \n",
       "0                               3               139  \n",
       "1                               2               358  \n",
       "2                               5                 0  \n",
       "3                               3                 0  \n",
       "4                               3                92  "
      ]
     },
     "execution_count": 4,
     "metadata": {},
     "output_type": "execute_result"
    }
   ],
   "source": [
    "df.head()"
   ]
  },
  {
   "cell_type": "raw",
   "metadata": {},
   "source": [
    "                                     Numeric columns"
   ]
  },
  {
   "cell_type": "code",
   "execution_count": 5,
   "metadata": {},
   "outputs": [
    {
     "name": "stdout",
     "output_type": "stream",
     "text": [
      "['id' 'host_id' 'latitude' 'longitude' 'price' 'minimum_nights'\n",
      " 'number_of_reviews' 'reviews_per_month' 'calculated_host_listings_count'\n",
      " 'availability_365']\n"
     ]
    }
   ],
   "source": [
    "df_numeric = df.select_dtypes(include=[np.number])\n",
    "numeric_cols = df_numeric.columns.values\n",
    "print(numeric_cols)"
   ]
  },
  {
   "cell_type": "markdown",
   "metadata": {},
   "source": [
    "                                  Shape and data types of the data"
   ]
  },
  {
   "cell_type": "code",
   "execution_count": 6,
   "metadata": {},
   "outputs": [
    {
     "data": {
      "text/plain": [
       "(19896, 16)"
      ]
     },
     "execution_count": 6,
     "metadata": {},
     "output_type": "execute_result"
    }
   ],
   "source": [
    "df.shape"
   ]
  },
  {
   "cell_type": "code",
   "execution_count": 7,
   "metadata": {},
   "outputs": [
    {
     "name": "stdout",
     "output_type": "stream",
     "text": [
      "<class 'pandas.core.frame.DataFrame'>\n",
      "RangeIndex: 19896 entries, 0 to 19895\n",
      "Data columns (total 16 columns):\n",
      " #   Column                          Non-Null Count  Dtype  \n",
      "---  ------                          --------------  -----  \n",
      " 0   id                              19896 non-null  int64  \n",
      " 1   name                            19884 non-null  object \n",
      " 2   host_id                         19896 non-null  int64  \n",
      " 3   host_name                       19889 non-null  object \n",
      " 4   neighbourhood_group             19896 non-null  object \n",
      " 5   neighbourhood                   19896 non-null  object \n",
      " 6   latitude                        19896 non-null  float64\n",
      " 7   longitude                       19896 non-null  float64\n",
      " 8   room_type                       19896 non-null  object \n",
      " 9   price                           19896 non-null  int64  \n",
      " 10  minimum_nights                  19896 non-null  int64  \n",
      " 11  number_of_reviews               19896 non-null  int64  \n",
      " 12  last_review                     14019 non-null  object \n",
      " 13  reviews_per_month               14019 non-null  float64\n",
      " 14  calculated_host_listings_count  19896 non-null  int64  \n",
      " 15  availability_365                19896 non-null  int64  \n",
      "dtypes: float64(3), int64(7), object(6)\n",
      "memory usage: 2.4+ MB\n"
     ]
    }
   ],
   "source": [
    "df.info()"
   ]
  },
  {
   "cell_type": "raw",
   "metadata": {},
   "source": [
    "Согласно общему описанию данных (info) в 4х столбцах: name, host_name, last_review, reviews_per_month \n",
    "отсутствует часть значений. \n",
    "Для оценки объема отсутствующих значений и выбора метода их обработки необходимо провести расчет доли отсутствующих значений, учитывая тип данных и содержание."
   ]
  },
  {
   "cell_type": "code",
   "execution_count": 8,
   "metadata": {},
   "outputs": [
    {
     "name": "stdout",
     "output_type": "stream",
     "text": [
      "id - 0%\n",
      "name - 0%\n",
      "host_id - 0%\n",
      "host_name - 0%\n",
      "neighbourhood_group - 0%\n",
      "neighbourhood - 0%\n",
      "latitude - 0%\n",
      "longitude - 0%\n",
      "room_type - 0%\n",
      "price - 0%\n",
      "minimum_nights - 0%\n",
      "number_of_reviews - 0%\n",
      "last_review - 30%\n",
      "reviews_per_month - 30%\n",
      "calculated_host_listings_count - 0%\n",
      "availability_365 - 0%\n"
     ]
    }
   ],
   "source": [
    "# Список долей отсутствующих записей для каждого признака\n",
    "for col in df.columns:\n",
    "    pct_missing = np.mean(df[col].isnull())\n",
    "    print('{} - {}%'.format(col, round(pct_missing * 100)))"
   ]
  },
  {
   "cell_type": "raw",
   "metadata": {},
   "source": [
    "Пропуски данных типа object в столбцах name и host_name, составляющие менее 1%, поэтому допустимо заменить пропуски условным значением MISSING.\n",
    "\n",
    "Пропуски данных 30% присутствуют у признаков last_review и reviews_per_month. \n",
    "Данные могут отсутствовать в связи с отсутствием отзывов об объектах, либо значения действительно были пропущены.\n",
    "Необходимо найти признаки влияющие на отзывы и оценить вероятность пропусков, а не отсутствия отзывов."
   ]
  },
  {
   "cell_type": "markdown",
   "metadata": {},
   "source": [
    "                                    Data cleaning"
   ]
  },
  {
   "cell_type": "markdown",
   "metadata": {},
   "source": [
    "### Отсутствующие данные"
   ]
  },
  {
   "cell_type": "raw",
   "metadata": {},
   "source": [
    "Внесение недостающих значений в столбцы name и host_name"
   ]
  },
  {
   "cell_type": "code",
   "execution_count": 9,
   "metadata": {},
   "outputs": [],
   "source": [
    "df['name'] = df['name'].fillna('MISSING')\n",
    "df['host_name'] = df['host_name'].fillna('MISSING')"
   ]
  },
  {
   "cell_type": "code",
   "execution_count": 10,
   "metadata": {},
   "outputs": [
    {
     "data": {
      "text/plain": [
       "1869    MISSING\n",
       "2285    MISSING\n",
       "2685    MISSING\n",
       "2698    MISSING\n",
       "2804    MISSING\n",
       "2890    MISSING\n",
       "3001    MISSING\n",
       "3012    MISSING\n",
       "3358    MISSING\n",
       "4533    MISSING\n",
       "4561    MISSING\n",
       "4661    MISSING\n",
       "Name: name, dtype: object"
      ]
     },
     "execution_count": 10,
     "metadata": {},
     "output_type": "execute_result"
    }
   ],
   "source": [
    "# проверка заполнения недостающих значений 'name'\n",
    "missing_df = df['name'].str.contains('MISSING')\n",
    "df[missing_df]['name']"
   ]
  },
  {
   "cell_type": "raw",
   "metadata": {},
   "source": [
    "Отсутствующие значения на тепловой карте"
   ]
  },
  {
   "cell_type": "code",
   "execution_count": 11,
   "metadata": {},
   "outputs": [
    {
     "data": {
      "image/png": "[encoded data removed]",
      "text/plain": [
       "<Figure size 1080x360 with 2 Axes>"
      ]
     },
     "metadata": {},
     "output_type": "display_data"
    }
   ],
   "source": [
    "cols = df.columns\n",
    "colours = ['#005522', '#ffff00']\n",
    "# желтый - пропущенные данные\n",
    "sns.heatmap(df[cols].isnull(), cmap=sns.color_palette(colours));"
   ]
  },
  {
   "cell_type": "raw",
   "metadata": {},
   "source": [
    "На тепловой карте наблюдаются пропуски данных для last_review и reviews_per_month в одних и тех же строках.\n",
    "Так как параметр last_review имеет тип object и содержит сведения о дате последнего отзыва, очевидно last_review связан с reviews_per_month."
   ]
  },
  {
   "cell_type": "markdown",
   "metadata": {},
   "source": [
    "Диаграмма корреляции для визуального просмотра метрики корреляции между всеми возможными парами числовых переменных в данном наборе данных "
   ]
  },
  {
   "cell_type": "code",
   "execution_count": 12,
   "metadata": {},
   "outputs": [
    {
     "data": {
      "image/png": "[encoded data removed]",
      "text/plain": [
       "<Figure size 576x576 with 2 Axes>"
      ]
     },
     "metadata": {},
     "output_type": "display_data"
    }
   ],
   "source": [
    "# матрица корреляции между атрибутами объекта\n",
    "fig, ax = plt.subplots(figsize=(8, 8))\n",
    "corr = df[[\n",
    "    'id', 'host_id', 'latitude', 'longitude', 'price', 'minimum_nights',\n",
    "    'number_of_reviews', 'reviews_per_month', 'calculated_host_listings_count',\n",
    "    'availability_365'\n",
    "]].corr()\n",
    "mask = np.zeros_like(corr)\n",
    "mask[np.triu_indices_from(mask)] = True\n",
    "with sns.axes_style(\"dark\"):\n",
    "    ax = sns.heatmap(corr,\n",
    "                     mask=mask,\n",
    "                     square=True,\n",
    "                     cbar=True,\n",
    "                     annot=True,\n",
    "                     linewidths=3)"
   ]
  },
  {
   "cell_type": "raw",
   "metadata": {},
   "source": [
    "Согласно диагамме корреляции наибольшая зависимость у количественного параметра reviews_per_month наблюдается с number_of_reviews = 0,78.\n",
    "Необходимо оценить какие значения принимает number_of_reviews при отсутствии значений зависимого параметра reviews_per_month."
   ]
  },
  {
   "cell_type": "code",
   "execution_count": 13,
   "metadata": {},
   "outputs": [
    {
     "data": {
      "text/plain": [
       "5877"
      ]
     },
     "execution_count": 13,
     "metadata": {},
     "output_type": "execute_result"
    }
   ],
   "source": [
    "#фильтр по пустым ячейкам в столбце reviews_per_month\n",
    "filtered_nullable = df[df['reviews_per_month'].isnull()]\n",
    "len(filtered_nullable)"
   ]
  },
  {
   "cell_type": "code",
   "execution_count": 14,
   "metadata": {},
   "outputs": [
    {
     "data": {
      "text/plain": [
       "0    5877\n",
       "Name: number_of_reviews, dtype: int64"
      ]
     },
     "execution_count": 14,
     "metadata": {},
     "output_type": "execute_result"
    }
   ],
   "source": [
    "#выбор 2х столбцов по заданному фильтру\n",
    "filtered_nullable = filtered_nullable[[\n",
    "    'number_of_reviews', 'reviews_per_month'\n",
    "]]\n",
    "# количество отзывов при нулевом значении параметра в месяц\n",
    "filtered_nullable['number_of_reviews'].value_counts()"
   ]
  },
  {
   "cell_type": "raw",
   "metadata": {},
   "source": [
    "При отсутствии значений параметра reviews_per_month, у параметра number_of_reviews наблюдается нулевое значение, следовательно столбец reviews_per_month не содержит какие-либо данные в том случае, когда отсутствуют отзывы об объектах. Соответственно, для столбца reviews_per_month допустимо заменить пропуски значением 0.\n",
    "\n",
    "Согласно установленной по тепловой карте взаимосвязи между reviews_per_month и last_review, при значении 0 для reviews_per_month, значение параметра last_review допустимо не заполнять для приведения в соответствие с типом данных datetime."
   ]
  },
  {
   "cell_type": "code",
   "execution_count": 15,
   "metadata": {},
   "outputs": [],
   "source": [
    "df['reviews_per_month'] = df['reviews_per_month'].fillna(0)"
   ]
  },
  {
   "cell_type": "raw",
   "metadata": {},
   "source": [
    "          Проверка долей отсутствующих записей для каждого признака после внесения недостающих значений"
   ]
  },
  {
   "cell_type": "code",
   "execution_count": 16,
   "metadata": {},
   "outputs": [
    {
     "name": "stdout",
     "output_type": "stream",
     "text": [
      "id - 0%\n",
      "name - 0%\n",
      "host_id - 0%\n",
      "host_name - 0%\n",
      "neighbourhood_group - 0%\n",
      "neighbourhood - 0%\n",
      "latitude - 0%\n",
      "longitude - 0%\n",
      "room_type - 0%\n",
      "price - 0%\n",
      "minimum_nights - 0%\n",
      "number_of_reviews - 0%\n",
      "last_review - 30%\n",
      "reviews_per_month - 0%\n",
      "calculated_host_listings_count - 0%\n",
      "availability_365 - 0%\n"
     ]
    }
   ],
   "source": [
    "for col in df.columns:\n",
    "    pct_missing = np.mean(df[col].isnull())\n",
    "    print('{} - {}%'.format(col, round(pct_missing * 100)))"
   ]
  },
  {
   "cell_type": "raw",
   "metadata": {},
   "source": [
    "Устранено отсутствие записей в списке данных внесением недостающих значений."
   ]
  },
  {
   "cell_type": "markdown",
   "metadata": {},
   "source": [
    "### Нетипичные данные (выбросы)"
   ]
  },
  {
   "cell_type": "raw",
   "metadata": {},
   "source": [
    "Для ответа на ключевой вопрос о взаимосвязи необходимо рассмотреть каждый параметр данных, оценить согласованность данных, установить зависимости, провести оценку их значимости и устранить противоречия."
   ]
  },
  {
   "cell_type": "raw",
   "metadata": {},
   "source": [
    "Описательная статистика для всех числовых данных"
   ]
  },
  {
   "cell_type": "code",
   "execution_count": 17,
   "metadata": {},
   "outputs": [
    {
     "data": {
      "text/plain": [
       "count    19896.000000\n",
       "mean        85.995074\n",
       "std        207.216127\n",
       "min          0.000000\n",
       "25%         34.000000\n",
       "50%         54.000000\n",
       "75%         93.000000\n",
       "max      10000.000000\n",
       "Name: price, dtype: float64"
      ]
     },
     "execution_count": 17,
     "metadata": {},
     "output_type": "execute_result"
    }
   ],
   "source": [
    "df['price'].describe()"
   ]
  },
  {
   "cell_type": "code",
   "execution_count": 18,
   "metadata": {},
   "outputs": [
    {
     "data": {
      "text/plain": [
       "54.0"
      ]
     },
     "execution_count": 18,
     "metadata": {},
     "output_type": "execute_result"
    }
   ],
   "source": [
    "df['price'].median()"
   ]
  },
  {
   "cell_type": "code",
   "execution_count": 19,
   "metadata": {},
   "outputs": [
    {
     "data": {
      "text/plain": [
       "50"
      ]
     },
     "execution_count": 19,
     "metadata": {},
     "output_type": "execute_result"
    }
   ],
   "source": [
    "df['price'].mode()[0]"
   ]
  },
  {
   "cell_type": "raw",
   "metadata": {},
   "source": [
    "Максимальное значение признака price значительно отличается от средних значений, что свидетельствует о наличии выбросов. Минимальное значение 0 так же не является информативным для оценки данных, поэтому его можно исключить."
   ]
  },
  {
   "cell_type": "code",
   "execution_count": 20,
   "metadata": {},
   "outputs": [
    {
     "data": {
      "image/png": "[encoded data removed]",
      "text/plain": [
       "<Figure size 1080x360 with 1 Axes>"
      ]
     },
     "metadata": {},
     "output_type": "display_data"
    }
   ],
   "source": [
    "df['price'].hist(bins=200);"
   ]
  },
  {
   "cell_type": "markdown",
   "metadata": {},
   "source": [
    "Отрицательно-биномиальная распределение"
   ]
  },
  {
   "cell_type": "code",
   "execution_count": 21,
   "metadata": {},
   "outputs": [
    {
     "data": {
      "image/png": "[encoded data removed]",
      "text/plain": [
       "<Figure size 1080x360 with 1 Axes>"
      ]
     },
     "metadata": {},
     "output_type": "display_data"
    }
   ],
   "source": [
    "df[\"price\"].plot();"
   ]
  },
  {
   "cell_type": "code",
   "execution_count": 22,
   "metadata": {},
   "outputs": [
    {
     "name": "stderr",
     "output_type": "stream",
     "text": [
      "/home/kate/.local/lib/python3.8/site-packages/seaborn/_decorators.py:36: FutureWarning: Pass the following variable as a keyword arg: x. From version 0.12, the only valid positional argument will be `data`, and passing other arguments without an explicit keyword will result in an error or misinterpretation.\n",
      "  warnings.warn(\n"
     ]
    },
    {
     "data": {
      "image/png": "[encoded data removed]",
      "text/plain": [
       "<Figure size 1080x360 with 1 Axes>"
      ]
     },
     "metadata": {},
     "output_type": "display_data"
    }
   ],
   "source": [
    "sns.boxplot(df['price'], orient=\"h\");"
   ]
  },
  {
   "cell_type": "raw",
   "metadata": {},
   "source": [
    "На графике boxplot присутствует значительное количетсво нетипичных данных. \n",
    "Но для параметра price нетипичные данные могут быть классом элитной недвижимоти, либо недвижимости с длительной арендой для которой стоимость указана за минимальный срок аренды."
   ]
  },
  {
   "cell_type": "raw",
   "metadata": {},
   "source": [
    "Нетипичные данные на boxplot следуют за верхней границей распределения данных равной крайнему значению 4го интервала данных (1.5 межквартильных диапазона), \n",
    "но учитывая, отрицательно-биномиальное, а не нормальное распределение, z оценка и межквартильные диапазоны не будут информативны."
   ]
  },
  {
   "cell_type": "raw",
   "metadata": {},
   "source": [
    "Данные содержат параметр availability_365 по которому часть недвижимости имеет значение 0, следовательно место недоступно для бронирования в связи с наличием брони на ближайшие 365 дней, либо хозяин не планирует размещать гостей в ближайшее время.\n",
    "Если принять данные в качестве маркера, что недвижимость забронирована, то по данному параметру можно проанализировать наиболее востребованное жилье."
   ]
  },
  {
   "cell_type": "code",
   "execution_count": 23,
   "metadata": {},
   "outputs": [
    {
     "name": "stderr",
     "output_type": "stream",
     "text": [
      "/home/kate/.local/lib/python3.8/site-packages/seaborn/_decorators.py:36: FutureWarning: Pass the following variable as a keyword arg: x. From version 0.12, the only valid positional argument will be `data`, and passing other arguments without an explicit keyword will result in an error or misinterpretation.\n",
      "  warnings.warn(\n"
     ]
    },
    {
     "data": {
      "image/png": "[encoded data removed]",
      "text/plain": [
       "<Figure size 1080x360 with 1 Axes>"
      ]
     },
     "metadata": {},
     "output_type": "display_data"
    }
   ],
   "source": [
    "sns.boxplot(df['minimum_nights'], orient=\"h\");"
   ]
  },
  {
   "cell_type": "code",
   "execution_count": 24,
   "metadata": {},
   "outputs": [
    {
     "data": {
      "image/png": "[encoded data removed]",
      "text/plain": [
       "<Figure size 1080x360 with 1 Axes>"
      ]
     },
     "metadata": {},
     "output_type": "display_data"
    }
   ],
   "source": [
    "df['availability_365'].hist(bins=50);"
   ]
  },
  {
   "cell_type": "raw",
   "metadata": {},
   "source": [
    "Столбчатая диаграмма для визуализации данных о категориях и их распределении"
   ]
  },
  {
   "cell_type": "code",
   "execution_count": 25,
   "metadata": {},
   "outputs": [
    {
     "ename": "NameError",
     "evalue": "name 'filtered_emissions' is not defined",
     "output_type": "error",
     "traceback": [
      "\u001b[0;31m---------------------------------------------------------------------------\u001b[0m",
      "\u001b[0;31mNameError\u001b[0m                                 Traceback (most recent call last)",
      "\u001b[0;32m<ipython-input-25-91c55eb61788>\u001b[0m in \u001b[0;36m<module>\u001b[0;34m\u001b[0m\n\u001b[0;32m----> 1\u001b[0;31m \u001b[0mfiltered_emissions\u001b[0m\u001b[0;34m[\u001b[0m\u001b[0;34m'neighbourhood_group'\u001b[0m\u001b[0;34m]\u001b[0m\u001b[0;34m.\u001b[0m\u001b[0mvalue_counts\u001b[0m\u001b[0;34m(\u001b[0m\u001b[0;34m)\u001b[0m\u001b[0;34m.\u001b[0m\u001b[0mplot\u001b[0m\u001b[0;34m.\u001b[0m\u001b[0mbar\u001b[0m\u001b[0;34m(\u001b[0m\u001b[0;34m)\u001b[0m\u001b[0;34m;\u001b[0m\u001b[0;34m\u001b[0m\u001b[0;34m\u001b[0m\u001b[0m\n\u001b[0m",
      "\u001b[0;31mNameError\u001b[0m: name 'filtered_emissions' is not defined"
     ]
    }
   ],
   "source": [
    "filtered_emissions['neighbourhood_group'].value_counts().plot.bar();"
   ]
  },
  {
   "cell_type": "code",
   "execution_count": null,
   "metadata": {},
   "outputs": [],
   "source": [
    "df['neighbourhood_group'].value_counts().plot.bar();"
   ]
  },
  {
   "cell_type": "code",
   "execution_count": null,
   "metadata": {},
   "outputs": [],
   "source": [
    "filtered_emissions['neighbourhood_group'].value_counts()"
   ]
  },
  {
   "cell_type": "markdown",
   "metadata": {},
   "source": [
    "### Качество данных \n",
    "насколько данные пригодны для использования"
   ]
  },
  {
   "cell_type": "raw",
   "metadata": {},
   "source": [
    "Факторы для измерения качества данных: \n",
    "Достоверность данных - типы данных приведены в соответствие, значения соответствуют названию \n"
   ]
  },
  {
   "cell_type": "markdown",
   "metadata": {},
   "source": [
    "### Неинформативные признаки"
   ]
  },
  {
   "cell_type": "raw",
   "metadata": {},
   "source": [
    "Наличие повторяющихся значений в параметре id"
   ]
  },
  {
   "cell_type": "code",
   "execution_count": null,
   "metadata": {},
   "outputs": [],
   "source": [
    "[k for k,v in Counter(df[\"id\"]).items() if v>1]"
   ]
  },
  {
   "cell_type": "raw",
   "metadata": {},
   "source": [
    "Повторений не обнаружено, все id уникальны"
   ]
  },
  {
   "cell_type": "markdown",
   "metadata": {},
   "source": [
    "### Нерелевантные признаки"
   ]
  },
  {
   "cell_type": "markdown",
   "metadata": {},
   "source": [
    "### Разные форматы данных"
   ]
  },
  {
   "cell_type": "code",
   "execution_count": null,
   "metadata": {},
   "outputs": [],
   "source": [
    "df['last_review_dt'] = pd.to_datetime(df['last_review'], format='%Y-%m-%d')"
   ]
  },
  {
   "cell_type": "code",
   "execution_count": null,
   "metadata": {},
   "outputs": [],
   "source": [
    "# Разные регистры символов\n",
    "df['name'] = df['name'].str.lower() #нижний регистр для всех строк\n",
    "df['name'] = df['name'].str.strip() #удаление символов в начале и конце строки\n",
    "df['name'] = df['name'].str.replace('\\\\.', '') #удаление точек\n",
    "df['name'] = df['name'].str.replace('\\\\bstreet\\\\b', 'st') # введение сокращения"
   ]
  },
  {
   "cell_type": "code",
   "execution_count": null,
   "metadata": {},
   "outputs": [],
   "source": [
    "df.dtypes"
   ]
  },
  {
   "cell_type": "code",
   "execution_count": null,
   "metadata": {},
   "outputs": [],
   "source": [
    "f, ax = plt.subplots( figsize=(10,10) )\n",
    "sns.heatmap(df.corr(),annot=True,linewidths=1)\n",
    "plt.show()"
   ]
  },
  {
   "cell_type": "code",
   "execution_count": null,
   "metadata": {},
   "outputs": [],
   "source": [
    "df.sample(5)"
   ]
  },
  {
   "cell_type": "code",
   "execution_count": null,
   "metadata": {},
   "outputs": [],
   "source": [
    "# import pandas_profiling\n",
    "# df.profile_report();"
   ]
  },
  {
   "cell_type": "code",
   "execution_count": null,
   "metadata": {},
   "outputs": [],
   "source": []
  },
  {
   "cell_type": "raw",
   "metadata": {},
   "source": []
  },
  {
   "cell_type": "code",
   "execution_count": null,
   "metadata": {},
   "outputs": [],
   "source": []
  }
 ],
 "metadata": {
  "kernelspec": {
   "display_name": "Python 3",
   "language": "python",
   "name": "python3"
  },
  "language_info": {
   "codemirror_mode": {
    "name": "ipython",
    "version": 3
   },
   "file_extension": ".py",
   "mimetype": "text/x-python",
   "name": "python",
   "nbconvert_exporter": "python",
   "pygments_lexer": "ipython3",
   "version": "3.8.5"
  },
  "nbTranslate": {
   "displayLangs": [
    "*"
   ],
   "hotkey": "alt-t",
   "langInMainMenu": true,
   "sourceLang": "en",
   "targetLang": "fr",
   "useGoogleTranslate": true
  },
  "toc": {
   "base_numbering": 1,
   "nav_menu": {
    "height": "109px",
    "width": "352px"
   },
   "number_sections": true,
   "sideBar": true,
   "skip_h1_title": false,
   "title_cell": "Table of Contents",
   "title_sidebar": "Contents",
   "toc_cell": false,
   "toc_position": {},
   "toc_section_display": true,
   "toc_window_display": false
  },
  "varInspector": {
   "cols": {
    "lenName": 16,
    "lenType": 16,
    "lenVar": 40
   },
   "kernels_config": {
    "python": {
     "delete_cmd_postfix": "",
     "delete_cmd_prefix": "del ",
     "library": "var_list.py",
     "varRefreshCmd": "print(var_dic_list())"
    },
    "r": {
     "delete_cmd_postfix": ") ",
     "delete_cmd_prefix": "rm(",
     "library": "var_list.r",
     "varRefreshCmd": "cat(var_dic_list()) "
    }
   },
   "types_to_exclude": [
    "module",
    "function",
    "builtin_function_or_method",
    "instance",
    "_Feature"
   ],
   "window_display": false
  }
 },
 "nbformat": 4,
 "nbformat_minor": 4
}
