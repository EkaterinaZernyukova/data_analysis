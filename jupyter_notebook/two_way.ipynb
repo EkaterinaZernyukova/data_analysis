{
 "cells": [
  {
   "cell_type": "markdown",
   "metadata": {},
   "source": [
    "### Двух-факторный дисперсионный анализ"
   ]
  },
  {
   "cell_type": "code",
   "execution_count": 1,
   "metadata": {},
   "outputs": [],
   "source": [
    "import numpy as np\n",
    "import pandas as pd\n",
    "import matplotlib.pyplot as plt\n",
    "import math\n",
    "import seaborn as sns"
   ]
  },
  {
   "cell_type": "code",
   "execution_count": 38,
   "metadata": {},
   "outputs": [],
   "source": [
    "df=pd.read_csv(\"../resources/atherosclerosis.csv\")"
   ]
  },
  {
   "cell_type": "code",
   "execution_count": 16,
   "metadata": {},
   "outputs": [
    {
     "data": {
      "text/html": [
       "<div>\n",
       "<style scoped>\n",
       "    .dataframe tbody tr th:only-of-type {\n",
       "        vertical-align: middle;\n",
       "    }\n",
       "\n",
       "    .dataframe tbody tr th {\n",
       "        vertical-align: top;\n",
       "    }\n",
       "\n",
       "    .dataframe thead th {\n",
       "        text-align: right;\n",
       "    }\n",
       "</style>\n",
       "<table border=\"1\" class=\"dataframe\">\n",
       "  <thead>\n",
       "    <tr style=\"text-align: right;\">\n",
       "      <th></th>\n",
       "      <th>expr</th>\n",
       "      <th>age</th>\n",
       "      <th>dose</th>\n",
       "    </tr>\n",
       "  </thead>\n",
       "  <tbody>\n",
       "    <tr>\n",
       "      <th>0</th>\n",
       "      <td>107.351478</td>\n",
       "      <td>1</td>\n",
       "      <td>D1</td>\n",
       "    </tr>\n",
       "    <tr>\n",
       "      <th>1</th>\n",
       "      <td>104.504438</td>\n",
       "      <td>1</td>\n",
       "      <td>D1</td>\n",
       "    </tr>\n",
       "    <tr>\n",
       "      <th>2</th>\n",
       "      <td>103.435134</td>\n",
       "      <td>1</td>\n",
       "      <td>D1</td>\n",
       "    </tr>\n",
       "    <tr>\n",
       "      <th>3</th>\n",
       "      <td>109.572882</td>\n",
       "      <td>1</td>\n",
       "      <td>D1</td>\n",
       "    </tr>\n",
       "    <tr>\n",
       "      <th>4</th>\n",
       "      <td>114.993803</td>\n",
       "      <td>1</td>\n",
       "      <td>D1</td>\n",
       "    </tr>\n",
       "    <tr>\n",
       "      <th>...</th>\n",
       "      <td>...</td>\n",
       "      <td>...</td>\n",
       "      <td>...</td>\n",
       "    </tr>\n",
       "    <tr>\n",
       "      <th>59</th>\n",
       "      <td>101.851582</td>\n",
       "      <td>2</td>\n",
       "      <td>D2</td>\n",
       "    </tr>\n",
       "    <tr>\n",
       "      <th>60</th>\n",
       "      <td>105.239530</td>\n",
       "      <td>2</td>\n",
       "      <td>D2</td>\n",
       "    </tr>\n",
       "    <tr>\n",
       "      <th>61</th>\n",
       "      <td>99.350198</td>\n",
       "      <td>2</td>\n",
       "      <td>D2</td>\n",
       "    </tr>\n",
       "    <tr>\n",
       "      <th>62</th>\n",
       "      <td>108.091455</td>\n",
       "      <td>2</td>\n",
       "      <td>D2</td>\n",
       "    </tr>\n",
       "    <tr>\n",
       "      <th>63</th>\n",
       "      <td>111.639129</td>\n",
       "      <td>2</td>\n",
       "      <td>D2</td>\n",
       "    </tr>\n",
       "  </tbody>\n",
       "</table>\n",
       "<p>64 rows × 3 columns</p>\n",
       "</div>"
      ],
      "text/plain": [
       "          expr  age dose\n",
       "0   107.351478    1   D1\n",
       "1   104.504438    1   D1\n",
       "2   103.435134    1   D1\n",
       "3   109.572882    1   D1\n",
       "4   114.993803    1   D1\n",
       "..         ...  ...  ...\n",
       "59  101.851582    2   D2\n",
       "60  105.239530    2   D2\n",
       "61   99.350198    2   D2\n",
       "62  108.091455    2   D2\n",
       "63  111.639129    2   D2\n",
       "\n",
       "[64 rows x 3 columns]"
      ]
     },
     "execution_count": 16,
     "metadata": {},
     "output_type": "execute_result"
    }
   ],
   "source": [
    "df"
   ]
  },
  {
   "cell_type": "code",
   "execution_count": 42,
   "metadata": {},
   "outputs": [
    {
     "data": {
      "text/html": [
       "<div>\n",
       "<style scoped>\n",
       "    .dataframe tbody tr th:only-of-type {\n",
       "        vertical-align: middle;\n",
       "    }\n",
       "\n",
       "    .dataframe tbody tr th {\n",
       "        vertical-align: top;\n",
       "    }\n",
       "\n",
       "    .dataframe thead tr th {\n",
       "        text-align: left;\n",
       "    }\n",
       "\n",
       "    .dataframe thead tr:last-of-type th {\n",
       "        text-align: right;\n",
       "    }\n",
       "</style>\n",
       "<table border=\"1\" class=\"dataframe\">\n",
       "  <thead>\n",
       "    <tr>\n",
       "      <th></th>\n",
       "      <th></th>\n",
       "      <th colspan=\"8\" halign=\"left\">expr</th>\n",
       "    </tr>\n",
       "    <tr>\n",
       "      <th></th>\n",
       "      <th></th>\n",
       "      <th>count</th>\n",
       "      <th>mean</th>\n",
       "      <th>std</th>\n",
       "      <th>min</th>\n",
       "      <th>25%</th>\n",
       "      <th>50%</th>\n",
       "      <th>75%</th>\n",
       "      <th>max</th>\n",
       "    </tr>\n",
       "    <tr>\n",
       "      <th>age</th>\n",
       "      <th>dose</th>\n",
       "      <th></th>\n",
       "      <th></th>\n",
       "      <th></th>\n",
       "      <th></th>\n",
       "      <th></th>\n",
       "      <th></th>\n",
       "      <th></th>\n",
       "      <th></th>\n",
       "    </tr>\n",
       "  </thead>\n",
       "  <tbody>\n",
       "    <tr>\n",
       "      <th rowspan=\"2\" valign=\"top\">1</th>\n",
       "      <th>D1</th>\n",
       "      <td>16.0</td>\n",
       "      <td>104.758464</td>\n",
       "      <td>5.863454</td>\n",
       "      <td>90.918788</td>\n",
       "      <td>102.769657</td>\n",
       "      <td>104.779105</td>\n",
       "      <td>107.147066</td>\n",
       "      <td>114.993803</td>\n",
       "    </tr>\n",
       "    <tr>\n",
       "      <th>D2</th>\n",
       "      <td>16.0</td>\n",
       "      <td>105.545864</td>\n",
       "      <td>4.369024</td>\n",
       "      <td>94.554612</td>\n",
       "      <td>104.343822</td>\n",
       "      <td>106.550749</td>\n",
       "      <td>107.736334</td>\n",
       "      <td>111.552090</td>\n",
       "    </tr>\n",
       "    <tr>\n",
       "      <th rowspan=\"2\" valign=\"top\">2</th>\n",
       "      <th>D1</th>\n",
       "      <td>16.0</td>\n",
       "      <td>101.004805</td>\n",
       "      <td>5.116310</td>\n",
       "      <td>90.970949</td>\n",
       "      <td>98.257464</td>\n",
       "      <td>100.912804</td>\n",
       "      <td>104.012453</td>\n",
       "      <td>112.008916</td>\n",
       "    </tr>\n",
       "    <tr>\n",
       "      <th>D2</th>\n",
       "      <td>16.0</td>\n",
       "      <td>102.273629</td>\n",
       "      <td>5.135374</td>\n",
       "      <td>94.180214</td>\n",
       "      <td>98.843173</td>\n",
       "      <td>101.875234</td>\n",
       "      <td>104.445248</td>\n",
       "      <td>111.639129</td>\n",
       "    </tr>\n",
       "  </tbody>\n",
       "</table>\n",
       "</div>"
      ],
      "text/plain": [
       "          expr                                                           \\\n",
       "         count        mean       std        min         25%         50%   \n",
       "age dose                                                                  \n",
       "1   D1    16.0  104.758464  5.863454  90.918788  102.769657  104.779105   \n",
       "    D2    16.0  105.545864  4.369024  94.554612  104.343822  106.550749   \n",
       "2   D1    16.0  101.004805  5.116310  90.970949   98.257464  100.912804   \n",
       "    D2    16.0  102.273629  5.135374  94.180214   98.843173  101.875234   \n",
       "\n",
       "                                  \n",
       "                 75%         max  \n",
       "age dose                          \n",
       "1   D1    107.147066  114.993803  \n",
       "    D2    107.736334  111.552090  \n",
       "2   D1    104.012453  112.008916  \n",
       "    D2    104.445248  111.639129  "
      ]
     },
     "execution_count": 42,
     "metadata": {},
     "output_type": "execute_result"
    }
   ],
   "source": [
    "df.groupby(['age', 'dose']).describe()"
   ]
  },
  {
   "cell_type": "code",
   "execution_count": 25,
   "metadata": {},
   "outputs": [
    {
     "name": "stderr",
     "output_type": "stream",
     "text": [
      "/usr/lib/python3/dist-packages/seaborn/categorical.py:3669: UserWarning: The `factorplot` function has been renamed to `catplot`. The original name will be removed in a future release. Please update your code. Note that the default `kind` in `factorplot` (`'point'`) has changed `'strip'` in `catplot`.\n",
      "  warnings.warn(msg)\n",
      "/usr/lib/python3/dist-packages/seaborn/categorical.py:3675: UserWarning: The `size` parameter has been renamed to `height`; please update your code.\n",
      "  warnings.warn(msg, UserWarning)\n"
     ]
    },
    {
     "data": {
      "image/png": "[encoded data removed]",
      "text/plain": [
       "<Figure size 474.375x432 with 1 Axes>"
      ]
     },
     "metadata": {
      "needs_background": "light"
     },
     "output_type": "display_data"
    }
   ],
   "source": [
    "g = sns.factorplot(x=\"dose\", y=\"expr\", hue=\"age\", data=df,\n",
    "                   palette=\"bright\",capsize=.2, size=6)\n",
    "plt.show()"
   ]
  },
  {
   "cell_type": "markdown",
   "metadata": {},
   "source": [
    "двухфакторный анализ через statsmodels"
   ]
  },
  {
   "cell_type": "markdown",
   "metadata": {},
   "source": [
    "1 Вариант написания кода"
   ]
  },
  {
   "cell_type": "code",
   "execution_count": 32,
   "metadata": {},
   "outputs": [
    {
     "data": {
      "text/html": [
       "<div>\n",
       "<style scoped>\n",
       "    .dataframe tbody tr th:only-of-type {\n",
       "        vertical-align: middle;\n",
       "    }\n",
       "\n",
       "    .dataframe tbody tr th {\n",
       "        vertical-align: top;\n",
       "    }\n",
       "\n",
       "    .dataframe thead th {\n",
       "        text-align: right;\n",
       "    }\n",
       "</style>\n",
       "<table border=\"1\" class=\"dataframe\">\n",
       "  <thead>\n",
       "    <tr style=\"text-align: right;\">\n",
       "      <th></th>\n",
       "      <th>sum_sq</th>\n",
       "      <th>df</th>\n",
       "      <th>F</th>\n",
       "      <th>PR(&gt;F)</th>\n",
       "    </tr>\n",
       "  </thead>\n",
       "  <tbody>\n",
       "    <tr>\n",
       "      <th>dose</th>\n",
       "      <td>16.912241</td>\n",
       "      <td>1.0</td>\n",
       "      <td>0.638094</td>\n",
       "      <td>0.427552</td>\n",
       "    </tr>\n",
       "    <tr>\n",
       "      <th>age</th>\n",
       "      <td>197.452754</td>\n",
       "      <td>1.0</td>\n",
       "      <td>7.449841</td>\n",
       "      <td>0.008313</td>\n",
       "    </tr>\n",
       "    <tr>\n",
       "      <th>age:dose</th>\n",
       "      <td>0.927077</td>\n",
       "      <td>1.0</td>\n",
       "      <td>0.034978</td>\n",
       "      <td>0.852272</td>\n",
       "    </tr>\n",
       "    <tr>\n",
       "      <th>Residual</th>\n",
       "      <td>1590.257424</td>\n",
       "      <td>60.0</td>\n",
       "      <td>NaN</td>\n",
       "      <td>NaN</td>\n",
       "    </tr>\n",
       "  </tbody>\n",
       "</table>\n",
       "</div>"
      ],
      "text/plain": [
       "               sum_sq    df         F    PR(>F)\n",
       "dose        16.912241   1.0  0.638094  0.427552\n",
       "age        197.452754   1.0  7.449841  0.008313\n",
       "age:dose     0.927077   1.0  0.034978  0.852272\n",
       "Residual  1590.257424  60.0       NaN       NaN"
      ]
     },
     "execution_count": 32,
     "metadata": {},
     "output_type": "execute_result"
    }
   ],
   "source": [
    "import statsmodels.api as sm\n",
    "from statsmodels.formula.api import ols\n",
    "model = ols(formula=\"expr ~ age*dose\", data=df).fit()\n",
    "res = sm.stats.anova_lm(model, typ= 2)\n",
    "res"
   ]
  },
  {
   "cell_type": "markdown",
   "metadata": {},
   "source": [
    "2 Вариант написания кода"
   ]
  },
  {
   "cell_type": "code",
   "execution_count": 33,
   "metadata": {},
   "outputs": [
    {
     "data": {
      "text/html": [
       "<div>\n",
       "<style scoped>\n",
       "    .dataframe tbody tr th:only-of-type {\n",
       "        vertical-align: middle;\n",
       "    }\n",
       "\n",
       "    .dataframe tbody tr th {\n",
       "        vertical-align: top;\n",
       "    }\n",
       "\n",
       "    .dataframe thead th {\n",
       "        text-align: right;\n",
       "    }\n",
       "</style>\n",
       "<table border=\"1\" class=\"dataframe\">\n",
       "  <thead>\n",
       "    <tr style=\"text-align: right;\">\n",
       "      <th></th>\n",
       "      <th>sum_sq</th>\n",
       "      <th>df</th>\n",
       "      <th>F</th>\n",
       "      <th>PR(&gt;F)</th>\n",
       "    </tr>\n",
       "  </thead>\n",
       "  <tbody>\n",
       "    <tr>\n",
       "      <th>C(dose)</th>\n",
       "      <td>16.912241</td>\n",
       "      <td>1.0</td>\n",
       "      <td>0.638094</td>\n",
       "      <td>0.427552</td>\n",
       "    </tr>\n",
       "    <tr>\n",
       "      <th>C(age)</th>\n",
       "      <td>197.452754</td>\n",
       "      <td>1.0</td>\n",
       "      <td>7.449841</td>\n",
       "      <td>0.008313</td>\n",
       "    </tr>\n",
       "    <tr>\n",
       "      <th>C(dose):C(age)</th>\n",
       "      <td>0.927077</td>\n",
       "      <td>1.0</td>\n",
       "      <td>0.034978</td>\n",
       "      <td>0.852272</td>\n",
       "    </tr>\n",
       "    <tr>\n",
       "      <th>Residual</th>\n",
       "      <td>1590.257424</td>\n",
       "      <td>60.0</td>\n",
       "      <td>NaN</td>\n",
       "      <td>NaN</td>\n",
       "    </tr>\n",
       "  </tbody>\n",
       "</table>\n",
       "</div>"
      ],
      "text/plain": [
       "                     sum_sq    df         F    PR(>F)\n",
       "C(dose)           16.912241   1.0  0.638094  0.427552\n",
       "C(age)           197.452754   1.0  7.449841  0.008313\n",
       "C(dose):C(age)     0.927077   1.0  0.034978  0.852272\n",
       "Residual        1590.257424  60.0       NaN       NaN"
      ]
     },
     "execution_count": 33,
     "metadata": {},
     "output_type": "execute_result"
    }
   ],
   "source": [
    "import statsmodels.api as sm\n",
    "from statsmodels.formula.api import ols\n",
    "model = ols('expr ~ C(dose)*C(age)', df).fit()\n",
    "res = sm.stats.anova_lm(model, typ= 2)\n",
    "res"
   ]
  },
  {
   "cell_type": "markdown",
   "metadata": {},
   "source": [
    "3 вариант написания кода\n",
    "https://www.marsja.se/three-ways-to-carry-out-2-way-anova-with-python/"
   ]
  },
  {
   "cell_type": "code",
   "execution_count": 41,
   "metadata": {},
   "outputs": [
    {
     "name": "stdout",
     "output_type": "stream",
     "text": [
      "               sum_sq  df          F      PR(>F)\n",
      "age        197.452754   1    7.44984  0.00831345\n",
      "dose        16.912241   1   0.638094    0.427552\n",
      "age:dose     0.927077   1  0.0349784    0.852272\n",
      "Residual  1590.257424  60        NaN         NaN\n"
     ]
    },
    {
     "data": {
      "image/png": "[encoded data removed]",
      "text/plain": [
       "<Figure size 432x288 with 1 Axes>"
      ]
     },
     "metadata": {
      "needs_background": "light"
     },
     "output_type": "display_data"
    }
   ],
   "source": [
    "from statsmodels.graphics.factorplots import interaction_plot\n",
    "from scipy import stats\n",
    "\n",
    "fig=interaction_plot(df.dose,df.age,df.expr,colors=['green','red'], markers=['D','^'], ms=10)\n",
    "#Степени свободы\n",
    "N =  len(df.expr)\n",
    "m1 = len(df.age.unique())\n",
    "m2 = len(df.dose.unique())\n",
    "df_a = m1 - 1\n",
    "df_b = m2 - 1\n",
    "df_axb = df_a*df_b \n",
    "df_w = N - m1*m2\n",
    "#Общее среднее\n",
    "grand_mean = df['expr'].mean()\n",
    "#Суммы квадратов\n",
    "ssq_a = sum([(df[df.age ==i].expr.mean()-grand_mean)**2 for i in df.age])\n",
    "ssq_b = sum([(df[df.dose ==i].expr.mean()-grand_mean)**2 for i in df.dose])\n",
    "ssq_t = sum((df.expr - grand_mean)**2)\n",
    "spl_age=[df[df.age == i] for i in df.age.unique()]\n",
    "age_means=[[x_age[x_age.dose == d].expr.mean() for d in x_age.dose] for x_age in spl_age]\n",
    "ssq_w = sum([sum((spl_age[i].expr-age_means[i])**2) for i in range(len(df.age.unique()))])\n",
    "ssq_axb = ssq_t-ssq_a-ssq_b-ssq_w\n",
    "#Средние квадраты\n",
    "ms_a = ssq_a/df_a\n",
    "ms_b = ssq_b/df_b\n",
    "ms_axb = ssq_axb/df_axb\n",
    "ms_w = ssq_w/df_w\n",
    "#F-значения\n",
    "f_a = ms_a/ms_w\n",
    "f_b = ms_b/ms_w\n",
    "f_axb = ms_axb/ms_w\n",
    "#P-значения\n",
    "p_a = stats.f.sf(f_a, df_a, df_w)\n",
    "p_b = stats.f.sf(f_b, df_b, df_w)\n",
    "p_axb = stats.f.sf(f_axb, df_axb, df_w)\n",
    "#результаты\n",
    "results = {'sum_sq':[ssq_a, ssq_b, ssq_axb, ssq_w],\n",
    "           'df':[df_a, df_b, df_axb, df_w],\n",
    "           'F':[f_a, f_b, f_axb, 'NaN'],\n",
    "            'PR(>F)':[p_a, p_b, p_axb, 'NaN']}\n",
    "columns=['sum_sq', 'df', 'F', 'PR(>F)']\n",
    "aov_table1 = pd.DataFrame(results, columns=columns,\n",
    "                          index=['age', 'dose', \n",
    "                          'age:dose', 'Residual'])\n",
    "print(aov_table1)\n"
   ]
  },
  {
   "cell_type": "code",
   "execution_count": null,
   "metadata": {},
   "outputs": [],
   "source": []
  }
 ],
 "metadata": {
  "kernelspec": {
   "display_name": "Python 3",
   "language": "python",
   "name": "python3"
  },
  "language_info": {
   "codemirror_mode": {
    "name": "ipython",
    "version": 3
   },
   "file_extension": ".py",
   "mimetype": "text/x-python",
   "name": "python",
   "nbconvert_exporter": "python",
   "pygments_lexer": "ipython3",
   "version": "3.8.5"
  },
  "toc": {
   "base_numbering": 1,
   "nav_menu": {},
   "number_sections": true,
   "sideBar": true,
   "skip_h1_title": false,
   "title_cell": "Table of Contents",
   "title_sidebar": "Contents",
   "toc_cell": false,
   "toc_position": {},
   "toc_section_display": true,
   "toc_window_display": false
  },
  "varInspector": {
   "cols": {
    "lenName": 16,
    "lenType": 16,
    "lenVar": 40
   },
   "kernels_config": {
    "python": {
     "delete_cmd_postfix": "",
     "delete_cmd_prefix": "del ",
     "library": "var_list.py",
     "varRefreshCmd": "print(var_dic_list())"
    },
    "r": {
     "delete_cmd_postfix": ") ",
     "delete_cmd_prefix": "rm(",
     "library": "var_list.r",
     "varRefreshCmd": "cat(var_dic_list()) "
    }
   },
   "types_to_exclude": [
    "module",
    "function",
    "builtin_function_or_method",
    "instance",
    "_Feature"
   ],
   "window_display": false
  }
 },
 "nbformat": 4,
 "nbformat_minor": 4
}
