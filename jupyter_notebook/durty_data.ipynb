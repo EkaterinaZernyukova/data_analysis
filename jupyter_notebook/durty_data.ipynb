{
 "cells": [
  {
   "cell_type": "code",
   "execution_count": 1,
   "metadata": {},
   "outputs": [],
   "source": [
    "%matplotlib inline\n",
    "import pandas as pd\n",
    "import numpy as np\n",
    "import matplotlib.pyplot as plt"
   ]
  },
  {
   "cell_type": "code",
   "execution_count": 2,
   "metadata": {},
   "outputs": [],
   "source": [
    "pd.options.display.max_rows=7\n",
    "plt.style.use(\"ggplot\")\n",
    "plt.rcParams[\"figure.figsize\"]=(15,5)\n",
    "plt.rcParams[\"font.family\"]=(\"sans-serif\")"
   ]
  },
  {
   "cell_type": "code",
   "execution_count": 3,
   "metadata": {},
   "outputs": [
    {
     "name": "stderr",
     "output_type": "stream",
     "text": [
      "/home/kate/.local/lib/python3.8/site-packages/IPython/core/interactiveshell.py:3062: DtypeWarning: Columns (8) have mixed types.Specify dtype option on import or set low_memory=False.\n",
      "  has_raised = await self.run_ast_nodes(code_ast.body, cell_name,\n"
     ]
    }
   ],
   "source": [
    "request=pd.read_csv(\"../resources/311-service-requests.csv\")"
   ]
  },
  {
   "cell_type": "code",
   "execution_count": 4,
   "metadata": {},
   "outputs": [
    {
     "data": {
      "text/html": [
       "<div>\n",
       "<style scoped>\n",
       "    .dataframe tbody tr th:only-of-type {\n",
       "        vertical-align: middle;\n",
       "    }\n",
       "\n",
       "    .dataframe tbody tr th {\n",
       "        vertical-align: top;\n",
       "    }\n",
       "\n",
       "    .dataframe thead th {\n",
       "        text-align: right;\n",
       "    }\n",
       "</style>\n",
       "<table border=\"1\" class=\"dataframe\">\n",
       "  <thead>\n",
       "    <tr style=\"text-align: right;\">\n",
       "      <th></th>\n",
       "      <th>Unique Key</th>\n",
       "      <th>Created Date</th>\n",
       "      <th>Closed Date</th>\n",
       "      <th>Agency</th>\n",
       "      <th>Agency Name</th>\n",
       "      <th>Complaint Type</th>\n",
       "      <th>Descriptor</th>\n",
       "      <th>Location Type</th>\n",
       "      <th>Incident Zip</th>\n",
       "      <th>Incident Address</th>\n",
       "      <th>...</th>\n",
       "      <th>Bridge Highway Name</th>\n",
       "      <th>Bridge Highway Direction</th>\n",
       "      <th>Road Ramp</th>\n",
       "      <th>Bridge Highway Segment</th>\n",
       "      <th>Garage Lot Name</th>\n",
       "      <th>Ferry Direction</th>\n",
       "      <th>Ferry Terminal Name</th>\n",
       "      <th>Latitude</th>\n",
       "      <th>Longitude</th>\n",
       "      <th>Location</th>\n",
       "    </tr>\n",
       "  </thead>\n",
       "  <tbody>\n",
       "    <tr>\n",
       "      <th>0</th>\n",
       "      <td>26589651</td>\n",
       "      <td>10/31/2013 02:08:41 AM</td>\n",
       "      <td>NaN</td>\n",
       "      <td>NYPD</td>\n",
       "      <td>New York City Police Department</td>\n",
       "      <td>Noise - Street/Sidewalk</td>\n",
       "      <td>Loud Talking</td>\n",
       "      <td>Street/Sidewalk</td>\n",
       "      <td>11432</td>\n",
       "      <td>90-03 169 STREET</td>\n",
       "      <td>...</td>\n",
       "      <td>NaN</td>\n",
       "      <td>NaN</td>\n",
       "      <td>NaN</td>\n",
       "      <td>NaN</td>\n",
       "      <td>NaN</td>\n",
       "      <td>NaN</td>\n",
       "      <td>NaN</td>\n",
       "      <td>40.708275</td>\n",
       "      <td>-73.791604</td>\n",
       "      <td>(40.70827532593202, -73.79160395779721)</td>\n",
       "    </tr>\n",
       "    <tr>\n",
       "      <th>1</th>\n",
       "      <td>26593698</td>\n",
       "      <td>10/31/2013 02:01:04 AM</td>\n",
       "      <td>NaN</td>\n",
       "      <td>NYPD</td>\n",
       "      <td>New York City Police Department</td>\n",
       "      <td>Illegal Parking</td>\n",
       "      <td>Commercial Overnight Parking</td>\n",
       "      <td>Street/Sidewalk</td>\n",
       "      <td>11378</td>\n",
       "      <td>58 AVENUE</td>\n",
       "      <td>...</td>\n",
       "      <td>NaN</td>\n",
       "      <td>NaN</td>\n",
       "      <td>NaN</td>\n",
       "      <td>NaN</td>\n",
       "      <td>NaN</td>\n",
       "      <td>NaN</td>\n",
       "      <td>NaN</td>\n",
       "      <td>40.721041</td>\n",
       "      <td>-73.909453</td>\n",
       "      <td>(40.721040535628305, -73.90945306791765)</td>\n",
       "    </tr>\n",
       "    <tr>\n",
       "      <th>2</th>\n",
       "      <td>26594139</td>\n",
       "      <td>10/31/2013 02:00:24 AM</td>\n",
       "      <td>10/31/2013 02:40:32 AM</td>\n",
       "      <td>NYPD</td>\n",
       "      <td>New York City Police Department</td>\n",
       "      <td>Noise - Commercial</td>\n",
       "      <td>Loud Music/Party</td>\n",
       "      <td>Club/Bar/Restaurant</td>\n",
       "      <td>10032</td>\n",
       "      <td>4060 BROADWAY</td>\n",
       "      <td>...</td>\n",
       "      <td>NaN</td>\n",
       "      <td>NaN</td>\n",
       "      <td>NaN</td>\n",
       "      <td>NaN</td>\n",
       "      <td>NaN</td>\n",
       "      <td>NaN</td>\n",
       "      <td>NaN</td>\n",
       "      <td>40.843330</td>\n",
       "      <td>-73.939144</td>\n",
       "      <td>(40.84332975466513, -73.93914371913482)</td>\n",
       "    </tr>\n",
       "    <tr>\n",
       "      <th>...</th>\n",
       "      <td>...</td>\n",
       "      <td>...</td>\n",
       "      <td>...</td>\n",
       "      <td>...</td>\n",
       "      <td>...</td>\n",
       "      <td>...</td>\n",
       "      <td>...</td>\n",
       "      <td>...</td>\n",
       "      <td>...</td>\n",
       "      <td>...</td>\n",
       "      <td>...</td>\n",
       "      <td>...</td>\n",
       "      <td>...</td>\n",
       "      <td>...</td>\n",
       "      <td>...</td>\n",
       "      <td>...</td>\n",
       "      <td>...</td>\n",
       "      <td>...</td>\n",
       "      <td>...</td>\n",
       "      <td>...</td>\n",
       "      <td>...</td>\n",
       "    </tr>\n",
       "    <tr>\n",
       "      <th>111066</th>\n",
       "      <td>26428987</td>\n",
       "      <td>10/04/2013 12:00:45 AM</td>\n",
       "      <td>10/04/2013 01:25:01 AM</td>\n",
       "      <td>NYPD</td>\n",
       "      <td>New York City Police Department</td>\n",
       "      <td>Noise - Street/Sidewalk</td>\n",
       "      <td>Loud Talking</td>\n",
       "      <td>Street/Sidewalk</td>\n",
       "      <td>10016</td>\n",
       "      <td>344 EAST 28 STREET</td>\n",
       "      <td>...</td>\n",
       "      <td>NaN</td>\n",
       "      <td>NaN</td>\n",
       "      <td>NaN</td>\n",
       "      <td>NaN</td>\n",
       "      <td>NaN</td>\n",
       "      <td>NaN</td>\n",
       "      <td>NaN</td>\n",
       "      <td>40.740295</td>\n",
       "      <td>-73.976952</td>\n",
       "      <td>(40.740295354643706, -73.97695165980414)</td>\n",
       "    </tr>\n",
       "    <tr>\n",
       "      <th>111067</th>\n",
       "      <td>26426115</td>\n",
       "      <td>10/04/2013 12:00:28 AM</td>\n",
       "      <td>10/04/2013 04:17:32 AM</td>\n",
       "      <td>NYPD</td>\n",
       "      <td>New York City Police Department</td>\n",
       "      <td>Noise - Commercial</td>\n",
       "      <td>Loud Talking</td>\n",
       "      <td>Club/Bar/Restaurant</td>\n",
       "      <td>11226</td>\n",
       "      <td>1233 FLATBUSH AVENUE</td>\n",
       "      <td>...</td>\n",
       "      <td>NaN</td>\n",
       "      <td>NaN</td>\n",
       "      <td>NaN</td>\n",
       "      <td>NaN</td>\n",
       "      <td>NaN</td>\n",
       "      <td>NaN</td>\n",
       "      <td>NaN</td>\n",
       "      <td>40.640182</td>\n",
       "      <td>-73.955306</td>\n",
       "      <td>(40.64018174662485, -73.95530566958138)</td>\n",
       "    </tr>\n",
       "    <tr>\n",
       "      <th>111068</th>\n",
       "      <td>26428033</td>\n",
       "      <td>10/04/2013 12:00:10 AM</td>\n",
       "      <td>10/04/2013 01:20:52 AM</td>\n",
       "      <td>NYPD</td>\n",
       "      <td>New York City Police Department</td>\n",
       "      <td>Blocked Driveway</td>\n",
       "      <td>Partial Access</td>\n",
       "      <td>Street/Sidewalk</td>\n",
       "      <td>11236</td>\n",
       "      <td>1259 EAST 94 STREET</td>\n",
       "      <td>...</td>\n",
       "      <td>NaN</td>\n",
       "      <td>NaN</td>\n",
       "      <td>NaN</td>\n",
       "      <td>NaN</td>\n",
       "      <td>NaN</td>\n",
       "      <td>NaN</td>\n",
       "      <td>NaN</td>\n",
       "      <td>40.640024</td>\n",
       "      <td>-73.900717</td>\n",
       "      <td>(40.640024057399216, -73.90071711703163)</td>\n",
       "    </tr>\n",
       "  </tbody>\n",
       "</table>\n",
       "<p>111069 rows × 52 columns</p>\n",
       "</div>"
      ],
      "text/plain": [
       "        Unique Key            Created Date             Closed Date Agency  \\\n",
       "0         26589651  10/31/2013 02:08:41 AM                     NaN   NYPD   \n",
       "1         26593698  10/31/2013 02:01:04 AM                     NaN   NYPD   \n",
       "2         26594139  10/31/2013 02:00:24 AM  10/31/2013 02:40:32 AM   NYPD   \n",
       "...            ...                     ...                     ...    ...   \n",
       "111066    26428987  10/04/2013 12:00:45 AM  10/04/2013 01:25:01 AM   NYPD   \n",
       "111067    26426115  10/04/2013 12:00:28 AM  10/04/2013 04:17:32 AM   NYPD   \n",
       "111068    26428033  10/04/2013 12:00:10 AM  10/04/2013 01:20:52 AM   NYPD   \n",
       "\n",
       "                            Agency Name           Complaint Type  \\\n",
       "0       New York City Police Department  Noise - Street/Sidewalk   \n",
       "1       New York City Police Department          Illegal Parking   \n",
       "2       New York City Police Department       Noise - Commercial   \n",
       "...                                 ...                      ...   \n",
       "111066  New York City Police Department  Noise - Street/Sidewalk   \n",
       "111067  New York City Police Department       Noise - Commercial   \n",
       "111068  New York City Police Department         Blocked Driveway   \n",
       "\n",
       "                          Descriptor        Location Type Incident Zip  \\\n",
       "0                       Loud Talking      Street/Sidewalk        11432   \n",
       "1       Commercial Overnight Parking      Street/Sidewalk        11378   \n",
       "2                   Loud Music/Party  Club/Bar/Restaurant        10032   \n",
       "...                              ...                  ...          ...   \n",
       "111066                  Loud Talking      Street/Sidewalk        10016   \n",
       "111067                  Loud Talking  Club/Bar/Restaurant        11226   \n",
       "111068                Partial Access      Street/Sidewalk        11236   \n",
       "\n",
       "            Incident Address  ... Bridge Highway Name  \\\n",
       "0           90-03 169 STREET  ...                 NaN   \n",
       "1                  58 AVENUE  ...                 NaN   \n",
       "2              4060 BROADWAY  ...                 NaN   \n",
       "...                      ...  ...                 ...   \n",
       "111066    344 EAST 28 STREET  ...                 NaN   \n",
       "111067  1233 FLATBUSH AVENUE  ...                 NaN   \n",
       "111068   1259 EAST 94 STREET  ...                 NaN   \n",
       "\n",
       "       Bridge Highway Direction Road Ramp Bridge Highway Segment  \\\n",
       "0                           NaN       NaN                    NaN   \n",
       "1                           NaN       NaN                    NaN   \n",
       "2                           NaN       NaN                    NaN   \n",
       "...                         ...       ...                    ...   \n",
       "111066                      NaN       NaN                    NaN   \n",
       "111067                      NaN       NaN                    NaN   \n",
       "111068                      NaN       NaN                    NaN   \n",
       "\n",
       "       Garage Lot Name Ferry Direction Ferry Terminal Name   Latitude  \\\n",
       "0                  NaN             NaN                 NaN  40.708275   \n",
       "1                  NaN             NaN                 NaN  40.721041   \n",
       "2                  NaN             NaN                 NaN  40.843330   \n",
       "...                ...             ...                 ...        ...   \n",
       "111066             NaN             NaN                 NaN  40.740295   \n",
       "111067             NaN             NaN                 NaN  40.640182   \n",
       "111068             NaN             NaN                 NaN  40.640024   \n",
       "\n",
       "        Longitude                                  Location  \n",
       "0      -73.791604   (40.70827532593202, -73.79160395779721)  \n",
       "1      -73.909453  (40.721040535628305, -73.90945306791765)  \n",
       "2      -73.939144   (40.84332975466513, -73.93914371913482)  \n",
       "...           ...                                       ...  \n",
       "111066 -73.976952  (40.740295354643706, -73.97695165980414)  \n",
       "111067 -73.955306   (40.64018174662485, -73.95530566958138)  \n",
       "111068 -73.900717  (40.640024057399216, -73.90071711703163)  \n",
       "\n",
       "[111069 rows x 52 columns]"
      ]
     },
     "execution_count": 4,
     "metadata": {},
     "output_type": "execute_result"
    }
   ],
   "source": [
    "request"
   ]
  },
  {
   "cell_type": "code",
   "execution_count": 5,
   "metadata": {},
   "outputs": [
    {
     "data": {
      "text/plain": [
       "array([11432.0, 11378.0, 10032.0, 10023.0, 10027.0, 11372.0, 11419.0,\n",
       "       11417.0, 10011.0, 11225.0, 11218.0, 10003.0, 10029.0, 10466.0,\n",
       "       11219.0, 10025.0, 10310.0, 11236.0, nan, 10033.0, 11216.0, 10016.0,\n",
       "       10305.0, 10312.0, 10026.0, 10309.0, 10036.0, 11433.0, 11235.0,\n",
       "       11213.0, 11379.0, 11101.0, 10014.0, 11231.0, 11234.0, 10457.0,\n",
       "       10459.0, 10465.0, 11207.0, 10002.0, 10034.0, 11233.0, 10453.0,\n",
       "       10456.0, 10469.0, 11374.0, 11221.0, 11421.0, 11215.0, 10007.0,\n",
       "       10019.0, 11205.0, 11418.0, 11369.0, 11249.0, 10005.0, 10009.0,\n",
       "       11211.0, 11412.0, 10458.0, 11229.0, 10065.0, 10030.0, 11222.0,\n",
       "       10024.0, 10013.0, 11420.0, 11365.0, 10012.0, 11214.0, 11212.0,\n",
       "       10022.0, 11232.0, 11040.0, 11226.0, 10281.0, 11102.0, 11208.0,\n",
       "       10001.0, 10472.0, 11414.0, 11223.0, 10040.0, 11220.0, 11373.0,\n",
       "       11203.0, 11691.0, 11356.0, 10017.0, 10452.0, 10280.0, 11217.0,\n",
       "       10031.0, 11201.0, 11358.0, 10128.0, 11423.0, 10039.0, 10010.0,\n",
       "       11209.0, 10021.0, 10037.0, 11413.0, 11375.0, 11238.0, 10473.0,\n",
       "       11103.0, 11354.0, 11361.0, 11106.0, 11385.0, 10463.0, 10467.0,\n",
       "       11204.0, 11237.0, 11377.0, 11364.0, 11434.0, 11435.0, 11210.0,\n",
       "       11228.0, 11368.0, 11694.0, 10464.0, 11415.0, 10314.0, 10301.0,\n",
       "       10018.0, 10038.0, 11105.0, 11230.0, 10468.0, 11104.0, 10471.0,\n",
       "       11416.0, 10075.0, 11422.0, 11355.0, 10028.0, 10462.0, 10306.0,\n",
       "       10461.0, 11224.0, 11429.0, 10035.0, 11366.0, 11362.0, 11206.0,\n",
       "       10460.0, 10304.0, 11360.0, 11411.0, 10455.0, 10475.0, 10069.0,\n",
       "       10303.0, 10308.0, 10302.0, 11357.0, 10470.0, 11367.0, 11370.0,\n",
       "       10454.0, 10451.0, 11436.0, 11426.0, 10153.0, 11004.0, 11428.0,\n",
       "       11427.0, 11001.0, 11363.0, 10004.0, 10474.0, 11430.0, 10000.0,\n",
       "       10307.0, 11239.0, 10119.0, 10006.0, 10048.0, 11697.0, 11692.0,\n",
       "       11693.0, 10573.0, 83.0, 11559.0, 10020.0, 77056.0, 11776.0,\n",
       "       70711.0, 10282.0, 11109.0, 10044.0, '10452', '11233', '10468',\n",
       "       '10310', '11105', '10462', '10029', '10301', '10457', '10467',\n",
       "       '10469', '11225', '10035', '10031', '11226', '10454', '11221',\n",
       "       '10025', '11229', '11235', '11422', '10472', '11208', '11102',\n",
       "       '10032', '11216', '10473', '10463', '11213', '10040', '10302',\n",
       "       '11231', '10470', '11204', '11104', '11212', '10466', '11416',\n",
       "       '11214', '10009', '11692', '11385', '11423', '11201', '10024',\n",
       "       '11435', '10312', '10030', '11106', '10033', '10303', '11215',\n",
       "       '11222', '11354', '10016', '10034', '11420', '10304', '10019',\n",
       "       '11237', '11249', '11230', '11372', '11207', '11378', '11419',\n",
       "       '11361', '10011', '11357', '10012', '11358', '10003', '10002',\n",
       "       '11374', '10007', '11234', '10065', '11369', '11434', '11205',\n",
       "       '11206', '11415', '11236', '11218', '11413', '10458', '11101',\n",
       "       '10306', '11355', '10023', '11368', '10314', '11421', '10010',\n",
       "       '10018', '11223', '10455', '11377', '11433', '11375', '10037',\n",
       "       '11209', '10459', '10128', '10014', '10282', '11373', '10451',\n",
       "       '11238', '11211', '10038', '11694', '11203', '11691', '11232',\n",
       "       '10305', '10021', '11228', '10036', '10001', '10017', '11217',\n",
       "       '11219', '10308', '10465', '11379', '11414', '10460', '11417',\n",
       "       '11220', '11366', '10027', '11370', '10309', '11412', '11356',\n",
       "       '10456', '11432', '10022', '10013', '11367', '11040', '10026',\n",
       "       '10475', '11210', '11364', '11426', '10471', '10119', '11224',\n",
       "       '11418', '11429', '11365', '10461', '11239', '10039', '00083',\n",
       "       '11411', '10075', '11004', '11360', '10453', '10028', '11430',\n",
       "       '10307', '11103', '10004', '10069', '10005', '10474', '11428',\n",
       "       '11436', '10020', '11001', '11362', '11693', '10464', '11427',\n",
       "       '10044', '11363', '10006', '10000', '02061', '77092-2016', '10280',\n",
       "       '11109', '14225', '55164-0737', '19711', '07306', '000000',\n",
       "       'NO CLUE', '90010', '10281', '11747', '23541', '11776', '11697',\n",
       "       '11788', '07604', 10112.0, 11788.0, 11563.0, 11580.0, 7087.0,\n",
       "       11042.0, 7093.0, 11501.0, 92123.0, 0.0, 11575.0, 7109.0, 11797.0,\n",
       "       '10803', '11716', '11722', '11549-3650', '10162', '92123', '23502',\n",
       "       '11518', '07020', '08807', '11577', '07114', '11003', '07201',\n",
       "       '11563', '61702', '10103', '29616-0759', '35209-3114', '11520',\n",
       "       '11735', '10129', '11005', '41042', '11590', 6901.0, 7208.0,\n",
       "       11530.0, 13221.0, 10954.0, 11735.0, 10103.0, 7114.0, 11111.0,\n",
       "       10107.0], dtype=object)"
      ]
     },
     "execution_count": 5,
     "metadata": {},
     "output_type": "execute_result"
    }
   ],
   "source": [
    "request[\"Incident Zip\"].unique()"
   ]
  },
  {
   "cell_type": "code",
   "execution_count": 6,
   "metadata": {},
   "outputs": [],
   "source": [
    "# Исправление ошибок с NAN и различий - строки/числа\n",
    "nan_values=[\"NO CLUE\",\"N/A\",\"0\"]"
   ]
  },
  {
   "cell_type": "code",
   "execution_count": 7,
   "metadata": {},
   "outputs": [],
   "source": [
    "request=pd.read_csv(\"../resources/311-service-requests.csv\",na_values=nan_values,dtype={\"Incident Zip\":str})"
   ]
  },
  {
   "cell_type": "code",
   "execution_count": 8,
   "metadata": {},
   "outputs": [
    {
     "data": {
      "text/plain": [
       "array(['11432', '11378', '10032', '10023', '10027', '11372', '11419',\n",
       "       '11417', '10011', '11225', '11218', '10003', '10029', '10466',\n",
       "       '11219', '10025', '10310', '11236', nan, '10033', '11216', '10016',\n",
       "       '10305', '10312', '10026', '10309', '10036', '11433', '11235',\n",
       "       '11213', '11379', '11101', '10014', '11231', '11234', '10457',\n",
       "       '10459', '10465', '11207', '10002', '10034', '11233', '10453',\n",
       "       '10456', '10469', '11374', '11221', '11421', '11215', '10007',\n",
       "       '10019', '11205', '11418', '11369', '11249', '10005', '10009',\n",
       "       '11211', '11412', '10458', '11229', '10065', '10030', '11222',\n",
       "       '10024', '10013', '11420', '11365', '10012', '11214', '11212',\n",
       "       '10022', '11232', '11040', '11226', '10281', '11102', '11208',\n",
       "       '10001', '10472', '11414', '11223', '10040', '11220', '11373',\n",
       "       '11203', '11691', '11356', '10017', '10452', '10280', '11217',\n",
       "       '10031', '11201', '11358', '10128', '11423', '10039', '10010',\n",
       "       '11209', '10021', '10037', '11413', '11375', '11238', '10473',\n",
       "       '11103', '11354', '11361', '11106', '11385', '10463', '10467',\n",
       "       '11204', '11237', '11377', '11364', '11434', '11435', '11210',\n",
       "       '11228', '11368', '11694', '10464', '11415', '10314', '10301',\n",
       "       '10018', '10038', '11105', '11230', '10468', '11104', '10471',\n",
       "       '11416', '10075', '11422', '11355', '10028', '10462', '10306',\n",
       "       '10461', '11224', '11429', '10035', '11366', '11362', '11206',\n",
       "       '10460', '10304', '11360', '11411', '10455', '10475', '10069',\n",
       "       '10303', '10308', '10302', '11357', '10470', '11367', '11370',\n",
       "       '10454', '10451', '11436', '11426', '10153', '11004', '11428',\n",
       "       '11427', '11001', '11363', '10004', '10474', '11430', '10000',\n",
       "       '10307', '11239', '10119', '10006', '10048', '11697', '11692',\n",
       "       '11693', '10573', '00083', '11559', '10020', '77056', '11776',\n",
       "       '70711', '10282', '11109', '10044', '02061', '77092-2016', '14225',\n",
       "       '55164-0737', '19711', '07306', '000000', '90010', '11747',\n",
       "       '23541', '11788', '07604', '10112', '11563', '11580', '07087',\n",
       "       '11042', '07093', '11501', '92123', '00000', '11575', '07109',\n",
       "       '11797', '10803', '11716', '11722', '11549-3650', '10162', '23502',\n",
       "       '11518', '07020', '08807', '11577', '07114', '11003', '07201',\n",
       "       '61702', '10103', '29616-0759', '35209-3114', '11520', '11735',\n",
       "       '10129', '11005', '41042', '11590', '06901', '07208', '11530',\n",
       "       '13221', '10954', '11111', '10107'], dtype=object)"
      ]
     },
     "execution_count": 8,
     "metadata": {},
     "output_type": "execute_result"
    }
   ],
   "source": [
    "request[\"Incident Zip\"].unique()"
   ]
  },
  {
   "cell_type": "code",
   "execution_count": 9,
   "metadata": {},
   "outputs": [],
   "source": [
    "zips=request[\"Incident Zip\"]"
   ]
  },
  {
   "cell_type": "code",
   "execution_count": 10,
   "metadata": {},
   "outputs": [
    {
     "data": {
      "text/plain": [
       "0         True\n",
       "1         True\n",
       "2         True\n",
       "          ... \n",
       "111066    True\n",
       "111067    True\n",
       "111068    True\n",
       "Name: Incident Zip, Length: 111069, dtype: bool"
      ]
     },
     "execution_count": 10,
     "metadata": {},
     "output_type": "execute_result"
    }
   ],
   "source": [
    "is_close=zips.str.startswith(\"0\")|zips.str.startswith(\"1\")\n",
    "is_close"
   ]
  },
  {
   "cell_type": "code",
   "execution_count": 11,
   "metadata": {},
   "outputs": [
    {
     "data": {
      "text/plain": [
       "True     98793\n",
       "False    12276\n",
       "Name: Incident Zip, dtype: int64"
      ]
     },
     "execution_count": 11,
     "metadata": {},
     "output_type": "execute_result"
    }
   ],
   "source": [
    "is_close.value_counts()\n"
   ]
  },
  {
   "cell_type": "code",
   "execution_count": 12,
   "metadata": {},
   "outputs": [],
   "source": [
    "is_far=~(is_close)&zips.notnull()"
   ]
  },
  {
   "cell_type": "code",
   "execution_count": 13,
   "metadata": {},
   "outputs": [
    {
     "data": {
      "text/plain": [
       "0         False\n",
       "1         False\n",
       "2         False\n",
       "          ...  \n",
       "111066    False\n",
       "111067    False\n",
       "111068    False\n",
       "Name: Incident Zip, Length: 111069, dtype: bool"
      ]
     },
     "execution_count": 13,
     "metadata": {},
     "output_type": "execute_result"
    }
   ],
   "source": [
    "is_far"
   ]
  },
  {
   "cell_type": "code",
   "execution_count": 14,
   "metadata": {},
   "outputs": [],
   "source": [
    "# is_far=is_far.astype(int)"
   ]
  },
  {
   "cell_type": "code",
   "execution_count": null,
   "metadata": {},
   "outputs": [],
   "source": []
  },
  {
   "cell_type": "code",
   "execution_count": 15,
   "metadata": {},
   "outputs": [],
   "source": [
    "# is_far.value_counts()"
   ]
  },
  {
   "cell_type": "code",
   "execution_count": 16,
   "metadata": {},
   "outputs": [
    {
     "data": {
      "text/plain": [
       "12102         77056\n",
       "13450         70711\n",
       "29136    77092-2016\n",
       "            ...    \n",
       "85821    29616-0759\n",
       "89304    35209-3114\n",
       "94201         41042\n",
       "Name: Incident Zip, Length: 13, dtype: object"
      ]
     },
     "execution_count": 16,
     "metadata": {},
     "output_type": "execute_result"
    }
   ],
   "source": [
    "zips[is_far]"
   ]
  },
  {
   "cell_type": "code",
   "execution_count": 17,
   "metadata": {},
   "outputs": [
    {
     "data": {
      "text/html": [
       "<div>\n",
       "<style scoped>\n",
       "    .dataframe tbody tr th:only-of-type {\n",
       "        vertical-align: middle;\n",
       "    }\n",
       "\n",
       "    .dataframe tbody tr th {\n",
       "        vertical-align: top;\n",
       "    }\n",
       "\n",
       "    .dataframe thead th {\n",
       "        text-align: right;\n",
       "    }\n",
       "</style>\n",
       "<table border=\"1\" class=\"dataframe\">\n",
       "  <thead>\n",
       "    <tr style=\"text-align: right;\">\n",
       "      <th></th>\n",
       "      <th>Incident Zip</th>\n",
       "      <th>Descriptor</th>\n",
       "      <th>City</th>\n",
       "    </tr>\n",
       "  </thead>\n",
       "  <tbody>\n",
       "    <tr>\n",
       "      <th>71834</th>\n",
       "      <td>23502</td>\n",
       "      <td>Harassment</td>\n",
       "      <td>NORFOLK</td>\n",
       "    </tr>\n",
       "    <tr>\n",
       "      <th>47048</th>\n",
       "      <td>23541</td>\n",
       "      <td>Harassment</td>\n",
       "      <td>NORFOLK</td>\n",
       "    </tr>\n",
       "    <tr>\n",
       "      <th>85821</th>\n",
       "      <td>29616-0759</td>\n",
       "      <td>Debt Not Owed</td>\n",
       "      <td>GREENVILLE</td>\n",
       "    </tr>\n",
       "    <tr>\n",
       "      <th>...</th>\n",
       "      <td>...</td>\n",
       "      <td>...</td>\n",
       "      <td>...</td>\n",
       "    </tr>\n",
       "    <tr>\n",
       "      <th>44008</th>\n",
       "      <td>90010</td>\n",
       "      <td>Billing Dispute</td>\n",
       "      <td>LOS ANGELES</td>\n",
       "    </tr>\n",
       "    <tr>\n",
       "      <th>57636</th>\n",
       "      <td>92123</td>\n",
       "      <td>Harassment</td>\n",
       "      <td>SAN DIEGO</td>\n",
       "    </tr>\n",
       "    <tr>\n",
       "      <th>71001</th>\n",
       "      <td>92123</td>\n",
       "      <td>Billing Dispute</td>\n",
       "      <td>SAN DIEGO</td>\n",
       "    </tr>\n",
       "  </tbody>\n",
       "</table>\n",
       "<p>13 rows × 3 columns</p>\n",
       "</div>"
      ],
      "text/plain": [
       "      Incident Zip       Descriptor         City\n",
       "71834        23502       Harassment      NORFOLK\n",
       "47048        23541       Harassment      NORFOLK\n",
       "85821   29616-0759    Debt Not Owed   GREENVILLE\n",
       "...            ...              ...          ...\n",
       "44008        90010  Billing Dispute  LOS ANGELES\n",
       "57636        92123       Harassment    SAN DIEGO\n",
       "71001        92123  Billing Dispute    SAN DIEGO\n",
       "\n",
       "[13 rows x 3 columns]"
      ]
     },
     "execution_count": 17,
     "metadata": {},
     "output_type": "execute_result"
    }
   ],
   "source": [
    "request[is_far][[\"Incident Zip\",\"Descriptor\",\"City\"]].sort_values(\"Incident Zip\")"
   ]
  },
  {
   "cell_type": "code",
   "execution_count": 18,
   "metadata": {},
   "outputs": [
    {
     "data": {
      "text/plain": [
       "BROOKLYN      31662\n",
       "NEW YORK      22664\n",
       "BRONX         18438\n",
       "              ...  \n",
       "FREEPORT          1\n",
       "SYRACUSE          1\n",
       "BIRMINGHAM        1\n",
       "Name: City, Length: 100, dtype: int64"
      ]
     },
     "execution_count": 18,
     "metadata": {},
     "output_type": "execute_result"
    }
   ],
   "source": [
    "request1=request[\"City\"].str.upper().value_counts()\n",
    "request1"
   ]
  },
  {
   "cell_type": "code",
   "execution_count": 19,
   "metadata": {},
   "outputs": [
    {
     "data": {
      "text/plain": [
       "<AxesSubplot:>"
      ]
     },
     "execution_count": 19,
     "metadata": {},
     "output_type": "execute_result"
    },
    {
     "data": {
      "image/png": "[encoded data removed]",
      "text/plain": [
       "<Figure size 1080x360 with 1 Axes>"
      ]
     },
     "metadata": {},
     "output_type": "display_data"
    }
   ],
   "source": [
    "request1.plot(kind=\"bar\")"
   ]
  },
  {
   "cell_type": "code",
   "execution_count": 20,
   "metadata": {},
   "outputs": [
    {
     "data": {
      "text/plain": [
       "5"
      ]
     },
     "execution_count": 20,
     "metadata": {},
     "output_type": "execute_result"
    }
   ],
   "source": [
    "rows_with_dashes=request[\"Incident Zip\"].str.contains(\"-\").fillna(False)\n",
    "len(request[rows_with_dashes])"
   ]
  },
  {
   "cell_type": "code",
   "execution_count": 21,
   "metadata": {},
   "outputs": [
    {
     "data": {
      "text/plain": [
       "29136    77092-2016\n",
       "30939    55164-0737\n",
       "70539    11549-3650\n",
       "85821    29616-0759\n",
       "89304    35209-3114\n",
       "Name: Incident Zip, dtype: object"
      ]
     },
     "execution_count": 21,
     "metadata": {},
     "output_type": "execute_result"
    }
   ],
   "source": [
    "request[rows_with_dashes][\"Incident Zip\"]"
   ]
  },
  {
   "cell_type": "code",
   "execution_count": 23,
   "metadata": {},
   "outputs": [
    {
     "data": {
      "text/plain": [
       "array(['77092-2016', '55164-0737', '000000', '11549-3650', '29616-0759',\n",
       "       '35209-3114'], dtype=object)"
      ]
     },
     "execution_count": 23,
     "metadata": {},
     "output_type": "execute_result"
    }
   ],
   "source": [
    "long_zip_codes=request[\"Incident Zip\"].str.len()>5\n",
    "request[\"Incident Zip\"][long_zip_codes].unique()"
   ]
  },
  {
   "cell_type": "code",
   "execution_count": 25,
   "metadata": {},
   "outputs": [],
   "source": [
    "request[\"Incident Zip\"]=request[\"Incident Zip\"].str.slice(0,5)"
   ]
  },
  {
   "cell_type": "code",
   "execution_count": 33,
   "metadata": {},
   "outputs": [
    {
     "data": {
      "text/html": [
       "<div>\n",
       "<style scoped>\n",
       "    .dataframe tbody tr th:only-of-type {\n",
       "        vertical-align: middle;\n",
       "    }\n",
       "\n",
       "    .dataframe tbody tr th {\n",
       "        vertical-align: top;\n",
       "    }\n",
       "\n",
       "    .dataframe thead th {\n",
       "        text-align: right;\n",
       "    }\n",
       "</style>\n",
       "<table border=\"1\" class=\"dataframe\">\n",
       "  <thead>\n",
       "    <tr style=\"text-align: right;\">\n",
       "      <th></th>\n",
       "      <th>Unique Key</th>\n",
       "      <th>Created Date</th>\n",
       "      <th>Closed Date</th>\n",
       "      <th>Agency</th>\n",
       "      <th>Agency Name</th>\n",
       "      <th>Complaint Type</th>\n",
       "      <th>Descriptor</th>\n",
       "      <th>Location Type</th>\n",
       "      <th>Incident Zip</th>\n",
       "      <th>Incident Address</th>\n",
       "      <th>...</th>\n",
       "      <th>Bridge Highway Name</th>\n",
       "      <th>Bridge Highway Direction</th>\n",
       "      <th>Road Ramp</th>\n",
       "      <th>Bridge Highway Segment</th>\n",
       "      <th>Garage Lot Name</th>\n",
       "      <th>Ferry Direction</th>\n",
       "      <th>Ferry Terminal Name</th>\n",
       "      <th>Latitude</th>\n",
       "      <th>Longitude</th>\n",
       "      <th>Location</th>\n",
       "    </tr>\n",
       "  </thead>\n",
       "  <tbody>\n",
       "    <tr>\n",
       "      <th>42600</th>\n",
       "      <td>26529313</td>\n",
       "      <td>10/22/2013 02:51:06 PM</td>\n",
       "      <td>NaN</td>\n",
       "      <td>TLC</td>\n",
       "      <td>Taxi and Limousine Commission</td>\n",
       "      <td>Taxi Complaint</td>\n",
       "      <td>Driver Complaint</td>\n",
       "      <td>NaN</td>\n",
       "      <td>00000</td>\n",
       "      <td>EWR EWR</td>\n",
       "      <td>...</td>\n",
       "      <td>NaN</td>\n",
       "      <td>NaN</td>\n",
       "      <td>NaN</td>\n",
       "      <td>NaN</td>\n",
       "      <td>NaN</td>\n",
       "      <td>NaN</td>\n",
       "      <td>NaN</td>\n",
       "      <td>NaN</td>\n",
       "      <td>NaN</td>\n",
       "      <td>NaN</td>\n",
       "    </tr>\n",
       "    <tr>\n",
       "      <th>60843</th>\n",
       "      <td>26507389</td>\n",
       "      <td>10/17/2013 05:48:44 PM</td>\n",
       "      <td>NaN</td>\n",
       "      <td>TLC</td>\n",
       "      <td>Taxi and Limousine Commission</td>\n",
       "      <td>Taxi Complaint</td>\n",
       "      <td>Driver Complaint</td>\n",
       "      <td>Street</td>\n",
       "      <td>00000</td>\n",
       "      <td>1 NEWARK AIRPORT</td>\n",
       "      <td>...</td>\n",
       "      <td>NaN</td>\n",
       "      <td>NaN</td>\n",
       "      <td>NaN</td>\n",
       "      <td>NaN</td>\n",
       "      <td>NaN</td>\n",
       "      <td>NaN</td>\n",
       "      <td>NaN</td>\n",
       "      <td>NaN</td>\n",
       "      <td>NaN</td>\n",
       "      <td>NaN</td>\n",
       "    </tr>\n",
       "  </tbody>\n",
       "</table>\n",
       "<p>2 rows × 52 columns</p>\n",
       "</div>"
      ],
      "text/plain": [
       "       Unique Key            Created Date Closed Date Agency  \\\n",
       "42600    26529313  10/22/2013 02:51:06 PM         NaN    TLC   \n",
       "60843    26507389  10/17/2013 05:48:44 PM         NaN    TLC   \n",
       "\n",
       "                         Agency Name  Complaint Type        Descriptor  \\\n",
       "42600  Taxi and Limousine Commission  Taxi Complaint  Driver Complaint   \n",
       "60843  Taxi and Limousine Commission  Taxi Complaint  Driver Complaint   \n",
       "\n",
       "      Location Type Incident Zip  Incident Address  ... Bridge Highway Name  \\\n",
       "42600           NaN        00000           EWR EWR  ...                 NaN   \n",
       "60843        Street        00000  1 NEWARK AIRPORT  ...                 NaN   \n",
       "\n",
       "      Bridge Highway Direction Road Ramp Bridge Highway Segment  \\\n",
       "42600                      NaN       NaN                    NaN   \n",
       "60843                      NaN       NaN                    NaN   \n",
       "\n",
       "      Garage Lot Name Ferry Direction Ferry Terminal Name Latitude Longitude  \\\n",
       "42600             NaN             NaN                 NaN      NaN       NaN   \n",
       "60843             NaN             NaN                 NaN      NaN       NaN   \n",
       "\n",
       "      Location  \n",
       "42600      NaN  \n",
       "60843      NaN  \n",
       "\n",
       "[2 rows x 52 columns]"
      ]
     },
     "execution_count": 33,
     "metadata": {},
     "output_type": "execute_result"
    }
   ],
   "source": [
    "request[request[\"Incident Zip\"]==\"00000\"]"
   ]
  },
  {
   "cell_type": "code",
   "execution_count": 34,
   "metadata": {},
   "outputs": [],
   "source": [
    "zero_zips=request[\"Incident Zip\"]==\"00000\"\n",
    "request.loc[zero_zips,\"Incident Zip\"]=np.nan"
   ]
  },
  {
   "cell_type": "code",
   "execution_count": 35,
   "metadata": {},
   "outputs": [],
   "source": [
    "unik_zips=request[\"Incident Zip\"].unique()"
   ]
  },
  {
   "cell_type": "code",
   "execution_count": 36,
   "metadata": {},
   "outputs": [
    {
     "data": {
      "text/plain": [
       "array(['11432', '11378', '10032', '10023', '10027', '11372', '11419',\n",
       "       '11417', '10011', '11225', '11218', '10003', '10029', '10466',\n",
       "       '11219', '10025', '10310', '11236', nan, '10033', '11216', '10016',\n",
       "       '10305', '10312', '10026', '10309', '10036', '11433', '11235',\n",
       "       '11213', '11379', '11101', '10014', '11231', '11234', '10457',\n",
       "       '10459', '10465', '11207', '10002', '10034', '11233', '10453',\n",
       "       '10456', '10469', '11374', '11221', '11421', '11215', '10007',\n",
       "       '10019', '11205', '11418', '11369', '11249', '10005', '10009',\n",
       "       '11211', '11412', '10458', '11229', '10065', '10030', '11222',\n",
       "       '10024', '10013', '11420', '11365', '10012', '11214', '11212',\n",
       "       '10022', '11232', '11040', '11226', '10281', '11102', '11208',\n",
       "       '10001', '10472', '11414', '11223', '10040', '11220', '11373',\n",
       "       '11203', '11691', '11356', '10017', '10452', '10280', '11217',\n",
       "       '10031', '11201', '11358', '10128', '11423', '10039', '10010',\n",
       "       '11209', '10021', '10037', '11413', '11375', '11238', '10473',\n",
       "       '11103', '11354', '11361', '11106', '11385', '10463', '10467',\n",
       "       '11204', '11237', '11377', '11364', '11434', '11435', '11210',\n",
       "       '11228', '11368', '11694', '10464', '11415', '10314', '10301',\n",
       "       '10018', '10038', '11105', '11230', '10468', '11104', '10471',\n",
       "       '11416', '10075', '11422', '11355', '10028', '10462', '10306',\n",
       "       '10461', '11224', '11429', '10035', '11366', '11362', '11206',\n",
       "       '10460', '10304', '11360', '11411', '10455', '10475', '10069',\n",
       "       '10303', '10308', '10302', '11357', '10470', '11367', '11370',\n",
       "       '10454', '10451', '11436', '11426', '10153', '11004', '11428',\n",
       "       '11427', '11001', '11363', '10004', '10474', '11430', '10000',\n",
       "       '10307', '11239', '10119', '10006', '10048', '11697', '11692',\n",
       "       '11693', '10573', '00083', '11559', '10020', '77056', '11776',\n",
       "       '70711', '10282', '11109', '10044', '02061', '77092', '14225',\n",
       "       '55164', '19711', '07306', '90010', '11747', '23541', '11788',\n",
       "       '07604', '10112', '11563', '11580', '07087', '11042', '07093',\n",
       "       '11501', '92123', '11575', '07109', '11797', '10803', '11716',\n",
       "       '11722', '11549', '10162', '23502', '11518', '07020', '08807',\n",
       "       '11577', '07114', '11003', '07201', '61702', '10103', '29616',\n",
       "       '35209', '11520', '11735', '10129', '11005', '41042', '11590',\n",
       "       '06901', '07208', '11530', '13221', '10954', '11111', '10107'],\n",
       "      dtype=object)"
      ]
     },
     "execution_count": 36,
     "metadata": {},
     "output_type": "execute_result"
    }
   ],
   "source": [
    "unik_zips"
   ]
  },
  {
   "cell_type": "code",
   "execution_count": null,
   "metadata": {},
   "outputs": [],
   "source": []
  }
 ],
 "metadata": {
  "kernelspec": {
   "display_name": "Python 3",
   "language": "python",
   "name": "python3"
  },
  "language_info": {
   "codemirror_mode": {
    "name": "ipython",
    "version": 3
   },
   "file_extension": ".py",
   "mimetype": "text/x-python",
   "name": "python",
   "nbconvert_exporter": "python",
   "pygments_lexer": "ipython3",
   "version": "3.8.5"
  },
  "nbTranslate": {
   "displayLangs": [
    "*"
   ],
   "hotkey": "alt-t",
   "langInMainMenu": true,
   "sourceLang": "en",
   "targetLang": "fr",
   "useGoogleTranslate": true
  },
  "toc": {
   "base_numbering": 1,
   "nav_menu": {},
   "number_sections": true,
   "sideBar": true,
   "skip_h1_title": false,
   "title_cell": "Table of Contents",
   "title_sidebar": "Contents",
   "toc_cell": false,
   "toc_position": {},
   "toc_section_display": true,
   "toc_window_display": false
  },
  "varInspector": {
   "cols": {
    "lenName": 16,
    "lenType": 16,
    "lenVar": 40
   },
   "kernels_config": {
    "python": {
     "delete_cmd_postfix": "",
     "delete_cmd_prefix": "del ",
     "library": "var_list.py",
     "varRefreshCmd": "print(var_dic_list())"
    },
    "r": {
     "delete_cmd_postfix": ") ",
     "delete_cmd_prefix": "rm(",
     "library": "var_list.r",
     "varRefreshCmd": "cat(var_dic_list()) "
    }
   },
   "types_to_exclude": [
    "module",
    "function",
    "builtin_function_or_method",
    "instance",
    "_Feature"
   ],
   "window_display": false
  }
 },
 "nbformat": 4,
 "nbformat_minor": 4
}
