{
 "cells": [
  {
   "cell_type": "markdown",
   "metadata": {},
   "source": [
    "Хи^2 Пирсона"
   ]
  },
  {
   "cell_type": "code",
   "execution_count": 1,
   "metadata": {},
   "outputs": [],
   "source": [
    "import numpy as np\n",
    "import pandas as pd\n",
    "import scipy.stats as stats\n",
    "import pandas as pd\n",
    "import matplotlib.pyplot as plt\n",
    "from statsmodels.graphics.mosaicplot import mosaic\n",
    "\n",
    "from scipy.stats import chi2_contingency\n",
    "import seaborn as sns\n",
    "import matplotlib.patches as mpatches\n",
    "from itertools import product"
   ]
  },
  {
   "cell_type": "code",
   "execution_count": 2,
   "metadata": {},
   "outputs": [
    {
     "data": {
      "text/plain": [
       "Power_divergenceResult(statistic=2.62, pvalue=0.26982005638468687)"
      ]
     },
     "execution_count": 2,
     "metadata": {},
     "output_type": "execute_result"
    }
   ],
   "source": [
    "stats.chisquare([18,55,27],f_exp=[25,50,25])"
   ]
  },
  {
   "cell_type": "markdown",
   "metadata": {},
   "source": [
    "X^2 Cтепень отклонения ожидаемых значений от наблюдаемых 2,62\n",
    "\n",
    "Вероятность 0,26"
   ]
  },
  {
   "cell_type": "markdown",
   "metadata": {},
   "source": [
    "Распределение расстояния хи-квадрат "
   ]
  },
  {
   "cell_type": "code",
   "execution_count": 3,
   "metadata": {},
   "outputs": [],
   "source": [
    "import random"
   ]
  },
  {
   "cell_type": "code",
   "execution_count": 4,
   "metadata": {},
   "outputs": [
    {
     "data": {
      "image/png": "[encoded data removed]",
      "text/plain": [
       "<Figure size 432x288 with 1 Axes>"
      ]
     },
     "metadata": {
      "needs_background": "light"
     },
     "output_type": "display_data"
    }
   ],
   "source": [
    "y=[]\n",
    "for x in range (100):\n",
    "    x=[]\n",
    "    for i in range (60):\n",
    "        x.append(random.randint(0,1))\n",
    "    \n",
    "    y.append((x.count(0)-30)**2/30+(x.count(1)-30)**2/30)\n",
    "plt.hist(y); #гистограмма"
   ]
  },
  {
   "cell_type": "markdown",
   "metadata": {},
   "source": [
    "###### эмпирическое распределение частот не отличается от равномерного"
   ]
  },
  {
   "cell_type": "code",
   "execution_count": 5,
   "metadata": {},
   "outputs": [
    {
     "data": {
      "text/plain": [
       "Power_divergenceResult(statistic=5.0, pvalue=0.4158801869955079)"
      ]
     },
     "execution_count": 5,
     "metadata": {},
     "output_type": "execute_result"
    }
   ],
   "source": [
    "stats.chisquare(f_obs=[10,10,5,10,10,15], f_exp=[10,10,10,10,10,10])"
   ]
  },
  {
   "cell_type": "markdown",
   "metadata": {},
   "source": [
    "Х^2=5\n",
    "\n",
    "p-уровень значимости 0,415"
   ]
  },
  {
   "cell_type": "code",
   "execution_count": 6,
   "metadata": {},
   "outputs": [
    {
     "data": {
      "text/plain": [
       "Power_divergenceResult(statistic=5.0, pvalue=0.4158801869955079)"
      ]
     },
     "execution_count": 6,
     "metadata": {},
     "output_type": "execute_result"
    }
   ],
   "source": [
    "stats.chisquare([10, 10, 10, 5, 10, 15])"
   ]
  },
  {
   "cell_type": "code",
   "execution_count": 7,
   "metadata": {},
   "outputs": [
    {
     "data": {
      "text/plain": [
       "0.415880186995508"
      ]
     },
     "execution_count": 7,
     "metadata": {},
     "output_type": "execute_result"
    }
   ],
   "source": [
    "pvalue=1-stats.chi2.cdf(5,5)\n",
    "pvalue"
   ]
  },
  {
   "cell_type": "code",
   "execution_count": 8,
   "metadata": {},
   "outputs": [
    {
     "data": {
      "text/plain": [
       "1.6193268820297035e-06"
      ]
     },
     "execution_count": 8,
     "metadata": {},
     "output_type": "execute_result"
    }
   ],
   "source": [
    "pvalue=1-stats.chi2.cdf(26.667,2)\n",
    "pvalue"
   ]
  },
  {
   "cell_type": "code",
   "execution_count": 9,
   "metadata": {},
   "outputs": [
    {
     "data": {
      "text/plain": [
       "Power_divergenceResult(statistic=26.666666666666668, pvalue=1.61959679231261e-06)"
      ]
     },
     "execution_count": 9,
     "metadata": {},
     "output_type": "execute_result"
    }
   ],
   "source": [
    "stats.chisquare([10,30,50])"
   ]
  },
  {
   "cell_type": "markdown",
   "metadata": {},
   "source": [
    "Х^2=26,666\n",
    "\n",
    "p-уровень значимости 1.619\n",
    "\n",
    "p > 0,05 нет оснований отклонить нулевую гипотезу."
   ]
  },
  {
   "cell_type": "code",
   "execution_count": 10,
   "metadata": {},
   "outputs": [
    {
     "data": {
      "text/plain": [
       "0.020136751550346332"
      ]
     },
     "execution_count": 10,
     "metadata": {},
     "output_type": "execute_result"
    }
   ],
   "source": [
    "pvalue=1-stats.chi2.cdf(5.4,1)\n",
    "pvalue"
   ]
  },
  {
   "cell_type": "code",
   "execution_count": 11,
   "metadata": {},
   "outputs": [
    {
     "data": {
      "text/plain": [
       "Power_divergenceResult(statistic=5.4, pvalue=0.02013675155034633)"
      ]
     },
     "execution_count": 11,
     "metadata": {},
     "output_type": "execute_result"
    }
   ],
   "source": [
    "stats.chisquare([795,705])"
   ]
  },
  {
   "cell_type": "markdown",
   "metadata": {},
   "source": [
    "### Дисбаланс классов при расчете ожидаемых частот"
   ]
  },
  {
   "cell_type": "code",
   "execution_count": 12,
   "metadata": {},
   "outputs": [
    {
     "data": {
      "text/plain": [
       "(3.715714285714286,\n",
       " 0.053902557169387154,\n",
       " 1,\n",
       " array([[ 6.66666667,  9.33333333],\n",
       "        [ 8.33333333, 11.66666667]]))"
      ]
     },
     "execution_count": 12,
     "metadata": {},
     "output_type": "execute_result"
    }
   ],
   "source": [
    "x=([10,6],[5,15])\n",
    "stats.chi2_contingency(x)"
   ]
  },
  {
   "cell_type": "code",
   "execution_count": 13,
   "metadata": {},
   "outputs": [
    {
     "data": {
      "text/plain": [
       "array([[ 6.66666667,  9.33333333],\n",
       "       [ 8.33333333, 11.66666667]])"
      ]
     },
     "execution_count": 13,
     "metadata": {},
     "output_type": "execute_result"
    }
   ],
   "source": [
    "stats.contingency.expected_freq(x)"
   ]
  },
  {
   "cell_type": "code",
   "execution_count": 14,
   "metadata": {},
   "outputs": [
    {
     "data": {
      "text/plain": [
       "(0.0340764831573656,\n",
       " 0.8535442239746989,\n",
       " 1,\n",
       " array([[15.2195122,  8.7804878],\n",
       "        [10.7804878,  6.2195122]]))"
      ]
     },
     "execution_count": 14,
     "metadata": {},
     "output_type": "execute_result"
    }
   ],
   "source": [
    "stats.chi2_contingency(([15, 9], [11, 6]))"
   ]
  },
  {
   "cell_type": "code",
   "execution_count": null,
   "metadata": {},
   "outputs": [],
   "source": []
  },
  {
   "cell_type": "markdown",
   "metadata": {},
   "source": [
    "X^2=0.0340764831573656\n",
    "\n",
    "p-уровень значимости=0.8535442239746989"
   ]
  },
  {
   "cell_type": "code",
   "execution_count": 15,
   "metadata": {},
   "outputs": [
    {
     "data": {
      "text/plain": [
       "(0.9544070774762996,\n",
       " 0.6205162173513055,\n",
       " 2,\n",
       " array([[17.97297297, 17.02702703],\n",
       "        [11.81081081, 11.18918919],\n",
       "        [ 8.21621622,  7.78378378]]))"
      ]
     },
     "execution_count": 15,
     "metadata": {},
     "output_type": "execute_result"
    }
   ],
   "source": [
    "stats.chi2_contingency(([20, 15], [11, 12], [7, 9]))"
   ]
  },
  {
   "cell_type": "code",
   "execution_count": 16,
   "metadata": {},
   "outputs": [
    {
     "data": {
      "text/plain": [
       "(5.57719298245614,\n",
       " 0.018195864430772903,\n",
       " 1,\n",
       " array([[13.63636364, 11.36363636],\n",
       "        [10.36363636,  8.63636364]]))"
      ]
     },
     "execution_count": 16,
     "metadata": {},
     "output_type": "execute_result"
    }
   ],
   "source": [
    "stats.chi2_contingency(([18, 7], [6, 13]))"
   ]
  },
  {
   "cell_type": "markdown",
   "metadata": {},
   "source": [
    "p-уровень значимости позволяет отклонить 0 гипотезу о том, что нет взаимосвязи между значениями"
   ]
  },
  {
   "cell_type": "markdown",
   "metadata": {},
   "source": [
    "### В каких ячейках отклоняются наблюдаемые частоты от ожидаемых"
   ]
  },
  {
   "cell_type": "code",
   "execution_count": 17,
   "metadata": {},
   "outputs": [
    {
     "data": {
      "image/png": "[encoded data removed]",
      "text/plain": [
       "<Figure size 432x288 with 3 Axes>"
      ]
     },
     "metadata": {
      "needs_background": "light"
     },
     "output_type": "display_data"
    }
   ],
   "source": [
    "pill_data = {('No', 'Aspirine'): 18,\n",
    "             ('No', 'Placebo'): 7,\n",
    "             ('Trombosis', 'Aspirine'): 6,\n",
    "             ('Trombosis', 'Placebo'): 13,\n",
    "            }\n",
    "mosaic(pill_data, gap=0.01, title=\"Анализ таблиц сопряженности.\", );\n"
   ]
  },
  {
   "cell_type": "markdown",
   "metadata": {},
   "source": [
    "Вероятность избежать тромбоза значимо выше в группе пациентов, употреблявших небольшие дозы аспирина: 68%, n1=19, чем в контрольной группе пациентов: 28%, n2 = 25,χ^2(1)=5.58,p=0.018"
   ]
  },
  {
   "cell_type": "markdown",
   "metadata": {},
   "source": [
    "- размер прямоугольников  соответствует количеству наблюдений.\n",
    "- цвет прямоугольников - величине значимости отклонения ожидаемых и наблюдаемых частот в этой ячейке.\n",
    "- если значения стандартизированных остатков больше 3х, можно считать, что в этой ячейке зафиксированы значимые отклонения."
   ]
  },
  {
   "cell_type": "code",
   "execution_count": 18,
   "metadata": {},
   "outputs": [],
   "source": [
    "def make_me_plot(data):\n",
    "    # Проводим анализ таблиц сопряженности\n",
    "    data = data.copy()\n",
    "    obs = data.unstack().T.values\n",
    "    chi, pval, dof, est = chi2_contingency(obs)\n",
    "    remains = (obs - est)  / np.sqrt(est)\n",
    "    \n",
    "    # Присваиваем соответствующие цвета\n",
    "    hex_colors = sns.color_palette(\"coolwarm\", 6).as_hex()\n",
    "    color_labels = ['<-4', '-4:-2', '-2:0', '0:2', '2:4', '>4'][::-1]\n",
    "    colors = pd.Series([x  for x in remains.ravel()], index=data.index, name='color')\n",
    "    valrange = np.array([-np.inf, -4, -2, 0, 2, 4, np.inf])\n",
    "    color_prop = {k: {'color' : hex_colors[np.argmax(v < valrange) - 1]}  for k, v in colors.iteritems()}\n",
    "    patches = [mpatches.Patch(color=c, label=l) for c, l in zip(hex_colors, color_labels)]\n",
    "    \n",
    "    # Передаем все данные matplotlib\n",
    "    fig, ax = plt.subplots()\n",
    "    mosaic(data, gap=.02, properties=color_prop, ax=ax, labelizer= lambda x: '')\n",
    "    fig.legend(handles=patches, bbox_to_anchor=(0.6, 0., 0.5, 0.5))"
   ]
  },
  {
   "cell_type": "code",
   "execution_count": 19,
   "metadata": {},
   "outputs": [],
   "source": [
    "cure = ['Placebo', 'Aspirine']\n",
    "effect = ['Normal', 'Trombosis']\n",
    "idx = pd.MultiIndex.from_tuples(product(cure, effect))\n",
    "data = pd.Series([7, 13, 18, 6], index=idx)"
   ]
  },
  {
   "cell_type": "code",
   "execution_count": 20,
   "metadata": {},
   "outputs": [
    {
     "data": {
      "image/png": "[encoded data removed]",
      "text/plain": [
       "<Figure size 432x288 with 3 Axes>"
      ]
     },
     "metadata": {
      "needs_background": "light"
     },
     "output_type": "display_data"
    }
   ],
   "source": [
    "make_me_plot(data)"
   ]
  },
  {
   "cell_type": "code",
   "execution_count": 21,
   "metadata": {},
   "outputs": [],
   "source": [
    "cure = ['Placebo', 'Aspirine']\n",
    "effect = ['Normal', 'Trombosis']\n",
    "idx = pd.MultiIndex.from_tuples(product(cure, effect))\n",
    "data = pd.Series([1, 25, 30, 3], index=idx)"
   ]
  },
  {
   "cell_type": "code",
   "execution_count": 22,
   "metadata": {},
   "outputs": [
    {
     "data": {
      "image/png": "[encoded data removed]",
      "text/plain": [
       "<Figure size 432x288 with 3 Axes>"
      ]
     },
     "metadata": {
      "needs_background": "light"
     },
     "output_type": "display_data"
    }
   ],
   "source": [
    "make_me_plot(data)"
   ]
  },
  {
   "cell_type": "markdown",
   "metadata": {},
   "source": [
    "При анализе четырехпольных таблиц ожидаемые значения в каждой из ячеек должны быть не менее 10. \n",
    "\n",
    "В том случае, если хотя бы в одной ячейке ожидаемое явление принимает значение от 5 до 9, критерий хи-квадрат должен рассчитываться с поправкой Йейтса. \n",
    "\n",
    "Если хотя бы в одной ячейке ожидаемое явление меньше 5, то для анализа должен использоваться точный критерий Фишера.\n",
    "\n",
    "В случае анализа многопольных таблиц ожидаемое число наблюдений не должно принимать значения менее 5 более чем в 20% ячеек."
   ]
  },
  {
   "cell_type": "markdown",
   "metadata": {},
   "source": [
    "### Точный критерий Фишера\n",
    "\n",
    "1.Биноминальное распределение Формула Бернулли\n",
    "\n",
    "2.Отношение факториалов данных для расчета вероятности"
   ]
  },
  {
   "cell_type": "code",
   "execution_count": 23,
   "metadata": {},
   "outputs": [
    {
     "data": {
      "text/plain": [
       "20.0"
      ]
     },
     "execution_count": 23,
     "metadata": {},
     "output_type": "execute_result"
    }
   ],
   "source": [
    "# C из формулы Бернулли\n",
    "\n",
    "import math\n",
    "\n",
    "def C(n, k):\n",
    "    return math.factorial(n) / (math.factorial(k) * math.factorial(n-k))\n",
    "C(6,3)"
   ]
  },
  {
   "cell_type": "code",
   "execution_count": 24,
   "metadata": {},
   "outputs": [
    {
     "data": {
      "text/plain": [
       "(0.1111111111111111, 0.48571428571428527)"
      ]
     },
     "execution_count": 24,
     "metadata": {},
     "output_type": "execute_result"
    }
   ],
   "source": [
    "stats.fisher_exact([[1, 3], [3, 1]])"
   ]
  },
  {
   "cell_type": "markdown",
   "metadata": {},
   "source": [
    "p_value=0.48571428571428527"
   ]
  },
  {
   "cell_type": "code",
   "execution_count": 25,
   "metadata": {},
   "outputs": [
    {
     "data": {
      "text/plain": [
       "(inf, 0.028571428571428536)"
      ]
     },
     "execution_count": 25,
     "metadata": {},
     "output_type": "execute_result"
    }
   ],
   "source": [
    "stats.fisher_exact([[4, 0], [0, 4]])"
   ]
  },
  {
   "cell_type": "markdown",
   "metadata": {},
   "source": [
    "## Формула Фишера"
   ]
  },
  {
   "cell_type": "code",
   "execution_count": 30,
   "metadata": {},
   "outputs": [],
   "source": [
    "# from itertools import combinations\n",
    "# def C(n, k):\n",
    "#     return len(list(combinations(range(n), k)))\n",
    "\n",
    "def C(n, k):\n",
    "    return math.factorial(n) / (math.factorial(k) * math.factorial(n-k))\n",
    "\n",
    "def CF (a, b, c, d):\n",
    "    n = a + b + c + d\n",
    "    return C(a + b, a) * C(c + d, c) / C(n, a + c)"
   ]
  },
  {
   "cell_type": "code",
   "execution_count": 36,
   "metadata": {},
   "outputs": [],
   "source": [
    "test_1=CF(3, 1, 1, 3)\n",
    "test_2=CF(0, 4, 4, 0)\n",
    "test_3=CF(4, 0, 0, 4)\n",
    "test_4=CF(1, 3, 3, 1)"
   ]
  },
  {
   "cell_type": "code",
   "execution_count": 40,
   "metadata": {},
   "outputs": [
    {
     "data": {
      "text/plain": [
       "0.48571428571428565"
      ]
     },
     "execution_count": 40,
     "metadata": {},
     "output_type": "execute_result"
    }
   ],
   "source": [
    "p_value=test_1+test_2+test_3+test_4\n",
    "p_value"
   ]
  },
  {
   "cell_type": "code",
   "execution_count": null,
   "metadata": {},
   "outputs": [],
   "source": [
    "p уровень значимости не позволяет отклонить 0 гипотезу"
   ]
  }
 ],
 "metadata": {
  "kernelspec": {
   "display_name": "Python 3",
   "language": "python",
   "name": "python3"
  },
  "language_info": {
   "codemirror_mode": {
    "name": "ipython",
    "version": 3
   },
   "file_extension": ".py",
   "mimetype": "text/x-python",
   "name": "python",
   "nbconvert_exporter": "python",
   "pygments_lexer": "ipython3",
   "version": "3.8.5"
  },
  "toc": {
   "base_numbering": 1,
   "nav_menu": {},
   "number_sections": true,
   "sideBar": true,
   "skip_h1_title": false,
   "title_cell": "Table of Contents",
   "title_sidebar": "Contents",
   "toc_cell": false,
   "toc_position": {},
   "toc_section_display": true,
   "toc_window_display": false
  },
  "varInspector": {
   "cols": {
    "lenName": 16,
    "lenType": 16,
    "lenVar": 40
   },
   "kernels_config": {
    "python": {
     "delete_cmd_postfix": "",
     "delete_cmd_prefix": "del ",
     "library": "var_list.py",
     "varRefreshCmd": "print(var_dic_list())"
    },
    "r": {
     "delete_cmd_postfix": ") ",
     "delete_cmd_prefix": "rm(",
     "library": "var_list.r",
     "varRefreshCmd": "cat(var_dic_list()) "
    }
   },
   "types_to_exclude": [
    "module",
    "function",
    "builtin_function_or_method",
    "instance",
    "_Feature"
   ],
   "window_display": false
  }
 },
 "nbformat": 4,
 "nbformat_minor": 4
}
