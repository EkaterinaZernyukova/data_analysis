{
 "cells": [
  {
   "cell_type": "code",
   "execution_count": 1,
   "metadata": {},
   "outputs": [],
   "source": [
    "%matplotlib inline\n",
    "import numpy as np\n",
    "import pandas as pd\n",
    "import matplotlib.pyplot as plt"
   ]
  },
  {
   "cell_type": "code",
   "execution_count": 2,
   "metadata": {},
   "outputs": [],
   "source": [
    "pd.options.display.max_rows = 15\n",
    "# устанавливает максимальное количество отображаемых строк(rows) и столбцов(columns). Усеченные линии заменяются многоточием."
   ]
  },
  {
   "cell_type": "code",
   "execution_count": 3,
   "metadata": {},
   "outputs": [],
   "source": [
    "plt.style.use(\"ggplot\")\n",
    "# plt.style.available\n",
    "# Matplotlib Style Gallery"
   ]
  },
  {
   "cell_type": "code",
   "execution_count": 4,
   "metadata": {},
   "outputs": [],
   "source": [
    "plt.rcParams[\"figure.figsize\"] = (15, 5)\n",
    "# Это делает ширину фигуры 15 дюймов и ее высоту 5 дюймов."
   ]
  },
  {
   "cell_type": "code",
   "execution_count": 5,
   "metadata": {},
   "outputs": [],
   "source": [
    "plt.rcParams[\"font.family\"] = \"sans-serif\"\n",
    "# Настройка семейства шрифтов"
   ]
  },
  {
   "cell_type": "code",
   "execution_count": 6,
   "metadata": {},
   "outputs": [
    {
     "data": {
      "text/plain": [
       "ï»¿\"Longitude (x)\"     float64\n",
       "Day                      int64\n",
       "Time                    object\n",
       "Temp (ÂC)              float64\n",
       "Dew Point Temp (ÂC)    float64\n",
       "Rel Hum (%)              int64\n",
       "Wind Spd (km/h)          int64\n",
       "Visibility (km)        float64\n",
       "Stn Press (kPa)        float64\n",
       "Weather                 object\n",
       "dtype: object"
      ]
     },
     "execution_count": 6,
     "metadata": {},
     "output_type": "execute_result"
    }
   ],
   "source": [
    "weather_all = pd.read_csv(\"../resources/weather_2012_all.csv\",\n",
    "                          index_col=\"Date/Time\",\n",
    "                          parse_dates=True)\n",
    "weather_all.dtypes"
   ]
  },
  {
   "cell_type": "code",
   "execution_count": 7,
   "metadata": {},
   "outputs": [
    {
     "data": {
      "text/html": [
       "<div>\n",
       "<style scoped>\n",
       "    .dataframe tbody tr th:only-of-type {\n",
       "        vertical-align: middle;\n",
       "    }\n",
       "\n",
       "    .dataframe tbody tr th {\n",
       "        vertical-align: top;\n",
       "    }\n",
       "\n",
       "    .dataframe thead th {\n",
       "        text-align: right;\n",
       "    }\n",
       "</style>\n",
       "<table border=\"1\" class=\"dataframe\">\n",
       "  <thead>\n",
       "    <tr style=\"text-align: right;\">\n",
       "      <th></th>\n",
       "      <th>ï»¿\"Longitude (x)\"</th>\n",
       "      <th>Day</th>\n",
       "      <th>Time</th>\n",
       "      <th>Temp (ÂC)</th>\n",
       "      <th>Dew Point Temp (ÂC)</th>\n",
       "      <th>Rel Hum (%)</th>\n",
       "      <th>Wind Spd (km/h)</th>\n",
       "      <th>Visibility (km)</th>\n",
       "      <th>Stn Press (kPa)</th>\n",
       "      <th>Weather</th>\n",
       "    </tr>\n",
       "    <tr>\n",
       "      <th>Date/Time</th>\n",
       "      <th></th>\n",
       "      <th></th>\n",
       "      <th></th>\n",
       "      <th></th>\n",
       "      <th></th>\n",
       "      <th></th>\n",
       "      <th></th>\n",
       "      <th></th>\n",
       "      <th></th>\n",
       "      <th></th>\n",
       "    </tr>\n",
       "  </thead>\n",
       "  <tbody>\n",
       "    <tr>\n",
       "      <th>2012-01-01 00:00:00</th>\n",
       "      <td>-73.75</td>\n",
       "      <td>1</td>\n",
       "      <td>00:00</td>\n",
       "      <td>-1.8</td>\n",
       "      <td>-3.9</td>\n",
       "      <td>86</td>\n",
       "      <td>4</td>\n",
       "      <td>8.0</td>\n",
       "      <td>101.24</td>\n",
       "      <td>Fog</td>\n",
       "    </tr>\n",
       "    <tr>\n",
       "      <th>2012-01-01 01:00:00</th>\n",
       "      <td>-73.75</td>\n",
       "      <td>1</td>\n",
       "      <td>01:00</td>\n",
       "      <td>-1.8</td>\n",
       "      <td>-3.7</td>\n",
       "      <td>87</td>\n",
       "      <td>4</td>\n",
       "      <td>8.0</td>\n",
       "      <td>101.24</td>\n",
       "      <td>Fog</td>\n",
       "    </tr>\n",
       "    <tr>\n",
       "      <th>2012-01-01 02:00:00</th>\n",
       "      <td>-73.75</td>\n",
       "      <td>1</td>\n",
       "      <td>02:00</td>\n",
       "      <td>-1.8</td>\n",
       "      <td>-3.4</td>\n",
       "      <td>89</td>\n",
       "      <td>7</td>\n",
       "      <td>4.0</td>\n",
       "      <td>101.26</td>\n",
       "      <td>Freezing Drizzle,Fog</td>\n",
       "    </tr>\n",
       "    <tr>\n",
       "      <th>2012-01-01 03:00:00</th>\n",
       "      <td>-73.75</td>\n",
       "      <td>1</td>\n",
       "      <td>03:00</td>\n",
       "      <td>-1.5</td>\n",
       "      <td>-3.2</td>\n",
       "      <td>88</td>\n",
       "      <td>6</td>\n",
       "      <td>4.0</td>\n",
       "      <td>101.27</td>\n",
       "      <td>Freezing Drizzle,Fog</td>\n",
       "    </tr>\n",
       "    <tr>\n",
       "      <th>2012-01-01 04:00:00</th>\n",
       "      <td>-73.75</td>\n",
       "      <td>1</td>\n",
       "      <td>04:00</td>\n",
       "      <td>-1.5</td>\n",
       "      <td>-3.3</td>\n",
       "      <td>88</td>\n",
       "      <td>7</td>\n",
       "      <td>4.8</td>\n",
       "      <td>101.23</td>\n",
       "      <td>Fog</td>\n",
       "    </tr>\n",
       "    <tr>\n",
       "      <th>...</th>\n",
       "      <td>...</td>\n",
       "      <td>...</td>\n",
       "      <td>...</td>\n",
       "      <td>...</td>\n",
       "      <td>...</td>\n",
       "      <td>...</td>\n",
       "      <td>...</td>\n",
       "      <td>...</td>\n",
       "      <td>...</td>\n",
       "      <td>...</td>\n",
       "    </tr>\n",
       "    <tr>\n",
       "      <th>2012-12-31 19:00:00</th>\n",
       "      <td>-73.75</td>\n",
       "      <td>31</td>\n",
       "      <td>19:00</td>\n",
       "      <td>0.1</td>\n",
       "      <td>-2.7</td>\n",
       "      <td>81</td>\n",
       "      <td>30</td>\n",
       "      <td>9.7</td>\n",
       "      <td>100.13</td>\n",
       "      <td>Snow</td>\n",
       "    </tr>\n",
       "    <tr>\n",
       "      <th>2012-12-31 20:00:00</th>\n",
       "      <td>-73.75</td>\n",
       "      <td>31</td>\n",
       "      <td>20:00</td>\n",
       "      <td>0.2</td>\n",
       "      <td>-2.4</td>\n",
       "      <td>83</td>\n",
       "      <td>24</td>\n",
       "      <td>9.7</td>\n",
       "      <td>100.03</td>\n",
       "      <td>Snow</td>\n",
       "    </tr>\n",
       "    <tr>\n",
       "      <th>2012-12-31 21:00:00</th>\n",
       "      <td>-73.75</td>\n",
       "      <td>31</td>\n",
       "      <td>21:00</td>\n",
       "      <td>-0.5</td>\n",
       "      <td>-1.5</td>\n",
       "      <td>93</td>\n",
       "      <td>28</td>\n",
       "      <td>4.8</td>\n",
       "      <td>99.95</td>\n",
       "      <td>Snow</td>\n",
       "    </tr>\n",
       "    <tr>\n",
       "      <th>2012-12-31 22:00:00</th>\n",
       "      <td>-73.75</td>\n",
       "      <td>31</td>\n",
       "      <td>22:00</td>\n",
       "      <td>-0.2</td>\n",
       "      <td>-1.8</td>\n",
       "      <td>89</td>\n",
       "      <td>28</td>\n",
       "      <td>9.7</td>\n",
       "      <td>99.91</td>\n",
       "      <td>Snow</td>\n",
       "    </tr>\n",
       "    <tr>\n",
       "      <th>2012-12-31 23:00:00</th>\n",
       "      <td>-73.75</td>\n",
       "      <td>31</td>\n",
       "      <td>23:00</td>\n",
       "      <td>0.0</td>\n",
       "      <td>-2.1</td>\n",
       "      <td>86</td>\n",
       "      <td>30</td>\n",
       "      <td>11.3</td>\n",
       "      <td>99.89</td>\n",
       "      <td>Snow</td>\n",
       "    </tr>\n",
       "  </tbody>\n",
       "</table>\n",
       "<p>8784 rows × 10 columns</p>\n",
       "</div>"
      ],
      "text/plain": [
       "                     ï»¿\"Longitude (x)\"  Day   Time  Temp (ÂC)  \\\n",
       "Date/Time                                                        \n",
       "2012-01-01 00:00:00              -73.75    1  00:00       -1.8   \n",
       "2012-01-01 01:00:00              -73.75    1  01:00       -1.8   \n",
       "2012-01-01 02:00:00              -73.75    1  02:00       -1.8   \n",
       "2012-01-01 03:00:00              -73.75    1  03:00       -1.5   \n",
       "2012-01-01 04:00:00              -73.75    1  04:00       -1.5   \n",
       "...                                 ...  ...    ...        ...   \n",
       "2012-12-31 19:00:00              -73.75   31  19:00        0.1   \n",
       "2012-12-31 20:00:00              -73.75   31  20:00        0.2   \n",
       "2012-12-31 21:00:00              -73.75   31  21:00       -0.5   \n",
       "2012-12-31 22:00:00              -73.75   31  22:00       -0.2   \n",
       "2012-12-31 23:00:00              -73.75   31  23:00        0.0   \n",
       "\n",
       "                     Dew Point Temp (ÂC)  Rel Hum (%)  Wind Spd (km/h)  \\\n",
       "Date/Time                                                                \n",
       "2012-01-01 00:00:00                 -3.9           86                4   \n",
       "2012-01-01 01:00:00                 -3.7           87                4   \n",
       "2012-01-01 02:00:00                 -3.4           89                7   \n",
       "2012-01-01 03:00:00                 -3.2           88                6   \n",
       "2012-01-01 04:00:00                 -3.3           88                7   \n",
       "...                                  ...          ...              ...   \n",
       "2012-12-31 19:00:00                 -2.7           81               30   \n",
       "2012-12-31 20:00:00                 -2.4           83               24   \n",
       "2012-12-31 21:00:00                 -1.5           93               28   \n",
       "2012-12-31 22:00:00                 -1.8           89               28   \n",
       "2012-12-31 23:00:00                 -2.1           86               30   \n",
       "\n",
       "                     Visibility (km)  Stn Press (kPa)               Weather  \n",
       "Date/Time                                                                    \n",
       "2012-01-01 00:00:00              8.0           101.24                   Fog  \n",
       "2012-01-01 01:00:00              8.0           101.24                   Fog  \n",
       "2012-01-01 02:00:00              4.0           101.26  Freezing Drizzle,Fog  \n",
       "2012-01-01 03:00:00              4.0           101.27  Freezing Drizzle,Fog  \n",
       "2012-01-01 04:00:00              4.8           101.23                   Fog  \n",
       "...                              ...              ...                   ...  \n",
       "2012-12-31 19:00:00              9.7           100.13                  Snow  \n",
       "2012-12-31 20:00:00              9.7           100.03                  Snow  \n",
       "2012-12-31 21:00:00              4.8            99.95                  Snow  \n",
       "2012-12-31 22:00:00              9.7            99.91                  Snow  \n",
       "2012-12-31 23:00:00             11.3            99.89                  Snow  \n",
       "\n",
       "[8784 rows x 10 columns]"
      ]
     },
     "execution_count": 7,
     "metadata": {},
     "output_type": "execute_result"
    }
   ],
   "source": [
    "weather_all"
   ]
  },
  {
   "cell_type": "code",
   "execution_count": 8,
   "metadata": {},
   "outputs": [],
   "source": [
    "weather_discription = weather_all[\"Weather\"]"
   ]
  },
  {
   "cell_type": "code",
   "execution_count": 9,
   "metadata": {},
   "outputs": [],
   "source": [
    "is_snowing = weather_discription.str.contains(\"Snow\").astype(int)\n",
    "# создание df по одному признаку и преобразование векторных величин ( False/True) в 0/1"
   ]
  },
  {
   "cell_type": "code",
   "execution_count": 10,
   "metadata": {},
   "outputs": [
    {
     "data": {
      "text/plain": [
       "Date/Time\n",
       "2012-01-01 00:00:00    0\n",
       "2012-01-01 01:00:00    0\n",
       "2012-01-01 02:00:00    0\n",
       "2012-01-01 03:00:00    0\n",
       "2012-01-01 04:00:00    0\n",
       "                      ..\n",
       "2012-12-31 19:00:00    1\n",
       "2012-12-31 20:00:00    1\n",
       "2012-12-31 21:00:00    1\n",
       "2012-12-31 22:00:00    1\n",
       "2012-12-31 23:00:00    1\n",
       "Name: Weather, Length: 8784, dtype: int64"
      ]
     },
     "execution_count": 10,
     "metadata": {},
     "output_type": "execute_result"
    }
   ],
   "source": [
    "is_snowing"
   ]
  },
  {
   "cell_type": "code",
   "execution_count": 11,
   "metadata": {},
   "outputs": [
    {
     "data": {
      "text/plain": [
       "<AxesSubplot:xlabel='Date/Time'>"
      ]
     },
     "execution_count": 11,
     "metadata": {},
     "output_type": "execute_result"
    },
    {
     "data": {
      "image/png": "[encoded data removed]",
      "text/plain": [
       "<Figure size 1080x360 with 1 Axes>"
      ]
     },
     "metadata": {},
     "output_type": "display_data"
    }
   ],
   "source": [
    "is_snowing.plot()"
   ]
  },
  {
   "cell_type": "code",
   "execution_count": 12,
   "metadata": {},
   "outputs": [],
   "source": [
    "weather_all.columns = (\"dell\", \"day\", \"time\", \"temp\", \"dew_temp\", \"rel\",\n",
    "                       \"wind\", \"visibility\", \"press\", \"weather\")"
   ]
  },
  {
   "cell_type": "code",
   "execution_count": 13,
   "metadata": {},
   "outputs": [
    {
     "data": {
      "text/plain": [
       "<AxesSubplot:xlabel='Date/Time'>"
      ]
     },
     "execution_count": 13,
     "metadata": {},
     "output_type": "execute_result"
    },
    {
     "data": {
      "image/png": "[encoded data removed]",
      "text/plain": [
       "<Figure size 1080x360 with 1 Axes>"
      ]
     },
     "metadata": {},
     "output_type": "display_data"
    }
   ],
   "source": [
    "weather_all[\"temp\"].resample(\"M\").median().plot(kind=\"bar\")"
   ]
  },
  {
   "cell_type": "code",
   "execution_count": 14,
   "metadata": {},
   "outputs": [
    {
     "data": {
      "text/plain": [
       "Date/Time\n",
       "2012-01-31    0.240591\n",
       "2012-02-29    0.162356\n",
       "2012-03-31    0.087366\n",
       "2012-04-30    0.015278\n",
       "2012-05-31    0.000000\n",
       "2012-06-30    0.000000\n",
       "2012-07-31    0.000000\n",
       "2012-08-31    0.000000\n",
       "2012-09-30    0.000000\n",
       "2012-10-31    0.000000\n",
       "2012-11-30    0.038889\n",
       "2012-12-31    0.251344\n",
       "Freq: M, Name: Weather, dtype: float64"
      ]
     },
     "execution_count": 14,
     "metadata": {},
     "output_type": "execute_result"
    }
   ],
   "source": [
    "is_snowing.resample(\"M\").mean()\n",
    "# процент времени, когда шёл снег."
   ]
  },
  {
   "cell_type": "code",
   "execution_count": 15,
   "metadata": {},
   "outputs": [
    {
     "data": {
      "text/plain": [
       "<AxesSubplot:xlabel='Date/Time'>"
      ]
     },
     "execution_count": 15,
     "metadata": {},
     "output_type": "execute_result"
    },
    {
     "data": {
      "image/png": "[encoded data removed]",
      "text/plain": [
       "<Figure size 1080x360 with 1 Axes>"
      ]
     },
     "metadata": {},
     "output_type": "display_data"
    }
   ],
   "source": [
    "is_snowing.resample(\"M\").mean().plot(kind=\"bar\")"
   ]
  },
  {
   "cell_type": "code",
   "execution_count": 18,
   "metadata": {},
   "outputs": [],
   "source": [
    "temperature=weather_all[\"temp\"].resample(\"M\").median()\n",
    "is_snowing=weather_all[\"weather\"].str.contains(\"Snow\")\n",
    "snowiness=is_snowing.astype(int).resample(\"M\").mean()"
   ]
  },
  {
   "cell_type": "code",
   "execution_count": 20,
   "metadata": {},
   "outputs": [],
   "source": [
    "# name the columns\n",
    "temperature.name=\"Temperature\"\n",
    "snowiness.name=\"Snowiness\""
   ]
  },
  {
   "cell_type": "code",
   "execution_count": 22,
   "metadata": {},
   "outputs": [],
   "source": [
    "df_snow=pd.concat([temperature,snowiness],axis=1)"
   ]
  },
  {
   "cell_type": "code",
   "execution_count": 23,
   "metadata": {},
   "outputs": [
    {
     "data": {
      "text/html": [
       "<div>\n",
       "<style scoped>\n",
       "    .dataframe tbody tr th:only-of-type {\n",
       "        vertical-align: middle;\n",
       "    }\n",
       "\n",
       "    .dataframe tbody tr th {\n",
       "        vertical-align: top;\n",
       "    }\n",
       "\n",
       "    .dataframe thead th {\n",
       "        text-align: right;\n",
       "    }\n",
       "</style>\n",
       "<table border=\"1\" class=\"dataframe\">\n",
       "  <thead>\n",
       "    <tr style=\"text-align: right;\">\n",
       "      <th></th>\n",
       "      <th>Temperature</th>\n",
       "      <th>weather</th>\n",
       "    </tr>\n",
       "    <tr>\n",
       "      <th>Date/Time</th>\n",
       "      <th></th>\n",
       "      <th></th>\n",
       "    </tr>\n",
       "  </thead>\n",
       "  <tbody>\n",
       "    <tr>\n",
       "      <th>2012-01-31</th>\n",
       "      <td>-7.05</td>\n",
       "      <td>0.240591</td>\n",
       "    </tr>\n",
       "    <tr>\n",
       "      <th>2012-02-29</th>\n",
       "      <td>-4.10</td>\n",
       "      <td>0.162356</td>\n",
       "    </tr>\n",
       "    <tr>\n",
       "      <th>2012-03-31</th>\n",
       "      <td>2.60</td>\n",
       "      <td>0.087366</td>\n",
       "    </tr>\n",
       "    <tr>\n",
       "      <th>2012-04-30</th>\n",
       "      <td>6.30</td>\n",
       "      <td>0.015278</td>\n",
       "    </tr>\n",
       "    <tr>\n",
       "      <th>2012-05-31</th>\n",
       "      <td>16.05</td>\n",
       "      <td>0.000000</td>\n",
       "    </tr>\n",
       "    <tr>\n",
       "      <th>2012-06-30</th>\n",
       "      <td>19.60</td>\n",
       "      <td>0.000000</td>\n",
       "    </tr>\n",
       "    <tr>\n",
       "      <th>2012-07-31</th>\n",
       "      <td>22.90</td>\n",
       "      <td>0.000000</td>\n",
       "    </tr>\n",
       "    <tr>\n",
       "      <th>2012-08-31</th>\n",
       "      <td>22.20</td>\n",
       "      <td>0.000000</td>\n",
       "    </tr>\n",
       "    <tr>\n",
       "      <th>2012-09-30</th>\n",
       "      <td>16.10</td>\n",
       "      <td>0.000000</td>\n",
       "    </tr>\n",
       "    <tr>\n",
       "      <th>2012-10-31</th>\n",
       "      <td>11.30</td>\n",
       "      <td>0.000000</td>\n",
       "    </tr>\n",
       "    <tr>\n",
       "      <th>2012-11-30</th>\n",
       "      <td>1.05</td>\n",
       "      <td>0.038889</td>\n",
       "    </tr>\n",
       "    <tr>\n",
       "      <th>2012-12-31</th>\n",
       "      <td>-2.85</td>\n",
       "      <td>0.251344</td>\n",
       "    </tr>\n",
       "  </tbody>\n",
       "</table>\n",
       "</div>"
      ],
      "text/plain": [
       "            Temperature   weather\n",
       "Date/Time                        \n",
       "2012-01-31        -7.05  0.240591\n",
       "2012-02-29        -4.10  0.162356\n",
       "2012-03-31         2.60  0.087366\n",
       "2012-04-30         6.30  0.015278\n",
       "2012-05-31        16.05  0.000000\n",
       "2012-06-30        19.60  0.000000\n",
       "2012-07-31        22.90  0.000000\n",
       "2012-08-31        22.20  0.000000\n",
       "2012-09-30        16.10  0.000000\n",
       "2012-10-31        11.30  0.000000\n",
       "2012-11-30         1.05  0.038889\n",
       "2012-12-31        -2.85  0.251344"
      ]
     },
     "execution_count": 23,
     "metadata": {},
     "output_type": "execute_result"
    }
   ],
   "source": [
    "df_snow"
   ]
  },
  {
   "cell_type": "code",
   "execution_count": 26,
   "metadata": {},
   "outputs": [
    {
     "data": {
      "text/plain": [
       "<AxesSubplot:xlabel='Date/Time'>"
      ]
     },
     "execution_count": 26,
     "metadata": {},
     "output_type": "execute_result"
    },
    {
     "data": {
      "image/png": "[encoded data removed]",
      "text/plain": [
       "<Figure size 1080x360 with 1 Axes>"
      ]
     },
     "metadata": {},
     "output_type": "display_data"
    }
   ],
   "source": [
    "df_snow.plot(kind=\"bar\")"
   ]
  },
  {
   "cell_type": "code",
   "execution_count": 27,
   "metadata": {},
   "outputs": [
    {
     "data": {
      "text/plain": [
       "array([<AxesSubplot:title={'center':'Temperature'}, xlabel='Date/Time'>,\n",
       "       <AxesSubplot:title={'center':'weather'}, xlabel='Date/Time'>],\n",
       "      dtype=object)"
      ]
     },
     "execution_count": 27,
     "metadata": {},
     "output_type": "execute_result"
    },
    {
     "data": {
      "image/png": "[encoded data removed]",
      "text/plain": [
       "<Figure size 1080x720 with 2 Axes>"
      ]
     },
     "metadata": {},
     "output_type": "display_data"
    }
   ],
   "source": [
    "df_snow.plot(kind=\"bar\",subplots=True,figsize=(15,10))"
   ]
  },
  {
   "cell_type": "code",
   "execution_count": null,
   "metadata": {},
   "outputs": [],
   "source": []
  }
 ],
 "metadata": {
  "kernelspec": {
   "display_name": "Python 3",
   "language": "python",
   "name": "python3"
  },
  "language_info": {
   "codemirror_mode": {
    "name": "ipython",
    "version": 3
   },
   "file_extension": ".py",
   "mimetype": "text/x-python",
   "name": "python",
   "nbconvert_exporter": "python",
   "pygments_lexer": "ipython3",
   "version": "3.8.5"
  },
  "nbTranslate": {
   "displayLangs": [
    "*"
   ],
   "hotkey": "alt-t",
   "langInMainMenu": true,
   "sourceLang": "en",
   "targetLang": "fr",
   "useGoogleTranslate": true
  },
  "toc": {
   "base_numbering": 1,
   "nav_menu": {},
   "number_sections": true,
   "sideBar": true,
   "skip_h1_title": false,
   "title_cell": "Table of Contents",
   "title_sidebar": "Contents",
   "toc_cell": false,
   "toc_position": {},
   "toc_section_display": true,
   "toc_window_display": false
  },
  "varInspector": {
   "cols": {
    "lenName": 16,
    "lenType": 16,
    "lenVar": 40
   },
   "kernels_config": {
    "python": {
     "delete_cmd_postfix": "",
     "delete_cmd_prefix": "del ",
     "library": "var_list.py",
     "varRefreshCmd": "print(var_dic_list())"
    },
    "r": {
     "delete_cmd_postfix": ") ",
     "delete_cmd_prefix": "rm(",
     "library": "var_list.r",
     "varRefreshCmd": "cat(var_dic_list()) "
    }
   },
   "types_to_exclude": [
    "module",
    "function",
    "builtin_function_or_method",
    "instance",
    "_Feature"
   ],
   "window_display": false
  }
 },
 "nbformat": 4,
 "nbformat_minor": 4
}
