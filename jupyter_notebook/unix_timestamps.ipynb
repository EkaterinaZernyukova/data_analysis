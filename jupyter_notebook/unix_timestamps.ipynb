{
 "cells": [
  {
   "cell_type": "code",
   "execution_count": 1,
   "metadata": {},
   "outputs": [],
   "source": [
    "%matplotlib inline\n",
    "import pandas as pd\n",
    "import numpy as np\n",
    "import matplotlib.pyplot as plt"
   ]
  },
  {
   "cell_type": "code",
   "execution_count": 2,
   "metadata": {},
   "outputs": [],
   "source": [
    "plt.style.use(\"ggplot\") # Красивые графики\n",
    "plt.rcParams[\"figure.figsize\"]=(15,5)  # Размер картинок\n",
    "pd.options.display.max_rows=7"
   ]
  },
  {
   "cell_type": "code",
   "execution_count": 3,
   "metadata": {},
   "outputs": [],
   "source": [
    "new_date=pd.read_csv(\"../resources/popularity-contest.txt\",sep=\" \")[:-1] # без учета последней строки"
   ]
  },
  {
   "cell_type": "code",
   "execution_count": 4,
   "metadata": {},
   "outputs": [],
   "source": [
    "new_date.columns=['atime', 'ctime', 'package-name', 'mru-program', 'tag']"
   ]
  },
  {
   "cell_type": "code",
   "execution_count": 5,
   "metadata": {},
   "outputs": [
    {
     "data": {
      "text/html": [
       "<div>\n",
       "<style scoped>\n",
       "    .dataframe tbody tr th:only-of-type {\n",
       "        vertical-align: middle;\n",
       "    }\n",
       "\n",
       "    .dataframe tbody tr th {\n",
       "        vertical-align: top;\n",
       "    }\n",
       "\n",
       "    .dataframe thead th {\n",
       "        text-align: right;\n",
       "    }\n",
       "</style>\n",
       "<table border=\"1\" class=\"dataframe\">\n",
       "  <thead>\n",
       "    <tr style=\"text-align: right;\">\n",
       "      <th></th>\n",
       "      <th>atime</th>\n",
       "      <th>ctime</th>\n",
       "      <th>package-name</th>\n",
       "      <th>mru-program</th>\n",
       "      <th>tag</th>\n",
       "    </tr>\n",
       "  </thead>\n",
       "  <tbody>\n",
       "    <tr>\n",
       "      <th>0</th>\n",
       "      <td>1387295797</td>\n",
       "      <td>1367633260</td>\n",
       "      <td>perl-base</td>\n",
       "      <td>/usr/bin/perl</td>\n",
       "      <td>NaN</td>\n",
       "    </tr>\n",
       "    <tr>\n",
       "      <th>1</th>\n",
       "      <td>1387295796</td>\n",
       "      <td>1354370480</td>\n",
       "      <td>login</td>\n",
       "      <td>/bin/su</td>\n",
       "      <td>NaN</td>\n",
       "    </tr>\n",
       "    <tr>\n",
       "      <th>2</th>\n",
       "      <td>1387295743</td>\n",
       "      <td>1354341275</td>\n",
       "      <td>libtalloc2</td>\n",
       "      <td>/usr/lib/x86_64-linux-gnu/libtalloc.so.2.0.7</td>\n",
       "      <td>NaN</td>\n",
       "    </tr>\n",
       "    <tr>\n",
       "      <th>...</th>\n",
       "      <td>...</td>\n",
       "      <td>...</td>\n",
       "      <td>...</td>\n",
       "      <td>...</td>\n",
       "      <td>...</td>\n",
       "    </tr>\n",
       "    <tr>\n",
       "      <th>2894</th>\n",
       "      <td>0</td>\n",
       "      <td>0</td>\n",
       "      <td>python-apt-common</td>\n",
       "      <td>&lt;NOFILES&gt;</td>\n",
       "      <td>NaN</td>\n",
       "    </tr>\n",
       "    <tr>\n",
       "      <th>2895</th>\n",
       "      <td>0</td>\n",
       "      <td>0</td>\n",
       "      <td>libindicator-messages-status-provider1</td>\n",
       "      <td>&lt;NOFILES&gt;</td>\n",
       "      <td>NaN</td>\n",
       "    </tr>\n",
       "    <tr>\n",
       "      <th>2896</th>\n",
       "      <td>0</td>\n",
       "      <td>0</td>\n",
       "      <td>libusbmuxd1</td>\n",
       "      <td>&lt;NOFILES&gt;</td>\n",
       "      <td>NaN</td>\n",
       "    </tr>\n",
       "  </tbody>\n",
       "</table>\n",
       "<p>2897 rows × 5 columns</p>\n",
       "</div>"
      ],
      "text/plain": [
       "           atime       ctime                            package-name  \\\n",
       "0     1387295797  1367633260                               perl-base   \n",
       "1     1387295796  1354370480                                   login   \n",
       "2     1387295743  1354341275                              libtalloc2   \n",
       "...          ...         ...                                     ...   \n",
       "2894           0           0                       python-apt-common   \n",
       "2895           0           0  libindicator-messages-status-provider1   \n",
       "2896           0           0                             libusbmuxd1   \n",
       "\n",
       "                                       mru-program  tag  \n",
       "0                                    /usr/bin/perl  NaN  \n",
       "1                                          /bin/su  NaN  \n",
       "2     /usr/lib/x86_64-linux-gnu/libtalloc.so.2.0.7  NaN  \n",
       "...                                            ...  ...  \n",
       "2894                                     <NOFILES>  NaN  \n",
       "2895                                     <NOFILES>  NaN  \n",
       "2896                                     <NOFILES>  NaN  \n",
       "\n",
       "[2897 rows x 5 columns]"
      ]
     },
     "execution_count": 5,
     "metadata": {},
     "output_type": "execute_result"
    }
   ],
   "source": [
    "new_date"
   ]
  },
  {
   "cell_type": "code",
   "execution_count": 6,
   "metadata": {},
   "outputs": [],
   "source": [
    "# преобразуем в целые числа:\n",
    "new_date[\"atime\"]=new_date[\"atime\"].astype(int)\n",
    "new_date[\"ctime\"]=new_date[\"ctime\"].astype(int)"
   ]
  },
  {
   "cell_type": "code",
   "execution_count": 7,
   "metadata": {},
   "outputs": [],
   "source": [
    "new_date[\"atime\"]=pd.to_datetime(new_date[\"atime\"],unit=\"s\")\n",
    "new_date[\"ctime\"]=pd.to_datetime(new_date[\"ctime\"],unit=\"s\")"
   ]
  },
  {
   "cell_type": "code",
   "execution_count": 8,
   "metadata": {},
   "outputs": [
    {
     "data": {
      "text/plain": [
       "atime           datetime64[ns]\n",
       "ctime           datetime64[ns]\n",
       "package-name            object\n",
       "mru-program             object\n",
       "tag                     object\n",
       "dtype: object"
      ]
     },
     "execution_count": 8,
     "metadata": {},
     "output_type": "execute_result"
    }
   ],
   "source": [
    "new_date.dtypes"
   ]
  },
  {
   "cell_type": "code",
   "execution_count": 9,
   "metadata": {},
   "outputs": [
    {
     "data": {
      "text/plain": [
       "dtype('<M8[ns]')"
      ]
     },
     "execution_count": 9,
     "metadata": {},
     "output_type": "execute_result"
    }
   ],
   "source": [
    "new_date[\"atime\"].dtype"
   ]
  },
  {
   "cell_type": "code",
   "execution_count": 10,
   "metadata": {},
   "outputs": [
    {
     "data": {
      "text/plain": [
       "dtype('<M8[ns]')"
      ]
     },
     "execution_count": 10,
     "metadata": {},
     "output_type": "execute_result"
    }
   ],
   "source": [
    "new_date[\"ctime\"].dtype"
   ]
  },
  {
   "cell_type": "code",
   "execution_count": 11,
   "metadata": {},
   "outputs": [
    {
     "data": {
      "text/html": [
       "<div>\n",
       "<style scoped>\n",
       "    .dataframe tbody tr th:only-of-type {\n",
       "        vertical-align: middle;\n",
       "    }\n",
       "\n",
       "    .dataframe tbody tr th {\n",
       "        vertical-align: top;\n",
       "    }\n",
       "\n",
       "    .dataframe thead th {\n",
       "        text-align: right;\n",
       "    }\n",
       "</style>\n",
       "<table border=\"1\" class=\"dataframe\">\n",
       "  <thead>\n",
       "    <tr style=\"text-align: right;\">\n",
       "      <th></th>\n",
       "      <th>atime</th>\n",
       "      <th>ctime</th>\n",
       "      <th>package-name</th>\n",
       "      <th>mru-program</th>\n",
       "      <th>tag</th>\n",
       "    </tr>\n",
       "  </thead>\n",
       "  <tbody>\n",
       "    <tr>\n",
       "      <th>0</th>\n",
       "      <td>2013-12-17 15:56:37</td>\n",
       "      <td>2013-05-04 02:07:40</td>\n",
       "      <td>perl-base</td>\n",
       "      <td>/usr/bin/perl</td>\n",
       "      <td>NaN</td>\n",
       "    </tr>\n",
       "    <tr>\n",
       "      <th>1</th>\n",
       "      <td>2013-12-17 15:56:36</td>\n",
       "      <td>2012-12-01 14:01:20</td>\n",
       "      <td>login</td>\n",
       "      <td>/bin/su</td>\n",
       "      <td>NaN</td>\n",
       "    </tr>\n",
       "    <tr>\n",
       "      <th>2</th>\n",
       "      <td>2013-12-17 15:55:43</td>\n",
       "      <td>2012-12-01 05:54:35</td>\n",
       "      <td>libtalloc2</td>\n",
       "      <td>/usr/lib/x86_64-linux-gnu/libtalloc.so.2.0.7</td>\n",
       "      <td>NaN</td>\n",
       "    </tr>\n",
       "    <tr>\n",
       "      <th>...</th>\n",
       "      <td>...</td>\n",
       "      <td>...</td>\n",
       "      <td>...</td>\n",
       "      <td>...</td>\n",
       "      <td>...</td>\n",
       "    </tr>\n",
       "    <tr>\n",
       "      <th>2894</th>\n",
       "      <td>1970-01-01 00:00:00</td>\n",
       "      <td>1970-01-01 00:00:00</td>\n",
       "      <td>python-apt-common</td>\n",
       "      <td>&lt;NOFILES&gt;</td>\n",
       "      <td>NaN</td>\n",
       "    </tr>\n",
       "    <tr>\n",
       "      <th>2895</th>\n",
       "      <td>1970-01-01 00:00:00</td>\n",
       "      <td>1970-01-01 00:00:00</td>\n",
       "      <td>libindicator-messages-status-provider1</td>\n",
       "      <td>&lt;NOFILES&gt;</td>\n",
       "      <td>NaN</td>\n",
       "    </tr>\n",
       "    <tr>\n",
       "      <th>2896</th>\n",
       "      <td>1970-01-01 00:00:00</td>\n",
       "      <td>1970-01-01 00:00:00</td>\n",
       "      <td>libusbmuxd1</td>\n",
       "      <td>&lt;NOFILES&gt;</td>\n",
       "      <td>NaN</td>\n",
       "    </tr>\n",
       "  </tbody>\n",
       "</table>\n",
       "<p>2897 rows × 5 columns</p>\n",
       "</div>"
      ],
      "text/plain": [
       "                   atime               ctime  \\\n",
       "0    2013-12-17 15:56:37 2013-05-04 02:07:40   \n",
       "1    2013-12-17 15:56:36 2012-12-01 14:01:20   \n",
       "2    2013-12-17 15:55:43 2012-12-01 05:54:35   \n",
       "...                  ...                 ...   \n",
       "2894 1970-01-01 00:00:00 1970-01-01 00:00:00   \n",
       "2895 1970-01-01 00:00:00 1970-01-01 00:00:00   \n",
       "2896 1970-01-01 00:00:00 1970-01-01 00:00:00   \n",
       "\n",
       "                                package-name  \\\n",
       "0                                  perl-base   \n",
       "1                                      login   \n",
       "2                                 libtalloc2   \n",
       "...                                      ...   \n",
       "2894                       python-apt-common   \n",
       "2895  libindicator-messages-status-provider1   \n",
       "2896                             libusbmuxd1   \n",
       "\n",
       "                                       mru-program  tag  \n",
       "0                                    /usr/bin/perl  NaN  \n",
       "1                                          /bin/su  NaN  \n",
       "2     /usr/lib/x86_64-linux-gnu/libtalloc.so.2.0.7  NaN  \n",
       "...                                            ...  ...  \n",
       "2894                                     <NOFILES>  NaN  \n",
       "2895                                     <NOFILES>  NaN  \n",
       "2896                                     <NOFILES>  NaN  \n",
       "\n",
       "[2897 rows x 5 columns]"
      ]
     },
     "execution_count": 11,
     "metadata": {},
     "output_type": "execute_result"
    }
   ],
   "source": [
    "new_date"
   ]
  },
  {
   "cell_type": "code",
   "execution_count": 12,
   "metadata": {},
   "outputs": [],
   "source": [
    "new_date=new_date[new_date[\"atime\"]>\"1970-01-01 00:00:00\"]"
   ]
  },
  {
   "cell_type": "code",
   "execution_count": 13,
   "metadata": {},
   "outputs": [
    {
     "data": {
      "text/html": [
       "<div>\n",
       "<style scoped>\n",
       "    .dataframe tbody tr th:only-of-type {\n",
       "        vertical-align: middle;\n",
       "    }\n",
       "\n",
       "    .dataframe tbody tr th {\n",
       "        vertical-align: top;\n",
       "    }\n",
       "\n",
       "    .dataframe thead th {\n",
       "        text-align: right;\n",
       "    }\n",
       "</style>\n",
       "<table border=\"1\" class=\"dataframe\">\n",
       "  <thead>\n",
       "    <tr style=\"text-align: right;\">\n",
       "      <th></th>\n",
       "      <th>atime</th>\n",
       "      <th>ctime</th>\n",
       "      <th>package-name</th>\n",
       "      <th>mru-program</th>\n",
       "      <th>tag</th>\n",
       "    </tr>\n",
       "  </thead>\n",
       "  <tbody>\n",
       "    <tr>\n",
       "      <th>0</th>\n",
       "      <td>2013-12-17 15:56:37</td>\n",
       "      <td>2013-05-04 02:07:40</td>\n",
       "      <td>perl-base</td>\n",
       "      <td>/usr/bin/perl</td>\n",
       "      <td>NaN</td>\n",
       "    </tr>\n",
       "    <tr>\n",
       "      <th>1</th>\n",
       "      <td>2013-12-17 15:56:36</td>\n",
       "      <td>2012-12-01 14:01:20</td>\n",
       "      <td>login</td>\n",
       "      <td>/bin/su</td>\n",
       "      <td>NaN</td>\n",
       "    </tr>\n",
       "    <tr>\n",
       "      <th>2</th>\n",
       "      <td>2013-12-17 15:55:43</td>\n",
       "      <td>2012-12-01 05:54:35</td>\n",
       "      <td>libtalloc2</td>\n",
       "      <td>/usr/lib/x86_64-linux-gnu/libtalloc.so.2.0.7</td>\n",
       "      <td>NaN</td>\n",
       "    </tr>\n",
       "    <tr>\n",
       "      <th>...</th>\n",
       "      <td>...</td>\n",
       "      <td>...</td>\n",
       "      <td>...</td>\n",
       "      <td>...</td>\n",
       "      <td>...</td>\n",
       "    </tr>\n",
       "    <tr>\n",
       "      <th>2095</th>\n",
       "      <td>2010-03-06 14:44:18</td>\n",
       "      <td>2012-12-01 05:54:37</td>\n",
       "      <td>laptop-detect</td>\n",
       "      <td>/usr/sbin/laptop-detect</td>\n",
       "      <td>&lt;OLD&gt;</td>\n",
       "    </tr>\n",
       "    <tr>\n",
       "      <th>2096</th>\n",
       "      <td>2010-02-22 14:59:21</td>\n",
       "      <td>2012-12-01 05:54:14</td>\n",
       "      <td>libfribidi0</td>\n",
       "      <td>/usr/bin/fribidi</td>\n",
       "      <td>&lt;OLD&gt;</td>\n",
       "    </tr>\n",
       "    <tr>\n",
       "      <th>2097</th>\n",
       "      <td>2008-11-20 14:38:20</td>\n",
       "      <td>2012-12-01 05:54:57</td>\n",
       "      <td>libfile-copy-recursive-perl</td>\n",
       "      <td>/usr/share/perl5/File/Copy/Recursive.pm</td>\n",
       "      <td>&lt;OLD&gt;</td>\n",
       "    </tr>\n",
       "  </tbody>\n",
       "</table>\n",
       "<p>2098 rows × 5 columns</p>\n",
       "</div>"
      ],
      "text/plain": [
       "                   atime               ctime                 package-name  \\\n",
       "0    2013-12-17 15:56:37 2013-05-04 02:07:40                    perl-base   \n",
       "1    2013-12-17 15:56:36 2012-12-01 14:01:20                        login   \n",
       "2    2013-12-17 15:55:43 2012-12-01 05:54:35                   libtalloc2   \n",
       "...                  ...                 ...                          ...   \n",
       "2095 2010-03-06 14:44:18 2012-12-01 05:54:37                laptop-detect   \n",
       "2096 2010-02-22 14:59:21 2012-12-01 05:54:14                  libfribidi0   \n",
       "2097 2008-11-20 14:38:20 2012-12-01 05:54:57  libfile-copy-recursive-perl   \n",
       "\n",
       "                                       mru-program    tag  \n",
       "0                                    /usr/bin/perl    NaN  \n",
       "1                                          /bin/su    NaN  \n",
       "2     /usr/lib/x86_64-linux-gnu/libtalloc.so.2.0.7    NaN  \n",
       "...                                            ...    ...  \n",
       "2095                       /usr/sbin/laptop-detect  <OLD>  \n",
       "2096                              /usr/bin/fribidi  <OLD>  \n",
       "2097       /usr/share/perl5/File/Copy/Recursive.pm  <OLD>  \n",
       "\n",
       "[2098 rows x 5 columns]"
      ]
     },
     "execution_count": 13,
     "metadata": {},
     "output_type": "execute_result"
    }
   ],
   "source": [
    "new_date"
   ]
  },
  {
   "cell_type": "code",
   "execution_count": 14,
   "metadata": {},
   "outputs": [],
   "source": [
    "noname=new_date[~new_date[\"package-name\"].str.contains(\"lib\")]"
   ]
  },
  {
   "cell_type": "code",
   "execution_count": 15,
   "metadata": {},
   "outputs": [
    {
     "data": {
      "text/html": [
       "<div>\n",
       "<style scoped>\n",
       "    .dataframe tbody tr th:only-of-type {\n",
       "        vertical-align: middle;\n",
       "    }\n",
       "\n",
       "    .dataframe tbody tr th {\n",
       "        vertical-align: top;\n",
       "    }\n",
       "\n",
       "    .dataframe thead th {\n",
       "        text-align: right;\n",
       "    }\n",
       "</style>\n",
       "<table border=\"1\" class=\"dataframe\">\n",
       "  <thead>\n",
       "    <tr style=\"text-align: right;\">\n",
       "      <th></th>\n",
       "      <th>atime</th>\n",
       "      <th>ctime</th>\n",
       "      <th>package-name</th>\n",
       "      <th>mru-program</th>\n",
       "      <th>tag</th>\n",
       "    </tr>\n",
       "  </thead>\n",
       "  <tbody>\n",
       "    <tr>\n",
       "      <th>57</th>\n",
       "      <td>2013-12-17 04:55:39</td>\n",
       "      <td>2013-12-17 04:55:42</td>\n",
       "      <td>ddd</td>\n",
       "      <td>/usr/bin/ddd</td>\n",
       "      <td>&lt;RECENT-CTIME&gt;</td>\n",
       "    </tr>\n",
       "    <tr>\n",
       "      <th>450</th>\n",
       "      <td>2013-12-16 20:03:20</td>\n",
       "      <td>2013-12-16 20:05:13</td>\n",
       "      <td>nodejs</td>\n",
       "      <td>/usr/bin/npm</td>\n",
       "      <td>&lt;RECENT-CTIME&gt;</td>\n",
       "    </tr>\n",
       "    <tr>\n",
       "      <th>454</th>\n",
       "      <td>2013-12-16 20:03:20</td>\n",
       "      <td>2013-12-16 20:05:04</td>\n",
       "      <td>switchboard-plug-keyboard</td>\n",
       "      <td>/usr/lib/plugs/pantheon/keyboard/options.txt</td>\n",
       "      <td>&lt;RECENT-CTIME&gt;</td>\n",
       "    </tr>\n",
       "    <tr>\n",
       "      <th>...</th>\n",
       "      <td>...</td>\n",
       "      <td>...</td>\n",
       "      <td>...</td>\n",
       "      <td>...</td>\n",
       "      <td>...</td>\n",
       "    </tr>\n",
       "    <tr>\n",
       "      <th>18</th>\n",
       "      <td>2013-12-17 15:55:32</td>\n",
       "      <td>2012-12-01 05:53:57</td>\n",
       "      <td>dash</td>\n",
       "      <td>/bin/dash</td>\n",
       "      <td>NaN</td>\n",
       "    </tr>\n",
       "    <tr>\n",
       "      <th>123</th>\n",
       "      <td>2013-12-17 04:07:16</td>\n",
       "      <td>2012-12-01 05:53:57</td>\n",
       "      <td>iproute</td>\n",
       "      <td>/sbin/ip</td>\n",
       "      <td>NaN</td>\n",
       "    </tr>\n",
       "    <tr>\n",
       "      <th>690</th>\n",
       "      <td>2013-12-16 19:51:47</td>\n",
       "      <td>2012-12-01 05:53:57</td>\n",
       "      <td>mount</td>\n",
       "      <td>/bin/mount</td>\n",
       "      <td>NaN</td>\n",
       "    </tr>\n",
       "  </tbody>\n",
       "</table>\n",
       "<p>1216 rows × 5 columns</p>\n",
       "</div>"
      ],
      "text/plain": [
       "                  atime               ctime               package-name  \\\n",
       "57  2013-12-17 04:55:39 2013-12-17 04:55:42                        ddd   \n",
       "450 2013-12-16 20:03:20 2013-12-16 20:05:13                     nodejs   \n",
       "454 2013-12-16 20:03:20 2013-12-16 20:05:04  switchboard-plug-keyboard   \n",
       "..                  ...                 ...                        ...   \n",
       "18  2013-12-17 15:55:32 2012-12-01 05:53:57                       dash   \n",
       "123 2013-12-17 04:07:16 2012-12-01 05:53:57                    iproute   \n",
       "690 2013-12-16 19:51:47 2012-12-01 05:53:57                      mount   \n",
       "\n",
       "                                      mru-program             tag  \n",
       "57                                   /usr/bin/ddd  <RECENT-CTIME>  \n",
       "450                                  /usr/bin/npm  <RECENT-CTIME>  \n",
       "454  /usr/lib/plugs/pantheon/keyboard/options.txt  <RECENT-CTIME>  \n",
       "..                                            ...             ...  \n",
       "18                                      /bin/dash             NaN  \n",
       "123                                      /sbin/ip             NaN  \n",
       "690                                    /bin/mount             NaN  \n",
       "\n",
       "[1216 rows x 5 columns]"
      ]
     },
     "execution_count": 15,
     "metadata": {},
     "output_type": "execute_result"
    }
   ],
   "source": [
    "noname.sort_values(\"ctime\",ascending=False)"
   ]
  },
  {
   "cell_type": "code",
   "execution_count": 16,
   "metadata": {},
   "outputs": [],
   "source": [
    "new_name=new_date[\"package-name\"].str.contains(\"lib\")"
   ]
  },
  {
   "cell_type": "code",
   "execution_count": 17,
   "metadata": {},
   "outputs": [],
   "source": [
    "new_name=new_name.value_counts()"
   ]
  },
  {
   "cell_type": "code",
   "execution_count": 18,
   "metadata": {},
   "outputs": [
    {
     "data": {
      "text/plain": [
       "False    1216\n",
       "True      882\n",
       "Name: package-name, dtype: int64"
      ]
     },
     "execution_count": 18,
     "metadata": {},
     "output_type": "execute_result"
    }
   ],
   "source": [
    "new_name"
   ]
  },
  {
   "cell_type": "code",
   "execution_count": 19,
   "metadata": {},
   "outputs": [
    {
     "data": {
      "text/plain": [
       "882"
      ]
     },
     "execution_count": 19,
     "metadata": {},
     "output_type": "execute_result"
    }
   ],
   "source": [
    "# фильт по строкам с \"lib\"\n",
    "tr_new_name=new_date[\"package-name\"].str.contains(\"lib\")\n",
    "len(new_date[tr_new_name])"
   ]
  },
  {
   "cell_type": "code",
   "execution_count": 20,
   "metadata": {},
   "outputs": [
    {
     "data": {
      "text/plain": [
       "2                        libtalloc2\n",
       "3                      libwbclient0\n",
       "4                       libselinux1\n",
       "                   ...             \n",
       "2094           libfile-basedir-perl\n",
       "2096                    libfribidi0\n",
       "2097    libfile-copy-recursive-perl\n",
       "Name: package-name, Length: 882, dtype: object"
      ]
     },
     "execution_count": 20,
     "metadata": {},
     "output_type": "execute_result"
    }
   ],
   "source": [
    "new_date[tr_new_name][\"package-name\"]"
   ]
  },
  {
   "cell_type": "code",
   "execution_count": null,
   "metadata": {},
   "outputs": [],
   "source": []
  }
 ],
 "metadata": {
  "kernelspec": {
   "display_name": "Python 3",
   "language": "python",
   "name": "python3"
  },
  "language_info": {
   "codemirror_mode": {
    "name": "ipython",
    "version": 3
   },
   "file_extension": ".py",
   "mimetype": "text/x-python",
   "name": "python",
   "nbconvert_exporter": "python",
   "pygments_lexer": "ipython3",
   "version": "3.8.5"
  },
  "toc": {
   "base_numbering": 1,
   "nav_menu": {},
   "number_sections": true,
   "sideBar": true,
   "skip_h1_title": false,
   "title_cell": "Table of Contents",
   "title_sidebar": "Contents",
   "toc_cell": false,
   "toc_position": {},
   "toc_section_display": true,
   "toc_window_display": false
  },
  "varInspector": {
   "cols": {
    "lenName": 16,
    "lenType": 16,
    "lenVar": 40
   },
   "kernels_config": {
    "python": {
     "delete_cmd_postfix": "",
     "delete_cmd_prefix": "del ",
     "library": "var_list.py",
     "varRefreshCmd": "print(var_dic_list())"
    },
    "r": {
     "delete_cmd_postfix": ") ",
     "delete_cmd_prefix": "rm(",
     "library": "var_list.r",
     "varRefreshCmd": "cat(var_dic_list()) "
    }
   },
   "types_to_exclude": [
    "module",
    "function",
    "builtin_function_or_method",
    "instance",
    "_Feature"
   ],
   "window_display": false
  }
 },
 "nbformat": 4,
 "nbformat_minor": 4
}
