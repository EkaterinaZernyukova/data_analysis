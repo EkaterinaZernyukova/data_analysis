{
 "cells": [
  {
   "cell_type": "markdown",
   "metadata": {},
   "source": [
    "# Двухфакторный дисперсионный анализ\n",
    "ANOVA - ANalysis Of VAriance"
   ]
  },
  {
   "cell_type": "code",
   "execution_count": 13,
   "metadata": {},
   "outputs": [],
   "source": [
    "import pandas as pd\n",
    "import numpy as np\n",
    "from statsmodels.formula.api import ols\n",
    "from statsmodels.stats.anova import anova_lm\n",
    "import pingouin as pg\n",
    "import seaborn as sns\n",
    "import matplotlib.pyplot as plt"
   ]
  },
  {
   "cell_type": "code",
   "execution_count": 2,
   "metadata": {},
   "outputs": [],
   "source": [
    "df=pd.read_csv(\"../resources/birds.csv\")"
   ]
  },
  {
   "cell_type": "code",
   "execution_count": 3,
   "metadata": {},
   "outputs": [
    {
     "data": {
      "text/html": [
       "<div>\n",
       "<style scoped>\n",
       "    .dataframe tbody tr th:only-of-type {\n",
       "        vertical-align: middle;\n",
       "    }\n",
       "\n",
       "    .dataframe tbody tr th {\n",
       "        vertical-align: top;\n",
       "    }\n",
       "\n",
       "    .dataframe thead th {\n",
       "        text-align: right;\n",
       "    }\n",
       "</style>\n",
       "<table border=\"1\" class=\"dataframe\">\n",
       "  <thead>\n",
       "    <tr style=\"text-align: right;\">\n",
       "      <th></th>\n",
       "      <th>var4</th>\n",
       "      <th>hormone</th>\n",
       "      <th>sex</th>\n",
       "    </tr>\n",
       "  </thead>\n",
       "  <tbody>\n",
       "    <tr>\n",
       "      <th>0</th>\n",
       "      <td>17.859039</td>\n",
       "      <td>1</td>\n",
       "      <td>1</td>\n",
       "    </tr>\n",
       "    <tr>\n",
       "      <th>1</th>\n",
       "      <td>20.842343</td>\n",
       "      <td>1</td>\n",
       "      <td>1</td>\n",
       "    </tr>\n",
       "    <tr>\n",
       "      <th>2</th>\n",
       "      <td>19.318099</td>\n",
       "      <td>1</td>\n",
       "      <td>1</td>\n",
       "    </tr>\n",
       "    <tr>\n",
       "      <th>3</th>\n",
       "      <td>20.064451</td>\n",
       "      <td>1</td>\n",
       "      <td>1</td>\n",
       "    </tr>\n",
       "    <tr>\n",
       "      <th>4</th>\n",
       "      <td>17.620316</td>\n",
       "      <td>1</td>\n",
       "      <td>1</td>\n",
       "    </tr>\n",
       "  </tbody>\n",
       "</table>\n",
       "</div>"
      ],
      "text/plain": [
       "        var4  hormone  sex\n",
       "0  17.859039        1    1\n",
       "1  20.842343        1    1\n",
       "2  19.318099        1    1\n",
       "3  20.064451        1    1\n",
       "4  17.620316        1    1"
      ]
     },
     "execution_count": 3,
     "metadata": {},
     "output_type": "execute_result"
    }
   ],
   "source": [
    "df.head()"
   ]
  },
  {
   "cell_type": "code",
   "execution_count": 12,
   "metadata": {},
   "outputs": [
    {
     "data": {
      "text/html": [
       "<div>\n",
       "<style scoped>\n",
       "    .dataframe tbody tr th:only-of-type {\n",
       "        vertical-align: middle;\n",
       "    }\n",
       "\n",
       "    .dataframe tbody tr th {\n",
       "        vertical-align: top;\n",
       "    }\n",
       "\n",
       "    .dataframe thead tr th {\n",
       "        text-align: left;\n",
       "    }\n",
       "\n",
       "    .dataframe thead tr:last-of-type th {\n",
       "        text-align: right;\n",
       "    }\n",
       "</style>\n",
       "<table border=\"1\" class=\"dataframe\">\n",
       "  <thead>\n",
       "    <tr>\n",
       "      <th></th>\n",
       "      <th></th>\n",
       "      <th colspan=\"8\" halign=\"left\">var4</th>\n",
       "    </tr>\n",
       "    <tr>\n",
       "      <th></th>\n",
       "      <th></th>\n",
       "      <th>count</th>\n",
       "      <th>mean</th>\n",
       "      <th>std</th>\n",
       "      <th>min</th>\n",
       "      <th>25%</th>\n",
       "      <th>50%</th>\n",
       "      <th>75%</th>\n",
       "      <th>max</th>\n",
       "    </tr>\n",
       "    <tr>\n",
       "      <th>hormone</th>\n",
       "      <th>sex</th>\n",
       "      <th></th>\n",
       "      <th></th>\n",
       "      <th></th>\n",
       "      <th></th>\n",
       "      <th></th>\n",
       "      <th></th>\n",
       "      <th></th>\n",
       "      <th></th>\n",
       "    </tr>\n",
       "  </thead>\n",
       "  <tbody>\n",
       "    <tr>\n",
       "      <th rowspan=\"2\" valign=\"top\">0</th>\n",
       "      <th>0</th>\n",
       "      <td>16.0</td>\n",
       "      <td>19.887291</td>\n",
       "      <td>3.677211</td>\n",
       "      <td>13.947889</td>\n",
       "      <td>17.474799</td>\n",
       "      <td>19.244836</td>\n",
       "      <td>21.026331</td>\n",
       "      <td>28.619523</td>\n",
       "    </tr>\n",
       "    <tr>\n",
       "      <th>1</th>\n",
       "      <td>16.0</td>\n",
       "      <td>17.608916</td>\n",
       "      <td>2.449753</td>\n",
       "      <td>13.140259</td>\n",
       "      <td>15.333087</td>\n",
       "      <td>17.929291</td>\n",
       "      <td>19.517146</td>\n",
       "      <td>20.688260</td>\n",
       "    </tr>\n",
       "    <tr>\n",
       "      <th rowspan=\"2\" valign=\"top\">1</th>\n",
       "      <th>0</th>\n",
       "      <td>16.0</td>\n",
       "      <td>17.292254</td>\n",
       "      <td>2.864428</td>\n",
       "      <td>12.452679</td>\n",
       "      <td>14.917269</td>\n",
       "      <td>17.415496</td>\n",
       "      <td>18.750598</td>\n",
       "      <td>22.300875</td>\n",
       "    </tr>\n",
       "    <tr>\n",
       "      <th>1</th>\n",
       "      <td>16.0</td>\n",
       "      <td>19.743662</td>\n",
       "      <td>3.383574</td>\n",
       "      <td>14.574463</td>\n",
       "      <td>17.799358</td>\n",
       "      <td>19.691275</td>\n",
       "      <td>21.875595</td>\n",
       "      <td>25.152882</td>\n",
       "    </tr>\n",
       "  </tbody>\n",
       "</table>\n",
       "</div>"
      ],
      "text/plain": [
       "             var4                                                        \\\n",
       "            count       mean       std        min        25%        50%   \n",
       "hormone sex                                                               \n",
       "0       0    16.0  19.887291  3.677211  13.947889  17.474799  19.244836   \n",
       "        1    16.0  17.608916  2.449753  13.140259  15.333087  17.929291   \n",
       "1       0    16.0  17.292254  2.864428  12.452679  14.917269  17.415496   \n",
       "        1    16.0  19.743662  3.383574  14.574463  17.799358  19.691275   \n",
       "\n",
       "                                   \n",
       "                   75%        max  \n",
       "hormone sex                        \n",
       "0       0    21.026331  28.619523  \n",
       "        1    19.517146  20.688260  \n",
       "1       0    18.750598  22.300875  \n",
       "        1    21.875595  25.152882  "
      ]
     },
     "execution_count": 12,
     "metadata": {},
     "output_type": "execute_result"
    }
   ],
   "source": [
    "df.groupby(['hormone', 'sex']).describe()"
   ]
  },
  {
   "cell_type": "code",
   "execution_count": 5,
   "metadata": {},
   "outputs": [
    {
     "data": {
      "text/plain": [
       "hormone\n",
       "0    18.748103\n",
       "1    18.517958\n",
       "Name: var4, dtype: float64"
      ]
     },
     "execution_count": 5,
     "metadata": {},
     "output_type": "execute_result"
    }
   ],
   "source": [
    "df.groupby(\"hormone\")[\"var4\"].mean()"
   ]
  },
  {
   "cell_type": "code",
   "execution_count": 6,
   "metadata": {},
   "outputs": [
    {
     "data": {
      "text/html": [
       "<div>\n",
       "<style scoped>\n",
       "    .dataframe tbody tr th:only-of-type {\n",
       "        vertical-align: middle;\n",
       "    }\n",
       "\n",
       "    .dataframe tbody tr th {\n",
       "        vertical-align: top;\n",
       "    }\n",
       "\n",
       "    .dataframe thead th {\n",
       "        text-align: right;\n",
       "    }\n",
       "</style>\n",
       "<table border=\"1\" class=\"dataframe\">\n",
       "  <thead>\n",
       "    <tr style=\"text-align: right;\">\n",
       "      <th></th>\n",
       "      <th></th>\n",
       "      <th>var4</th>\n",
       "    </tr>\n",
       "    <tr>\n",
       "      <th>hormone</th>\n",
       "      <th>sex</th>\n",
       "      <th></th>\n",
       "    </tr>\n",
       "  </thead>\n",
       "  <tbody>\n",
       "    <tr>\n",
       "      <th rowspan=\"2\" valign=\"top\">0</th>\n",
       "      <th>0</th>\n",
       "      <td>19.887291</td>\n",
       "    </tr>\n",
       "    <tr>\n",
       "      <th>1</th>\n",
       "      <td>17.608916</td>\n",
       "    </tr>\n",
       "    <tr>\n",
       "      <th rowspan=\"2\" valign=\"top\">1</th>\n",
       "      <th>0</th>\n",
       "      <td>17.292254</td>\n",
       "    </tr>\n",
       "    <tr>\n",
       "      <th>1</th>\n",
       "      <td>19.743662</td>\n",
       "    </tr>\n",
       "  </tbody>\n",
       "</table>\n",
       "</div>"
      ],
      "text/plain": [
       "                  var4\n",
       "hormone sex           \n",
       "0       0    19.887291\n",
       "        1    17.608916\n",
       "1       0    17.292254\n",
       "        1    19.743662"
      ]
     },
     "execution_count": 6,
     "metadata": {},
     "output_type": "execute_result"
    }
   ],
   "source": [
    "df.pivot_table(values=[\"var4\"],\n",
    "               index=[\"hormone\", \"sex\"],\n",
    "               aggfunc=\"mean\")"
   ]
  },
  {
   "cell_type": "markdown",
   "metadata": {},
   "source": [
    "Два варианта написания кода"
   ]
  },
  {
   "cell_type": "code",
   "execution_count": 9,
   "metadata": {},
   "outputs": [
    {
     "name": "stdout",
     "output_type": "stream",
     "text": [
      "                       sum_sq    df         F    PR(>F)\n",
      "C(hormone)           0.847472   1.0  0.086528  0.769653\n",
      "C(sex)               0.119762   1.0  0.012228  0.912318\n",
      "C(hormone):C(sex)   89.483384   1.0  9.136390  0.003682\n",
      "Residual           587.650394  60.0       NaN       NaN\n"
     ]
    }
   ],
   "source": [
    "formula = 'var4 ~ C(hormone) + C(sex) + C(hormone):C(sex)'\n",
    "model = ols(formula, df).fit()\n",
    "aov_table = anova_lm(model, typ=2)\n",
    "print(aov_table)"
   ]
  },
  {
   "cell_type": "code",
   "execution_count": 10,
   "metadata": {},
   "outputs": [
    {
     "name": "stdout",
     "output_type": "stream",
     "text": [
      "                       sum_sq    df         F    PR(>F)\n",
      "C(hormone)           0.847472   1.0  0.086528  0.769653\n",
      "C(sex)               0.119762   1.0  0.012228  0.912318\n",
      "C(hormone):C(sex)   89.483384   1.0  9.136390  0.003682\n",
      "Residual           587.650394  60.0       NaN       NaN\n"
     ]
    }
   ],
   "source": [
    "formula = 'var4 ~ C(hormone) + C(sex) + C(hormone):C(sex)'\n",
    "model = ols(formula, df).fit()\n",
    "aov_table = anova_lm(model, typ=2)\n",
    "print(aov_table)"
   ]
  },
  {
   "cell_type": "markdown",
   "metadata": {},
   "source": [
    "Дисперсионный анализ с библиотекой pingouin"
   ]
  },
  {
   "cell_type": "code",
   "execution_count": 22,
   "metadata": {},
   "outputs": [
    {
     "name": "stdout",
     "output_type": "stream",
     "text": [
      "          Source          SS  DF         MS         F     p-unc       np2\n",
      "0        hormone    0.847472   1   0.847472  0.086528  0.769653  0.001440\n",
      "1            sex    0.119762   1   0.119762  0.012228  0.912318  0.000204\n",
      "2  hormone * sex   89.483384   1  89.483384  9.136390  0.003682  0.132150\n",
      "3       Residual  587.650394  60   9.794173       NaN       NaN       NaN\n"
     ]
    },
    {
     "data": {
      "image/png": "[encoded data removed]",
      "text/plain": [
       "<Figure size 432x288 with 1 Axes>"
      ]
     },
     "metadata": {},
     "output_type": "display_data"
    }
   ],
   "source": [
    "aov = pg.anova(dv='var4', between=['hormone', 'sex'], data=df, detailed=True)\n",
    "print(aov)\n",
    "\n",
    "sns.set(context='notebook', font_scale=1.2)\n",
    "sns.pointplot(data=df[df['sex']==1], x='hormone', y='var4', capsize=.1, ci='sd')\n",
    "plt.ylim(14, 24)\n",
    "_ = plt.title('Взаимодействие факторов')\n",
    "sns.set(context='notebook', font_scale=1.2)\n",
    "sns.pointplot(data=df[df['sex']==0], x='hormone', y='var4', capsize=.1, ci='sd', color='pink')\n",
    "plt.ylim(14, 24)\n",
    "_ = plt.title('Взаимодействие факторов')"
   ]
  },
  {
   "cell_type": "code",
   "execution_count": 17,
   "metadata": {},
   "outputs": [
    {
     "data": {
      "image/png": "[encoded data removed]",
      "text/plain": [
       "<Figure size 432x288 with 1 Axes>"
      ]
     },
     "metadata": {},
     "output_type": "display_data"
    }
   ],
   "source": [
    "sns.set(context='notebook', font_scale=1.2)\n",
    "sns.pointplot(data=df[df['sex']==0], x='hormone', y='var4', capsize=.1, ci='sd')\n",
    "plt.ylim(14, 24)\n",
    "_ = plt.title('Взаимодействие факторов woman')"
   ]
  },
  {
   "cell_type": "code",
   "execution_count": null,
   "metadata": {},
   "outputs": [],
   "source": []
  }
 ],
 "metadata": {
  "kernelspec": {
   "display_name": "Python 3",
   "language": "python",
   "name": "python3"
  },
  "language_info": {
   "codemirror_mode": {
    "name": "ipython",
    "version": 3
   },
   "file_extension": ".py",
   "mimetype": "text/x-python",
   "name": "python",
   "nbconvert_exporter": "python",
   "pygments_lexer": "ipython3",
   "version": "3.8.5"
  },
  "toc": {
   "base_numbering": 1,
   "nav_menu": {},
   "number_sections": true,
   "sideBar": true,
   "skip_h1_title": false,
   "title_cell": "Table of Contents",
   "title_sidebar": "Contents",
   "toc_cell": false,
   "toc_position": {},
   "toc_section_display": true,
   "toc_window_display": false
  },
  "varInspector": {
   "cols": {
    "lenName": 16,
    "lenType": 16,
    "lenVar": 40
   },
   "kernels_config": {
    "python": {
     "delete_cmd_postfix": "",
     "delete_cmd_prefix": "del ",
     "library": "var_list.py",
     "varRefreshCmd": "print(var_dic_list())"
    },
    "r": {
     "delete_cmd_postfix": ") ",
     "delete_cmd_prefix": "rm(",
     "library": "var_list.r",
     "varRefreshCmd": "cat(var_dic_list()) "
    }
   },
   "types_to_exclude": [
    "module",
    "function",
    "builtin_function_or_method",
    "instance",
    "_Feature"
   ],
   "window_display": false
  }
 },
 "nbformat": 4,
 "nbformat_minor": 4
}
