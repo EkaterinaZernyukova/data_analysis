{
 "cells": [
  {
   "cell_type": "markdown",
   "metadata": {},
   "source": [
    "## Линейная регрессия с 1 predictor\n",
    "#### Регрессионный анализ"
   ]
  },
  {
   "cell_type": "code",
   "execution_count": 1,
   "metadata": {},
   "outputs": [],
   "source": [
    "import pandas as pd\n",
    "import numpy as np\n",
    "from scipy.stats import linregress\n",
    "import matplotlib.pyplot as plt\n",
    "from statsmodels.formula.api import ols\n",
    "import statsmodels.api as sma\n",
    "from statsmodels.stats.anova import anova_lm\n",
    "import pingouin as pg\n",
    "import seaborn as sns\n",
    "import matplotlib.pyplot as plt"
   ]
  },
  {
   "cell_type": "code",
   "execution_count": 2,
   "metadata": {},
   "outputs": [
    {
     "data": {
      "text/html": [
       "<div>\n",
       "<style scoped>\n",
       "    .dataframe tbody tr th:only-of-type {\n",
       "        vertical-align: middle;\n",
       "    }\n",
       "\n",
       "    .dataframe tbody tr th {\n",
       "        vertical-align: top;\n",
       "    }\n",
       "\n",
       "    .dataframe thead th {\n",
       "        text-align: right;\n",
       "    }\n",
       "</style>\n",
       "<table border=\"1\" class=\"dataframe\">\n",
       "  <thead>\n",
       "    <tr style=\"text-align: right;\">\n",
       "      <th></th>\n",
       "      <th>state</th>\n",
       "      <th>metro_res</th>\n",
       "      <th>white</th>\n",
       "      <th>hs_grad</th>\n",
       "      <th>poverty</th>\n",
       "      <th>female_house</th>\n",
       "    </tr>\n",
       "  </thead>\n",
       "  <tbody>\n",
       "    <tr>\n",
       "      <th>0</th>\n",
       "      <td>Alabama</td>\n",
       "      <td>55.4</td>\n",
       "      <td>71.3</td>\n",
       "      <td>79.9</td>\n",
       "      <td>14.6</td>\n",
       "      <td>14.2</td>\n",
       "    </tr>\n",
       "    <tr>\n",
       "      <th>1</th>\n",
       "      <td>Alaska</td>\n",
       "      <td>65.6</td>\n",
       "      <td>70.8</td>\n",
       "      <td>90.6</td>\n",
       "      <td>8.3</td>\n",
       "      <td>10.8</td>\n",
       "    </tr>\n",
       "    <tr>\n",
       "      <th>2</th>\n",
       "      <td>Arizona</td>\n",
       "      <td>88.2</td>\n",
       "      <td>87.7</td>\n",
       "      <td>83.8</td>\n",
       "      <td>13.3</td>\n",
       "      <td>11.1</td>\n",
       "    </tr>\n",
       "    <tr>\n",
       "      <th>3</th>\n",
       "      <td>Arkansas</td>\n",
       "      <td>52.5</td>\n",
       "      <td>81.0</td>\n",
       "      <td>80.9</td>\n",
       "      <td>18.0</td>\n",
       "      <td>12.1</td>\n",
       "    </tr>\n",
       "    <tr>\n",
       "      <th>4</th>\n",
       "      <td>California</td>\n",
       "      <td>94.4</td>\n",
       "      <td>77.5</td>\n",
       "      <td>81.1</td>\n",
       "      <td>12.8</td>\n",
       "      <td>12.6</td>\n",
       "    </tr>\n",
       "  </tbody>\n",
       "</table>\n",
       "</div>"
      ],
      "text/plain": [
       "        state  metro_res  white  hs_grad  poverty  female_house\n",
       "0     Alabama       55.4   71.3     79.9     14.6          14.2\n",
       "1      Alaska       65.6   70.8     90.6      8.3          10.8\n",
       "2     Arizona       88.2   87.7     83.8     13.3          11.1\n",
       "3    Arkansas       52.5   81.0     80.9     18.0          12.1\n",
       "4  California       94.4   77.5     81.1     12.8          12.6"
      ]
     },
     "execution_count": 2,
     "metadata": {},
     "output_type": "execute_result"
    }
   ],
   "source": [
    "df=pd.read_csv(\"../resources/states.csv\")\n",
    "df.head()"
   ]
  },
  {
   "cell_type": "markdown",
   "metadata": {},
   "source": [
    "Диаграмма рассеивания"
   ]
  },
  {
   "cell_type": "code",
   "execution_count": 3,
   "metadata": {},
   "outputs": [
    {
     "data": {
      "image/png": "[encoded data removed]",
      "text/plain": [
       "<Figure size 432x288 with 1 Axes>"
      ]
     },
     "metadata": {
      "needs_background": "light"
     },
     "output_type": "display_data"
    }
   ],
   "source": [
    "x=df[\"hs_grad\"]\n",
    "y=df[\"poverty\"] #зависимая переменная\n",
    "plt.scatter(x,y)\n",
    "\n",
    "# подписи к осям\n",
    "plt.xlabel(\"Образование (%)\")\n",
    "plt.ylabel(\"Бедность(%)\");"
   ]
  },
  {
   "cell_type": "markdown",
   "metadata": {},
   "source": [
    "Характер взаимосвязи 2х переменных линейный с отрицательным значением\n",
    "Это позволяет применить регрессионный анализ для исследования взаимосвязи"
   ]
  },
  {
   "cell_type": "code",
   "execution_count": 4,
   "metadata": {},
   "outputs": [
    {
     "data": {
      "text/html": [
       "<div>\n",
       "<style scoped>\n",
       "    .dataframe tbody tr th:only-of-type {\n",
       "        vertical-align: middle;\n",
       "    }\n",
       "\n",
       "    .dataframe tbody tr th {\n",
       "        vertical-align: top;\n",
       "    }\n",
       "\n",
       "    .dataframe thead th {\n",
       "        text-align: right;\n",
       "    }\n",
       "</style>\n",
       "<table border=\"1\" class=\"dataframe\">\n",
       "  <thead>\n",
       "    <tr style=\"text-align: right;\">\n",
       "      <th></th>\n",
       "      <th>hs_grad</th>\n",
       "      <th>poverty</th>\n",
       "    </tr>\n",
       "  </thead>\n",
       "  <tbody>\n",
       "    <tr>\n",
       "      <th>0</th>\n",
       "      <td>79.9</td>\n",
       "      <td>14.6</td>\n",
       "    </tr>\n",
       "    <tr>\n",
       "      <th>1</th>\n",
       "      <td>90.6</td>\n",
       "      <td>8.3</td>\n",
       "    </tr>\n",
       "    <tr>\n",
       "      <th>2</th>\n",
       "      <td>83.8</td>\n",
       "      <td>13.3</td>\n",
       "    </tr>\n",
       "    <tr>\n",
       "      <th>3</th>\n",
       "      <td>80.9</td>\n",
       "      <td>18.0</td>\n",
       "    </tr>\n",
       "    <tr>\n",
       "      <th>4</th>\n",
       "      <td>81.1</td>\n",
       "      <td>12.8</td>\n",
       "    </tr>\n",
       "  </tbody>\n",
       "</table>\n",
       "</div>"
      ],
      "text/plain": [
       "   hs_grad  poverty\n",
       "0     79.9     14.6\n",
       "1     90.6      8.3\n",
       "2     83.8     13.3\n",
       "3     80.9     18.0\n",
       "4     81.1     12.8"
      ]
     },
     "execution_count": 4,
     "metadata": {},
     "output_type": "execute_result"
    }
   ],
   "source": [
    "df_filter = df.drop(\n",
    "    [\"state\",\"metro_res\",\"white\", \"female_house\"], axis=1)\n",
    "df_filter.head()"
   ]
  },
  {
   "cell_type": "code",
   "execution_count": 5,
   "metadata": {},
   "outputs": [
    {
     "data": {
      "text/html": [
       "<div>\n",
       "<style scoped>\n",
       "    .dataframe tbody tr th:only-of-type {\n",
       "        vertical-align: middle;\n",
       "    }\n",
       "\n",
       "    .dataframe tbody tr th {\n",
       "        vertical-align: top;\n",
       "    }\n",
       "\n",
       "    .dataframe thead th {\n",
       "        text-align: right;\n",
       "    }\n",
       "</style>\n",
       "<table border=\"1\" class=\"dataframe\">\n",
       "  <thead>\n",
       "    <tr style=\"text-align: right;\">\n",
       "      <th></th>\n",
       "      <th>hs_grad</th>\n",
       "      <th>poverty</th>\n",
       "    </tr>\n",
       "  </thead>\n",
       "  <tbody>\n",
       "    <tr>\n",
       "      <th>count</th>\n",
       "      <td>51.000000</td>\n",
       "      <td>51.000000</td>\n",
       "    </tr>\n",
       "    <tr>\n",
       "      <th>mean</th>\n",
       "      <td>86.011765</td>\n",
       "      <td>11.349020</td>\n",
       "    </tr>\n",
       "    <tr>\n",
       "      <th>std</th>\n",
       "      <td>3.725998</td>\n",
       "      <td>3.099185</td>\n",
       "    </tr>\n",
       "    <tr>\n",
       "      <th>min</th>\n",
       "      <td>77.200000</td>\n",
       "      <td>5.600000</td>\n",
       "    </tr>\n",
       "    <tr>\n",
       "      <th>25%</th>\n",
       "      <td>83.300000</td>\n",
       "      <td>9.250000</td>\n",
       "    </tr>\n",
       "    <tr>\n",
       "      <th>50%</th>\n",
       "      <td>86.900000</td>\n",
       "      <td>10.600000</td>\n",
       "    </tr>\n",
       "    <tr>\n",
       "      <th>75%</th>\n",
       "      <td>88.700000</td>\n",
       "      <td>13.400000</td>\n",
       "    </tr>\n",
       "    <tr>\n",
       "      <th>max</th>\n",
       "      <td>92.100000</td>\n",
       "      <td>18.000000</td>\n",
       "    </tr>\n",
       "  </tbody>\n",
       "</table>\n",
       "</div>"
      ],
      "text/plain": [
       "         hs_grad    poverty\n",
       "count  51.000000  51.000000\n",
       "mean   86.011765  11.349020\n",
       "std     3.725998   3.099185\n",
       "min    77.200000   5.600000\n",
       "25%    83.300000   9.250000\n",
       "50%    86.900000  10.600000\n",
       "75%    88.700000  13.400000\n",
       "max    92.100000  18.000000"
      ]
     },
     "execution_count": 5,
     "metadata": {},
     "output_type": "execute_result"
    }
   ],
   "source": [
    "# Описательная статистика\n",
    "df_filter.describe()"
   ]
  },
  {
   "cell_type": "markdown",
   "metadata": {},
   "source": [
    "### Корелляция"
   ]
  },
  {
   "cell_type": "code",
   "execution_count": 6,
   "metadata": {},
   "outputs": [
    {
     "data": {
      "text/plain": [
       "LinregressResult(slope=-0.6212167177940106, intercept=64.78096577010209, rvalue=-0.7468582531582505, pvalue=3.10882981031841e-10, stderr=0.0790164710017928)"
      ]
     },
     "execution_count": 6,
     "metadata": {},
     "output_type": "execute_result"
    }
   ],
   "source": [
    "slope, intercept, r_value, p_value, std_err=linregress(x,y)\n",
    "linregress(x,y)"
   ]
  },
  {
   "cell_type": "markdown",
   "metadata": {},
   "source": [
    "Корелляция rvalue=-0.7468582531582505\n",
    "\n",
    "корреляция отрицательная,поэтому коэффициент корреляции между переменными близко к -1\n",
    "\n",
    "b1 slope=-0.6212167177940106 (угловой коэффицент) (показывает изменение зависимой переменнной (уровень бедности) при единичном изменении независимой переменной (образование)\n",
    "\n",
    "b0 intercept=64.78096577010209 \n",
    "\n",
    "p-уровень значимости pvalue=3.10882981031841e-10\n",
    "\n",
    "Стандартная ошибка параметра b1 регрессионной модели stderr=0.0790164710017928"
   ]
  },
  {
   "cell_type": "code",
   "execution_count": null,
   "metadata": {},
   "outputs": [],
   "source": []
  },
  {
   "cell_type": "markdown",
   "metadata": {},
   "source": [
    "#### Регрессионный анализ позволит проверить гипотезу о взаимосвязи\n",
    "1. Построение регрессионной модели, которая объясняет взаимосвязь 2х переменных (регрессионная прямая)- насколько хорошо модель объясняет поведение зависимой переменной (расчет коэффициентов регрессии b0, b1)\n",
    "2. Рассчет коэффициента детерминации - какой процент дисперсии объясняется регрессионной моделью \n",
    "\n"
   ]
  },
  {
   "cell_type": "markdown",
   "metadata": {},
   "source": [
    "1. Взаимосвязь оказалась отрицательной (уравнение регрессии y=b0+b1*x)\n",
    "2. 56% дисперсии одной переменной обусловлено взаимосвязью с другой переменной\n",
    "3. -0.62 ожидание изменения уровня бедности при изменении единицы уровня образования"
   ]
  },
  {
   "cell_type": "code",
   "execution_count": 7,
   "metadata": {},
   "outputs": [
    {
     "data": {
      "image/png": "[encoded data removed]",
      "text/plain": [
       "<Figure size 432x288 with 1 Axes>"
      ]
     },
     "metadata": {
      "needs_background": "light"
     },
     "output_type": "display_data"
    }
   ],
   "source": [
    "mn=np.min(x)\n",
    "mx=np.max(x)\n",
    "x1=np.linspace(mn,mx,500)\n",
    "y1=slope*x1+intercept\n",
    "plt.plot(x,y,'go') #диаграмма рассеивания\n",
    "plt.plot(x1,y1,'-r') #регрессионная прямая\n",
    "plt.title(\"Связь бедности и уровня образования\")\n",
    "plt.xlabel(\"Уровень образования (%)\")\n",
    "plt.ylabel(\"Уровень бедности (%)\");"
   ]
  },
  {
   "cell_type": "code",
   "execution_count": 8,
   "metadata": {},
   "outputs": [
    {
     "name": "stdout",
     "output_type": "stream",
     "text": [
      "                            OLS Regression Results                            \n",
      "==============================================================================\n",
      "Dep. Variable:                poverty   R-squared:                       0.558\n",
      "Model:                            OLS   Adj. R-squared:                  0.549\n",
      "Method:                 Least Squares   F-statistic:                     61.81\n",
      "Date:                Sat, 28 Nov 2020   Prob (F-statistic):           3.11e-10\n",
      "Time:                        13:00:16   Log-Likelihood:                -108.74\n",
      "No. Observations:                  51   AIC:                             221.5\n",
      "Df Residuals:                      49   BIC:                             225.3\n",
      "Df Model:                           1                                         \n",
      "Covariance Type:            nonrobust                                         \n",
      "==============================================================================\n",
      "                 coef    std err          t      P>|t|      [0.025      0.975]\n",
      "------------------------------------------------------------------------------\n",
      "Intercept     64.7810      6.803      9.523      0.000      51.111      78.451\n",
      "hs_grad       -0.6212      0.079     -7.862      0.000      -0.780      -0.462\n",
      "==============================================================================\n",
      "Omnibus:                        3.534   Durbin-Watson:                   1.977\n",
      "Prob(Omnibus):                  0.171   Jarque-Bera (JB):                2.653\n",
      "Skew:                           0.540   Prob(JB):                        0.265\n",
      "Kurtosis:                       3.289   Cond. No.                     2.01e+03\n",
      "==============================================================================\n",
      "\n",
      "Warnings:\n",
      "[1] Standard Errors assume that the covariance matrix of the errors is correctly specified.\n",
      "[2] The condition number is large, 2.01e+03. This might indicate that there are\n",
      "strong multicollinearity or other numerical problems.\n"
     ]
    }
   ],
   "source": [
    "m1 = ols('poverty ~ hs_grad', data=df)\n",
    "fitted = m1.fit()\n",
    "print(fitted.summary())"
   ]
  },
  {
   "cell_type": "markdown",
   "metadata": {},
   "source": [
    "Стандартная ошибка параметра b0 регрессионной модели std err=0.079\n",
    "\n",
    "Коэффициент детерминации R-squared=0.558 ( ~56% изменчивости зависимой переменной объясняется построенной моделью)\n",
    "\n",
    "~56% изменчивости зависимой переменной обуславливается независимой переменной. А моделью дисперсия зависимой переменной объясняется. \n",
    "\n",
    "Коэффициент детерминации - R^2 - показатель степени влияния одной переменной на другую. Из его значения \"вытекает\" расположение точек на регрессионной прямой. Ближе к 0 - точки не лежат на прямой. Ближе к 1 - лежат на прямой.\n",
    "\n",
    "Коэффициент корреляции напрямую зависит от R^2, т.к. является квадратным корнем от этого R^2. Т.е. +-r.\n",
    "-r или +r зависит от силы взаимосвязи корреляции, т.е. если взаимосвязь положительная, то и r положительный.\n",
    "\n"
   ]
  },
  {
   "cell_type": "code",
   "execution_count": 9,
   "metadata": {},
   "outputs": [
    {
     "data": {
      "image/png": "[encoded data removed]",
      "text/plain": [
       "<Figure size 432x288 with 1 Axes>"
      ]
     },
     "metadata": {
      "needs_background": "light"
     },
     "output_type": "display_data"
    }
   ],
   "source": [
    "b0 = linregress(df['hs_grad'], df['poverty']).intercept\n",
    "b1 = linregress(df['hs_grad'], df['poverty']).slope\n",
    "y = b0 + b1*df['hs_grad']\n",
    "\n",
    "plt.scatter(df['hs_grad'], df['poverty'])# scatter plot\n",
    "plt.text(x=87,y=17,s='R = -0.75', fontsize=20) # text of R value\n",
    "\n",
    "plt.plot(df['hs_grad'], y, color='red') # regression line\n",
    "\n",
    "plt.grid()# сетка\n",
    "\n",
    "plt.xlabel(\"Уровень образования (%)\")\n",
    "plt.ylabel(\"Уровень бедности (%)\")\n",
    "plt.title(\"Связь бедности и уровня образования\");"
   ]
  },
  {
   "cell_type": "markdown",
   "metadata": {},
   "source": [
    "### Регрессионный анализ с несколькими переменными"
   ]
  },
  {
   "cell_type": "code",
   "execution_count": 10,
   "metadata": {},
   "outputs": [
    {
     "data": {
      "text/plain": [
       "Intercept       66.476525\n",
       "metro_res       -0.056323\n",
       "white           -0.048144\n",
       "hs_grad         -0.554713\n",
       "female_house     0.050543\n",
       "dtype: float64"
      ]
     },
     "execution_count": 10,
     "metadata": {},
     "output_type": "execute_result"
    }
   ],
   "source": [
    "result = ols(formula=\"poverty ~ metro_res + white + hs_grad + female_house\", data=df).fit()\n",
    "\n",
    "result.params"
   ]
  },
  {
   "cell_type": "code",
   "execution_count": 11,
   "metadata": {},
   "outputs": [
    {
     "data": {
      "text/html": [
       "<table class=\"simpletable\">\n",
       "<caption>OLS Regression Results</caption>\n",
       "<tr>\n",
       "  <th>Dep. Variable:</th>         <td>poverty</td>     <th>  R-squared:         </th> <td>   0.642</td>\n",
       "</tr>\n",
       "<tr>\n",
       "  <th>Model:</th>                   <td>OLS</td>       <th>  Adj. R-squared:    </th> <td>   0.610</td>\n",
       "</tr>\n",
       "<tr>\n",
       "  <th>Method:</th>             <td>Least Squares</td>  <th>  F-statistic:       </th> <td>   20.58</td>\n",
       "</tr>\n",
       "<tr>\n",
       "  <th>Date:</th>             <td>Sat, 28 Nov 2020</td> <th>  Prob (F-statistic):</th> <td>8.88e-10</td>\n",
       "</tr>\n",
       "<tr>\n",
       "  <th>Time:</th>                 <td>13:00:16</td>     <th>  Log-Likelihood:    </th> <td> -103.39</td>\n",
       "</tr>\n",
       "<tr>\n",
       "  <th>No. Observations:</th>      <td>    51</td>      <th>  AIC:               </th> <td>   216.8</td>\n",
       "</tr>\n",
       "<tr>\n",
       "  <th>Df Residuals:</th>          <td>    46</td>      <th>  BIC:               </th> <td>   226.4</td>\n",
       "</tr>\n",
       "<tr>\n",
       "  <th>Df Model:</th>              <td>     4</td>      <th>                     </th>     <td> </td>   \n",
       "</tr>\n",
       "<tr>\n",
       "  <th>Covariance Type:</th>      <td>nonrobust</td>    <th>                     </th>     <td> </td>   \n",
       "</tr>\n",
       "</table>\n",
       "<table class=\"simpletable\">\n",
       "<tr>\n",
       "        <td></td>          <th>coef</th>     <th>std err</th>      <th>t</th>      <th>P>|t|</th>  <th>[0.025</th>    <th>0.975]</th>  \n",
       "</tr>\n",
       "<tr>\n",
       "  <th>Intercept</th>    <td>   66.4765</td> <td>   12.590</td> <td>    5.280</td> <td> 0.000</td> <td>   41.134</td> <td>   91.819</td>\n",
       "</tr>\n",
       "<tr>\n",
       "  <th>metro_res</th>    <td>   -0.0563</td> <td>    0.020</td> <td>   -2.881</td> <td> 0.006</td> <td>   -0.096</td> <td>   -0.017</td>\n",
       "</tr>\n",
       "<tr>\n",
       "  <th>white</th>        <td>   -0.0481</td> <td>    0.033</td> <td>   -1.456</td> <td> 0.152</td> <td>   -0.115</td> <td>    0.018</td>\n",
       "</tr>\n",
       "<tr>\n",
       "  <th>hs_grad</th>      <td>   -0.5547</td> <td>    0.105</td> <td>   -5.288</td> <td> 0.000</td> <td>   -0.766</td> <td>   -0.344</td>\n",
       "</tr>\n",
       "<tr>\n",
       "  <th>female_house</th> <td>    0.0505</td> <td>    0.243</td> <td>    0.208</td> <td> 0.836</td> <td>   -0.439</td> <td>    0.540</td>\n",
       "</tr>\n",
       "</table>\n",
       "<table class=\"simpletable\">\n",
       "<tr>\n",
       "  <th>Omnibus:</th>       <td> 3.254</td> <th>  Durbin-Watson:     </th> <td>   1.891</td>\n",
       "</tr>\n",
       "<tr>\n",
       "  <th>Prob(Omnibus):</th> <td> 0.197</td> <th>  Jarque-Bera (JB):  </th> <td>   3.043</td>\n",
       "</tr>\n",
       "<tr>\n",
       "  <th>Skew:</th>          <td> 0.585</td> <th>  Prob(JB):          </th> <td>   0.218</td>\n",
       "</tr>\n",
       "<tr>\n",
       "  <th>Kurtosis:</th>      <td> 2.750</td> <th>  Cond. No.          </th> <td>6.50e+03</td>\n",
       "</tr>\n",
       "</table><br/><br/>Warnings:<br/>[1] Standard Errors assume that the covariance matrix of the errors is correctly specified.<br/>[2] The condition number is large, 6.5e+03. This might indicate that there are<br/>strong multicollinearity or other numerical problems."
      ],
      "text/plain": [
       "<class 'statsmodels.iolib.summary.Summary'>\n",
       "\"\"\"\n",
       "                            OLS Regression Results                            \n",
       "==============================================================================\n",
       "Dep. Variable:                poverty   R-squared:                       0.642\n",
       "Model:                            OLS   Adj. R-squared:                  0.610\n",
       "Method:                 Least Squares   F-statistic:                     20.58\n",
       "Date:                Sat, 28 Nov 2020   Prob (F-statistic):           8.88e-10\n",
       "Time:                        13:00:16   Log-Likelihood:                -103.39\n",
       "No. Observations:                  51   AIC:                             216.8\n",
       "Df Residuals:                      46   BIC:                             226.4\n",
       "Df Model:                           4                                         \n",
       "Covariance Type:            nonrobust                                         \n",
       "================================================================================\n",
       "                   coef    std err          t      P>|t|      [0.025      0.975]\n",
       "--------------------------------------------------------------------------------\n",
       "Intercept       66.4765     12.590      5.280      0.000      41.134      91.819\n",
       "metro_res       -0.0563      0.020     -2.881      0.006      -0.096      -0.017\n",
       "white           -0.0481      0.033     -1.456      0.152      -0.115       0.018\n",
       "hs_grad         -0.5547      0.105     -5.288      0.000      -0.766      -0.344\n",
       "female_house     0.0505      0.243      0.208      0.836      -0.439       0.540\n",
       "==============================================================================\n",
       "Omnibus:                        3.254   Durbin-Watson:                   1.891\n",
       "Prob(Omnibus):                  0.197   Jarque-Bera (JB):                3.043\n",
       "Skew:                           0.585   Prob(JB):                        0.218\n",
       "Kurtosis:                       2.750   Cond. No.                     6.50e+03\n",
       "==============================================================================\n",
       "\n",
       "Warnings:\n",
       "[1] Standard Errors assume that the covariance matrix of the errors is correctly specified.\n",
       "[2] The condition number is large, 6.5e+03. This might indicate that there are\n",
       "strong multicollinearity or other numerical problems.\n",
       "\"\"\""
      ]
     },
     "execution_count": 11,
     "metadata": {},
     "output_type": "execute_result"
    }
   ],
   "source": [
    "result.summary()"
   ]
  },
  {
   "cell_type": "code",
   "execution_count": 13,
   "metadata": {},
   "outputs": [
    {
     "data": {
      "image/png": "[encoded data removed]",
      "text/plain": [
       "<Figure size 432x648 with 2 Axes>"
      ]
     },
     "metadata": {
      "needs_background": "light"
     },
     "output_type": "display_data"
    }
   ],
   "source": [
    "intercept, slope = ols(formula=\"poverty ~ hs_grad\", data=df).fit().params\n",
    "X = df['hs_grad']\n",
    "Y = df['poverty']\n",
    "\n",
    "# вычисляем остатки - на сколько Y далека от теоретической модели\n",
    "residuals = Y - intercept - slope*X\n",
    "x1=np.linspace(min(X),max(X),len(X))\n",
    "\n",
    "# создаем графики\n",
    "fig, (ax1,ax2) = plt.subplots(nrows=2, ncols=1, figsize=(6, 9))\n",
    "# scatter plot\n",
    "ax1.scatter(X,residuals)\n",
    "ax1.plot(x1,[0]*len(x1),'--r')\n",
    "# Q-Q plot\n",
    "sma.qqplot(residuals, line='s', ax = ax2)\n",
    "\n",
    "ax1.grid()\n",
    "ax1.set_title('Анализ остатков')\n",
    "ax1.set_xlabel('Уровень образования (%)')\n",
    "ax1.set_ylabel('Остатки')\n",
    "ax1.set_xticks(np.arange(76,93, step=4))\n",
    "ax1.set_yticks(np.arange(-5,6, step=2.5))\n",
    "\n",
    "ax2.set_title('QQ-Plot')\n",
    "\n",
    "fig.tight_layout(pad=3.0)"
   ]
  },
  {
   "cell_type": "code",
   "execution_count": 28,
   "metadata": {},
   "outputs": [
    {
     "data": {
      "text/plain": [
       "Text(0, 0.5, 'Остатки')"
      ]
     },
     "execution_count": 28,
     "metadata": {},
     "output_type": "execute_result"
    },
    {
     "data": {
      "image/png": "[encoded data removed]",
      "text/plain": [
       "<Figure size 1440x504 with 3 Axes>"
      ]
     },
     "metadata": {
      "needs_background": "light"
     },
     "output_type": "display_data"
    }
   ],
   "source": [
    "import scipy\n",
    "plt.figure(figsize=(20,7))\n",
    "plt.subplot(131)\n",
    "scipy.stats.probplot(fitted.resid, dist=\"norm\", plot=plt)\n",
    "plt.title(\"QQ-Plot\")\n",
    "\n",
    "plt.subplot(132)\n",
    "(fitted.resid).plot.hist()\n",
    "plt.xlabel('Residuals', fontsize=14)\n",
    "plt.title(\"Остатки\")\n",
    "\n",
    "plt.subplot(133)\n",
    "plt.plot(df['hs_grad'], fitted.resid, 'o')\n",
    "plt.hlines(np.mean(fitted.resid), df['hs_grad'].min(), df['hs_grad'].max(), linestyle='--', colors='red')\n",
    "plt.xlabel(\"Уровень образования (%)\")\n",
    "plt.ylabel(\"Остатки\")"
   ]
  },
  {
   "cell_type": "code",
   "execution_count": null,
   "metadata": {},
   "outputs": [],
   "source": []
  }
 ],
 "metadata": {
  "kernelspec": {
   "display_name": "Python 3",
   "language": "python",
   "name": "python3"
  },
  "language_info": {
   "codemirror_mode": {
    "name": "ipython",
    "version": 3
   },
   "file_extension": ".py",
   "mimetype": "text/x-python",
   "name": "python",
   "nbconvert_exporter": "python",
   "pygments_lexer": "ipython3",
   "version": "3.8.5"
  },
  "toc": {
   "base_numbering": 1,
   "nav_menu": {},
   "number_sections": true,
   "sideBar": true,
   "skip_h1_title": false,
   "title_cell": "Table of Contents",
   "title_sidebar": "Contents",
   "toc_cell": false,
   "toc_position": {},
   "toc_section_display": true,
   "toc_window_display": false
  },
  "varInspector": {
   "cols": {
    "lenName": 16,
    "lenType": 16,
    "lenVar": 40
   },
   "kernels_config": {
    "python": {
     "delete_cmd_postfix": "",
     "delete_cmd_prefix": "del ",
     "library": "var_list.py",
     "varRefreshCmd": "print(var_dic_list())"
    },
    "r": {
     "delete_cmd_postfix": ") ",
     "delete_cmd_prefix": "rm(",
     "library": "var_list.r",
     "varRefreshCmd": "cat(var_dic_list()) "
    }
   },
   "types_to_exclude": [
    "module",
    "function",
    "builtin_function_or_method",
    "instance",
    "_Feature"
   ],
   "window_display": false
  }
 },
 "nbformat": 4,
 "nbformat_minor": 4
}
