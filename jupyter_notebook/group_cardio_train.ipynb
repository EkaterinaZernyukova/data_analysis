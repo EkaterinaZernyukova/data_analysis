{
 "cells": [
  {
   "cell_type": "code",
   "execution_count": 1,
   "metadata": {},
   "outputs": [],
   "source": [
    "import matplotlib as mpl\n",
    "import matplotlib.pyplot as plt\n",
    "import numpy as np\n",
    "import pandas as pd\n",
    "import seaborn as sns"
   ]
  },
  {
   "cell_type": "code",
   "execution_count": 2,
   "metadata": {},
   "outputs": [],
   "source": [
    "df = pd.read_csv(\"../resources/cardio_train.csv\", sep=\";\")\n",
    "df[\"age\"] = (df[\"age\"] /365).round()\n",
    "df[\"height\"] = df[\"height\"]"
   ]
  },
  {
   "cell_type": "code",
   "execution_count": 3,
   "metadata": {},
   "outputs": [],
   "source": [
    "# группировка\n",
    "df_age"
   ]
  },
  {
   "cell_type": "code",
   "execution_count": null,
   "metadata": {},
   "outputs": [],
   "source": [
    "df_2['age4050'] = ((df['age in years'] >= 40) & (df['age in years'] < 50)).astype(int)\n",
    "df_2['age5055'] = ((df['age in years'] >= 50) & (df['age in years'] < 55)).astype(int)\n",
    "df_2['age5560'] = ((df['age in years'] >= 55) & (df['age in years'] < 60)).astype(int)\n",
    "df_2['age6065'] = ((df['age in years'] >= 60) & (df['age in years'] < 65)).astype(int)\n",
    "\n",
    "df_2['aphi120140'] = ((df['ap_hi'] >= 120) & (df['ap_hi'] < 140)).astype(int)\n",
    "df_2['aphi140160'] = ((df['ap_hi'] >= 140) & (df['ap_hi'] < 160)).astype(int)\n",
    "df_2['aphi160180'] = ((df['ap_hi'] >= 160) & (df['ap_hi'] < 180)).astype(int)"
   ]
  }
 ],
 "metadata": {
  "kernelspec": {
   "display_name": "Python 3",
   "language": "python",
   "name": "python3"
  },
  "language_info": {
   "codemirror_mode": {
    "name": "ipython",
    "version": 3
   },
   "file_extension": ".py",
   "mimetype": "text/x-python",
   "name": "python",
   "nbconvert_exporter": "python",
   "pygments_lexer": "ipython3",
   "version": "3.8.5"
  },
  "toc": {
   "base_numbering": 1,
   "nav_menu": {},
   "number_sections": true,
   "sideBar": true,
   "skip_h1_title": false,
   "title_cell": "Table of Contents",
   "title_sidebar": "Contents",
   "toc_cell": false,
   "toc_position": {},
   "toc_section_display": true,
   "toc_window_display": false
  },
  "varInspector": {
   "cols": {
    "lenName": 16,
    "lenType": 16,
    "lenVar": 40
   },
   "kernels_config": {
    "python": {
     "delete_cmd_postfix": "",
     "delete_cmd_prefix": "del ",
     "library": "var_list.py",
     "varRefreshCmd": "print(var_dic_list())"
    },
    "r": {
     "delete_cmd_postfix": ") ",
     "delete_cmd_prefix": "rm(",
     "library": "var_list.r",
     "varRefreshCmd": "cat(var_dic_list()) "
    }
   },
   "types_to_exclude": [
    "module",
    "function",
    "builtin_function_or_method",
    "instance",
    "_Feature"
   ],
   "window_display": false
  }
 },
 "nbformat": 4,
 "nbformat_minor": 4
}
